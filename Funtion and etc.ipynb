{
 "cells": [
  {
   "cell_type": "code",
   "execution_count": null,
   "id": "7f81f009",
   "metadata": {},
   "outputs": [],
   "source": [
    "# print values upto 10\n",
    "val = 0\n",
    "while val<=10:\n",
    "    print(val)\n",
    "    val += 1"
   ]
  },
  {
   "cell_type": "code",
   "execution_count": null,
   "id": "a9e1b4e5",
   "metadata": {},
   "outputs": [
    {
     "name": "stdout",
     "output_type": "stream",
     "text": [
      "Enter the password: sayst\n",
      "Password Incorrect, Please enter again\n"
     ]
    }
   ],
   "source": [
    "main_pwd = 'Python123'\n",
    "pwd1 = input('Enter the password: ')\n",
    "while 1:\n",
    "    if(pwd1 == main_pwd):\n",
    "        print('password is correct')\n",
    "        break\n",
    "    else:\n",
    "        print('Password Incorrect, Please enter again')\n",
    "        pwd1 = input()"
   ]
  },
  {
   "cell_type": "code",
   "execution_count": 7,
   "id": "96236064",
   "metadata": {},
   "outputs": [
    {
     "name": "stdout",
     "output_type": "stream",
     "text": [
      "0b10010110000\n",
      "0o2260\n",
      "0x4b0\n",
      "1200\n"
     ]
    }
   ],
   "source": [
    "# 1. To convert Integer into Binary, octal and hexadecimal\n",
    "a = 1200\n",
    "print(bin(a))    #-- to convert into binary\n",
    "print(oct(a))    #-- to convert into octal\n",
    "print(hex(a))    #-- to convert into hexadecimal\n",
    "\n",
    "print(0b10010110000) #--to convert binary/octal/hexadecimal into Decimal system number\n"
   ]
  },
  {
   "cell_type": "code",
   "execution_count": 12,
   "id": "93731a83",
   "metadata": {},
   "outputs": [
    {
     "name": "stdout",
     "output_type": "stream",
     "text": [
      "Binary equivalent of 123 is:  0b1111011 <class 'str'>\n",
      "octal equivalent of 123 is:  0o173 <class 'str'>\n",
      "hexadecimal equivalent of 123 is:  0x7b <class 'str'>\n"
     ]
    }
   ],
   "source": [
    "# 2. use of\"f\" and \"type()\" \n",
    "#'f' --> Output Formatting\n",
    "dec_num = 123\n",
    "print(f'Binary equivalent of {dec_num} is: ', bin(dec_num), type(bin(dec_num)))\n",
    "print(f'octal equivalent of {dec_num} is: ', oct(dec_num), type(oct(dec_num)))\n",
    "print(f'hexadecimal equivalent of {dec_num} is: ', hex(dec_num), type(hex(dec_num)))\n",
    "\n",
    "# \"Type() is use to determine the data type of output\"\n",
    "# \"{}\" Use this bracket to bring value."
   ]
  },
  {
   "cell_type": "code",
   "execution_count": null,
   "id": "f01dd70f",
   "metadata": {},
   "outputs": [],
   "source": [
    "# 3. Input() function\n",
    "\n",
    "num1 = input('Enter 1st number')\n",
    "num2 = input('Enter 2nd number')\n",
    "print(type(num1))\n",
    "print(type(num2))\n",
    "#Input function take input from user\n",
    "#Input Function convert input from user into string data type\n",
    "# To change data type again, we use typecast function over input like int, float, complex etc\n",
    "num3 = int(input('Enter 3rd number'))    #--> This int will convert data type into Integer\n",
    "num4 = float(input('Enter 4th number'))    #--> This int will convert data type into float\n",
    "num5 = complex(input('Enter 5th number'))    #--> This int will convert data type into complex\n",
    "num6 = complex(int(input('Enter real number')), int(input('Enter imaginary number')))\n",
    "print(num3, type(num3))\n",
    "print(num4, type(num4))\n",
    "print(num5, type(num5))\n",
    "print(num6, type(num6))"
   ]
  },
  {
   "cell_type": "code",
   "execution_count": 6,
   "id": "c120af1e",
   "metadata": {},
   "outputs": [
    {
     "name": "stdout",
     "output_type": "stream",
     "text": [
      "(10+20j) <class 'complex'>\n",
      "[10, 20, 30, 40] <class 'list'>\n"
     ]
    }
   ],
   "source": [
    "# 4. Eval() Function\n",
    "# It will automatically asses the Data type. \n",
    "\n",
    "num1 =eval(input(\"Enter your 1st number: \"))\n",
    "num2 =eval(input(\"Enter your 2nd number: \"))\n",
    "print(f'{num1} + {num2} = {num1+num2}')\n",
    "print(type(num1))\n",
    "b = eval('10+20j')\n",
    "print(b, type(b))\n",
    "a = eval('[10,20,30,40]')\n",
    "print(a, type(a))"
   ]
  },
  {
   "cell_type": "code",
   "execution_count": 21,
   "id": "a31c8836",
   "metadata": {},
   "outputs": [
    {
     "name": "stdout",
     "output_type": "stream",
     "text": [
      "10 20 30 40\n",
      "10 20 30 40\n",
      "10,20,30,40\n",
      "working-->staging-->local-->remote\n",
      "10\n",
      "20\n",
      "30\n",
      "10\t 20 30\u000b",
      "40h50\n",
      "learnbay\n",
      "\tPython\n",
      "\t\tclass\n",
      "\tPython\n",
      "learnbay\n"
     ]
    }
   ],
   "source": [
    "#5. Output function - print()\n",
    "\n",
    "#sep, end --> Sep = Seprator-->In between different output\n",
    "\n",
    "print(10,20,30,40)               # --> By Default seprator is space as below line\n",
    "print(10,20,30,40, sep=' ')\n",
    "print(10, 20, 30, 40, sep=',')   # --> This command will change the seprator to \",\"\n",
    "print('working', 'staging', 'local', 'remote', sep='-->')\n",
    "print(10, end='\\n')              # --> By default function end with '\\n' which is new line\n",
    "print(20)\n",
    "print(30)\n",
    "print(10, end='\\t ')\n",
    "print(20, end=' ')\n",
    "print(30, end='\\v')\n",
    "print(40, end='h')\n",
    "print(50)\n",
    "\n",
    "#learnbay\n",
    "#    Python\n",
    "#           Class\n",
    "#    Python\n",
    "#Learnbay\n",
    "print('learnbay', end='\\n\\t')\n",
    "print('Python', end='\\n\\t\\t')\n",
    "print('class', end='\\n\\t')\n",
    "print('Python', end='\\n')\n",
    "print('learnbay')"
   ]
  },
  {
   "cell_type": "code",
   "execution_count": 17,
   "id": "0a149a68",
   "metadata": {},
   "outputs": [
    {
     "name": "stdout",
     "output_type": "stream",
     "text": [
      "sanc\bhit\n",
      "sanc\bhit\n",
      "2476512764912 s\n",
      "2476514369840 a\n",
      "2476512922096 n\n",
      "2476512902768 c\n",
      "2476517828784 \b\n",
      "2476512922160 h\n",
      "ab\bcd\n",
      "ab \b cd\n",
      "ab\bcd\n",
      "a\b\n",
      "ab cd\n"
     ]
    }
   ],
   "source": [
    "#'\\b' = Backspace\n",
    "\n",
    "print('sanc\\bhit')   # Backspace will delete c\n",
    "a = 'sanc\\bhit'\n",
    "print(a)\n",
    "print(id(a[0]), (a[0]))\n",
    "print(id(a[1]), (a[1]))\n",
    "print(id(a[2]), (a[2]))\n",
    "print(id(a[3]), (a[3]))\n",
    "print(id(a[4]), (a[4]))\n",
    "print(id(a[5]), (a[5]))\n",
    "print('ab'+'\\b'+'cd')\n",
    "print('ab','\\b','cd')\n",
    "print('ab'+'\\b'+'cd')\n",
    "print('\\b')\n",
    "print('ab','cd')"
   ]
  },
  {
   "cell_type": "code",
   "execution_count": 7,
   "id": "dfd8dff5",
   "metadata": {},
   "outputs": [
    {
     "name": "stdout",
     "output_type": "stream",
     "text": [
      "sanchit\r",
      "12345\n",
      "sanchit\r",
      "123456789\n"
     ]
    }
   ],
   "source": [
    "#'\\r' = Carriage return\n",
    "\n",
    "print('sanchit\\r12345')\n",
    "print('sanchit\\r123456789')"
   ]
  },
  {
   "cell_type": "code",
   "execution_count": 11,
   "id": "0d256d0c",
   "metadata": {},
   "outputs": [
    {
     "name": "stdout",
     "output_type": "stream",
     "text": [
      "raw\n",
      "string\n",
      "raw\\nstring\n"
     ]
    }
   ],
   "source": [
    "# r = raw string\n",
    "\n",
    "print('raw\\nstring')\n",
    "print(r'raw\\nstring')"
   ]
  },
  {
   "cell_type": "code",
   "execution_count": 22,
   "id": "5fc65953",
   "metadata": {},
   "outputs": [
    {
     "name": "stdout",
     "output_type": "stream",
     "text": [
      "1000\n"
     ]
    }
   ],
   "source": [
    "#6. Power function\n",
    "print(pow(10, 3))   #--->10**3 "
   ]
  },
  {
   "cell_type": "code",
   "execution_count": 5,
   "id": "09a79816",
   "metadata": {},
   "outputs": [
    {
     "name": "stdout",
     "output_type": "stream",
     "text": [
      "True\n",
      "True\n",
      "True\n",
      "True\n",
      "True\n",
      "True\n",
      "True\n",
      "All 0, 0.0, blank are false, rest everything else is true\n",
      "False\n",
      "False\n",
      "False\n",
      "False\n",
      "False\n",
      "False\n",
      "False\n"
     ]
    }
   ],
   "source": [
    "#7. Bool() Function\n",
    "#It determine boolean (true and false) of any data type\n",
    "print(bool(10))\n",
    "print(bool(10.0))\n",
    "print(bool('10'))\n",
    "print(bool(10+2j))\n",
    "print(bool((0.0,)))\n",
    "print(bool([0]))\n",
    "print(bool({0}))\n",
    "print('All 0, 0.0, blank are false, rest everything else is true')\n",
    "print(bool(0))\n",
    "print(bool(0.0))\n",
    "print(bool(''))\n",
    "print(bool(0.0+0.0j))\n",
    "print(bool(()))\n",
    "print(bool([]))\n",
    "print(bool({}))"
   ]
  },
  {
   "cell_type": "code",
   "execution_count": 6,
   "id": "60f90937",
   "metadata": {},
   "outputs": [
    {
     "name": "stdout",
     "output_type": "stream",
     "text": [
      "10\n",
      "10\n"
     ]
    }
   ],
   "source": [
    "#8. Int function--> It will convert values into integer.\n",
    "# All Valid cases are\n",
    "print(int(10))\n",
    "print(int(10.20))\n",
    "print(int(True))\n",
    "print(int('10'))\n",
    "print(int(0b10101))\n",
    "print(int(0o7654))\n",
    "print(int(0xfc98))\n",
    "\n",
    "#Cases which are not valid as they are string or complex\n",
    "print(int('10.20'))\n",
    "print(int('a'))\n",
    "print(int('true'))\n",
    "print(int(10+20j))\n",
    "print(int('0b101101'))\n",
    "print(int('0o7654'))\n",
    "print(int('0xfc98'))"
   ]
  },
  {
   "cell_type": "code",
   "execution_count": null,
   "id": "70343aad",
   "metadata": {},
   "outputs": [],
   "source": [
    "#9. float function--> It will convert values into float.\n",
    "# All Valid cases are\n",
    "print(float(10))\n",
    "print(float(10.20))\n",
    "print(float(True))\n",
    "print(float('10'))\n",
    "print(float(0b10101))\n",
    "print(float(0o7654))\n",
    "print(float(0xfc98))\n",
    "print(float('10.20'))\n",
    "\n",
    "#Cases which are not valid as they are string or complex\n",
    "print(float('a'))\n",
    "print(float('true'))\n",
    "print(float(10+20j))\n",
    "print(float('0b101101'))\n",
    "print(float('0o7654'))\n",
    "print(float('0xfc98'))"
   ]
  },
  {
   "cell_type": "code",
   "execution_count": 5,
   "id": "44457e41",
   "metadata": {},
   "outputs": [
    {
     "name": "stdout",
     "output_type": "stream",
     "text": [
      "(10+20j) <class 'complex'>\n",
      "10.0\n",
      "20.0\n",
      "(2+0j)\n",
      "(2+4j)\n",
      "(2.3+0j)\n",
      "(1+0j)\n",
      "(10+0j)\n",
      "(10.2+0j)\n",
      "(10+0j)\n",
      "(10.2+0j)\n",
      "(2+0j)\n"
     ]
    }
   ],
   "source": [
    "#10. Complex function--> a+bj\n",
    "a = 10+20j\n",
    "print(a,type(a))\n",
    "print(a.real)\n",
    "print(a.imag)\n",
    "\n",
    "#complex(real) --> real+0j\n",
    "#complex(real, imag) --> real+imag*j\n",
    "\n",
    "print(complex(2))     #--> 2+0j\n",
    "print(complex(2, 4))  #--> 2+4j\n",
    "\n",
    "# if first value passed is string then complex function will not take the 2nd args.\n",
    "# 2nd arg can never be a string value.\n",
    "#all valid cases\n",
    "print(complex(2.3))\n",
    "print(complex(True))\n",
    "print(complex(0b1010))\n",
    "print(complex('10.20'))\n",
    "print(complex(0b1010))\n",
    "print(complex('10.20'))\n",
    "print(complex('2'))\n",
    "\n",
    "#invalid cases\n",
    "#print(complex('2.3', 20))\n",
    "#print(complex(10,'20'))"
   ]
  },
  {
   "cell_type": "code",
   "execution_count": 11,
   "id": "ba4e4d1c",
   "metadata": {},
   "outputs": [
    {
     "name": "stdout",
     "output_type": "stream",
     "text": [
      "[0, 1, 2, 3, 4]\n",
      "[-3, -5, -7]\n",
      "[12, 13, 14, 15]\n",
      "[12, 10, 8, 6, 4, 2, 0, -2, -4, -6, -8, -10, -12, -14]\n"
     ]
    }
   ],
   "source": [
    "# Range function\n",
    "\n",
    "# Syntax\n",
    "\n",
    "# range(start, stop, step)\n",
    "# Start is inclusive and stop is exclusive\n",
    "# range(stop)   --> Start = 0(by default in this) and step = +1 (By default)\n",
    "# generating a sequence of number from left to right --> Step--> +ve Value\n",
    "# generating a sequence of number from right to left --> Step--> -ve Value\n",
    "# Step = +/- 1 (Seq of consecutive number), +/- 2 (Seq of every 2nd number), +/- 3 (Seq of every 3rd number)\n",
    "\n",
    "print(list(range(5)))    #---> [0, 1, 2, 3, 4]\n",
    "print(list(range(-3, -8, -2)))    #--> [-3, -5, -7]\n",
    "print(list(range(12, 16)))        #[12, 13, 14, 15]\n",
    "print(list(range(12, -16, -2)))   #[12, 10, 8, 6, 4, 2, 0, -2, -4, -6, -8, -10, -12, -14]"
   ]
  },
  {
   "cell_type": "code",
   "execution_count": 3,
   "id": "11962430",
   "metadata": {},
   "outputs": [
    {
     "data": {
      "text/plain": [
       "[('p', 10), ('u', 20), ('t', 30), ('h', 40), ('o', 50), ('n', 60)]"
      ]
     },
     "execution_count": 3,
     "metadata": {},
     "output_type": "execute_result"
    }
   ],
   "source": [
    "# Few Built in Function\n",
    "\n",
    "#Zip(iter1, iter2, iter3)\n",
    "\n",
    "list(zip('puthon', [10,20,30,40,50,60], (1,2,3,4,5,6)))\n",
    "\n",
    "list(zip('puthon', [10,20,30,40,50,60]))\n",
    "#Zip will combine whichever iter has minimum items.\n"
   ]
  },
  {
   "cell_type": "code",
   "execution_count": 1,
   "id": "df7beca6",
   "metadata": {},
   "outputs": [
    {
     "data": {
      "text/plain": [
       "[(0, 'p'), (1, 'y'), (2, 't'), (3, 'h'), (4, 'o'), (5, 'n')]"
      ]
     },
     "execution_count": 1,
     "metadata": {},
     "output_type": "execute_result"
    }
   ],
   "source": [
    "# enumerate function\n",
    "\n",
    "#enumerate(iterable)\n",
    "\n",
    "#it creates list of tuple of pair values of index and value at that index\n",
    "\n",
    "list(enumerate('python'))\n",
    "\n",
    "# for i, j in enumerate('python'):     \n",
    "#     print(i)\n",
    "#     print(j)\n",
    "    \n",
    "# for i, j in enumerate([10,20,30,40]):     \n",
    "#     print(i)\n",
    "#     print(j)\n",
    "\n",
    "# for i, j in enumerate({10:100, 20:200, 30:300}):     \n",
    "#     print(i)\n",
    "#     print(j)\n",
    "\n",
    "#i is index here\n",
    "#j is value of index\n",
    "\n"
   ]
  },
  {
   "cell_type": "code",
   "execution_count": 18,
   "id": "00491075",
   "metadata": {},
   "outputs": [
    {
     "data": {
      "text/plain": [
       "[40, 30, 20, 10]"
      ]
     },
     "execution_count": 18,
     "metadata": {},
     "output_type": "execute_result"
    }
   ],
   "source": [
    "#Reversed function --> It can take any iterable\n",
    "list(reversed('python'))\n",
    "\n",
    "list(reversed((10,20,30,40)))\n"
   ]
  },
  {
   "cell_type": "code",
   "execution_count": 2,
   "id": "6250a245",
   "metadata": {},
   "outputs": [
    {
     "name": "stdout",
     "output_type": "stream",
     "text": [
      "['g', 'f', 'e', 'd', 'c', 'b', 'E', 'B', 'A', '3', '2', '1']\n"
     ]
    },
    {
     "data": {
      "text/plain": [
       "[10, 20, 25, 30, 100]"
      ]
     },
     "execution_count": 2,
     "metadata": {},
     "output_type": "execute_result"
    }
   ],
   "source": [
    "# Sorted method ---> It sort the iterable from lower to higher\n",
    "\n",
    "a = list(sorted('AefgBbcdE321'))\n",
    "print(a[::-1])\n",
    "    #-->['A', 'B', 'E', 'b', 'c', 'd', 'e', 'f', 'g']\n",
    "\n",
    "list(sorted([10,30,20,100,25]))    #--> [10, 20, 25, 30, 100]"
   ]
  },
  {
   "cell_type": "raw",
   "id": "bbb1655e",
   "metadata": {},
   "source": []
  },
  {
   "cell_type": "code",
   "execution_count": null,
   "id": "284481da",
   "metadata": {},
   "outputs": [],
   "source": []
  },
  {
   "cell_type": "code",
   "execution_count": null,
   "id": "46bd8ce9",
   "metadata": {},
   "outputs": [],
   "source": []
  }
 ],
 "metadata": {
  "kernelspec": {
   "display_name": "Python 3",
   "language": "python",
   "name": "python3"
  },
  "language_info": {
   "codemirror_mode": {
    "name": "ipython",
    "version": 3
   },
   "file_extension": ".py",
   "mimetype": "text/x-python",
   "name": "python",
   "nbconvert_exporter": "python",
   "pygments_lexer": "ipython3",
   "version": "3.8.8"
  }
 },
 "nbformat": 4,
 "nbformat_minor": 5
}
