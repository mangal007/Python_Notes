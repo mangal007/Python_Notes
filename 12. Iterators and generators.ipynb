{
 "cells": [
  {
   "cell_type": "markdown",
   "id": "272a9c22",
   "metadata": {},
   "source": [
    "# Iterators"
   ]
  },
  {
   "cell_type": "code",
   "execution_count": 1,
   "id": "e5cb4a28",
   "metadata": {},
   "outputs": [
    {
     "name": "stdout",
     "output_type": "stream",
     "text": [
      "['__add__', '__class__', '__contains__', '__delattr__', '__delitem__', '__dir__', '__doc__', '__eq__', '__format__', '__ge__', '__getattribute__', '__getitem__', '__gt__', '__hash__', '__iadd__', '__imul__', '__init__', '__init_subclass__', '__iter__', '__le__', '__len__', '__lt__', '__mul__', '__ne__', '__new__', '__reduce__', '__reduce_ex__', '__repr__', '__reversed__', '__rmul__', '__setattr__', '__setitem__', '__sizeof__', '__str__', '__subclasshook__', 'append', 'clear', 'copy', 'count', 'extend', 'index', 'insert', 'pop', 'remove', 'reverse', 'sort']\n"
     ]
    }
   ],
   "source": [
    "#iterators and generators\n",
    "\n",
    "# Container type --> list, tuple, dictionary, set, frozenset, byte, bytearray\n",
    "\n",
    "print(dir(list))\n"
   ]
  },
  {
   "cell_type": "code",
   "execution_count": null,
   "id": "c738751a",
   "metadata": {},
   "outputs": [],
   "source": [
    "# iterable objects implements __iter__function"
   ]
  },
  {
   "cell_type": "code",
   "execution_count": 1,
   "id": "5848c88f",
   "metadata": {},
   "outputs": [
    {
     "name": "stdout",
     "output_type": "stream",
     "text": [
      "['__class__', '__delattr__', '__dir__', '__doc__', '__eq__', '__format__', '__ge__', '__getattribute__', '__gt__', '__hash__', '__init__', '__init_subclass__', '__iter__', '__le__', '__lt__', '__ne__', '__new__', '__next__', '__reduce__', '__reduce_ex__', '__repr__', '__setattr__', '__sizeof__', '__str__', '__subclasshook__']\n"
     ]
    }
   ],
   "source": [
    "# iterator object is a object which allows you to iterate over container or iterable object\n",
    "\n",
    "#iterator object implements __iter__ , __next__  function\n",
    "\n",
    "# if object doesn't contain \"__next__\" function then it is not a iterator\n",
    "\n",
    "# Zip, enumerate, reversed, filter, map\n",
    "\n",
    "\n",
    "print(dir(enumerate))   # it contain __iter__ and __next__ so it is iterator object"
   ]
  },
  {
   "cell_type": "code",
   "execution_count": 10,
   "id": "ed0cd1f7",
   "metadata": {},
   "outputs": [],
   "source": [
    "a = enumerate('Python')\n",
    "print(next(a))    # --> (0, 'P')\n",
    "print(next(a))    # --> (1, 'y')\n",
    "print(next(a))    # --> (2, 't')\n",
    "print(next(a))    # --> (3, 'h')\n",
    "print(next(a))    # --> (4, 'o')\n",
    "print(next(a))    # --> (5, 'n')\n",
    "print(next(a))    # This will giver error as there is nothing to iterate over now.\n"
   ]
  },
  {
   "cell_type": "code",
   "execution_count": 11,
   "id": "0baa08f3",
   "metadata": {},
   "outputs": [
    {
     "name": "stdout",
     "output_type": "stream",
     "text": [
      "10\n",
      "20\n"
     ]
    }
   ],
   "source": [
    "# next will not work on iterable like list, tuple. etc.\n",
    "\n",
    "# so we have to convert list into iterator object. \n",
    "\n",
    "lst = (10,20,30,40,50)\n",
    "\n",
    "my_iter = iter(lst)\n",
    "print(next(my_iter))     #--> 10\n",
    "print(next(my_iter))     #--> 20 \n",
    "print(next(my_iter))     #--> 30 \n",
    "print(next(my_iter))     #--> 40 \n",
    "print(next(my_iter))     #--> 50\n",
    "\n",
    "print(dir(my_iter))      #--> This contain __iter__ and __next__ function so it is a iterator now.\n",
    "\n",
    "# for loop behind the scene work like iterator which fetches next value over ever loop."
   ]
  },
  {
   "cell_type": "markdown",
   "id": "5fd14444",
   "metadata": {},
   "source": [
    "# Generator"
   ]
  },
  {
   "cell_type": "code",
   "execution_count": null,
   "id": "3107a684",
   "metadata": {},
   "outputs": [],
   "source": [
    "# syntax of Generator is similar to function defination\n",
    "\n",
    "# In the case of generator we use \"yield\"\n",
    "\n",
    "# \"yield\" is similar to return\n",
    "\n",
    "# Generator is used to define user defined sequence.\n",
    "\n",
    "# Generator is efficient in terms of memory and speed both."
   ]
  },
  {
   "cell_type": "code",
   "execution_count": 19,
   "id": "e473795b",
   "metadata": {},
   "outputs": [
    {
     "name": "stdout",
     "output_type": "stream",
     "text": [
      "87616\n",
      "112\n",
      "<generator object <genexpr> at 0x000002A937271F90>\n",
      "0\n",
      "1\n"
     ]
    }
   ],
   "source": [
    "import sys\n",
    "lst = [i for i in range(10000)]\n",
    "print(sys.getsizeof(lst))         # 87616 bytes\n",
    "\n",
    "import sys\n",
    "tpl = (i for i in range(10000))\n",
    "print(sys.getsizeof(tpl))         #112 bytes\n",
    "print(tpl)                        #<generator object <genexpr> at 0x000002A937271970>\n",
    "\n",
    "#generator object is also a iterator object\n",
    "#print(dir(tpl))    # __iter__, __next__\n",
    "print(next(tpl))    #--> 0\n",
    "print(next(tpl))    #--> 1\n",
    "\n",
    "# In case of list, values in list are stored in memory immediately\n",
    "# In case of generator, it doesn't stor values immediately, it only put them in memory when we call them using next"
   ]
  },
  {
   "cell_type": "code",
   "execution_count": 22,
   "id": "288d7ec6",
   "metadata": {},
   "outputs": [
    {
     "name": "stdout",
     "output_type": "stream",
     "text": [
      "10\n",
      "python\n",
      "10.2\n",
      "(10+20j)\n",
      "[1, 2, 3]\n"
     ]
    }
   ],
   "source": [
    "def my_gen():\n",
    "    a = 10\n",
    "    b = 20\n",
    "    c = 30\n",
    "    yield 10\n",
    "    yield 'python'\n",
    "    yield 10.20\n",
    "    yield 10+20j\n",
    "    yield [1,2,3]\n",
    "# Functions can have only one return and then function is ended\n",
    "# Generator can have any number of yield\n",
    "    \n",
    "g = my_gen()   # This is generator object\n",
    "\n",
    "for i in g:\n",
    "    print(i)"
   ]
  },
  {
   "cell_type": "code",
   "execution_count": null,
   "id": "ef32f540",
   "metadata": {},
   "outputs": [],
   "source": [
    "# Use of Generator\n",
    "# Generator is used when we read a file. it doesn't immediately save everything from file into memory.\n",
    "# We can iterate over items in file."
   ]
  },
  {
   "cell_type": "code",
   "execution_count": 3,
   "id": "c182bc46",
   "metadata": {},
   "outputs": [
    {
     "name": "stdout",
     "output_type": "stream",
     "text": [
      "50\n",
      "ye to mast hai\n"
     ]
    }
   ],
   "source": [
    "def fun(num1, num2):\n",
    "    c = num1+num2\n",
    "    yield c\n",
    "    yield \"ye to mast hai\"\n",
    "    \n",
    "f = fun(10,40)\n",
    "for i in f:\n",
    "    print(i)"
   ]
  },
  {
   "cell_type": "code",
   "execution_count": null,
   "id": "32b0c632",
   "metadata": {},
   "outputs": [],
   "source": []
  },
  {
   "cell_type": "code",
   "execution_count": null,
   "id": "b7fa0781",
   "metadata": {},
   "outputs": [],
   "source": []
  },
  {
   "cell_type": "code",
   "execution_count": null,
   "id": "b835a330",
   "metadata": {},
   "outputs": [],
   "source": []
  },
  {
   "cell_type": "code",
   "execution_count": null,
   "id": "aa94a2ca",
   "metadata": {},
   "outputs": [],
   "source": []
  }
 ],
 "metadata": {
  "kernelspec": {
   "display_name": "Python 3",
   "language": "python",
   "name": "python3"
  },
  "language_info": {
   "codemirror_mode": {
    "name": "ipython",
    "version": 3
   },
   "file_extension": ".py",
   "mimetype": "text/x-python",
   "name": "python",
   "nbconvert_exporter": "python",
   "pygments_lexer": "ipython3",
   "version": "3.8.8"
  }
 },
 "nbformat": 4,
 "nbformat_minor": 5
}
