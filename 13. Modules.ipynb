{
 "cells": [
  {
   "cell_type": "code",
   "execution_count": 5,
   "id": "2390a301",
   "metadata": {},
   "outputs": [],
   "source": [
    "# from IPython.display import Image\n",
    "# Image('path/B.T.Homeo.jpeg')"
   ]
  },
  {
   "cell_type": "code",
   "execution_count": null,
   "id": "a2bfca7f",
   "metadata": {},
   "outputs": [],
   "source": [
    "# Module --> A python file with extension '.py' is always called as module\n",
    "\n",
    "# Type of Module\n",
    "1. Built in --> math, sys, os, random, datetime\n",
    "2. user defined --> any function defined by user is called as user defined function and can be imported."
   ]
  },
  {
   "cell_type": "code",
   "execution_count": 6,
   "id": "8c69f648",
   "metadata": {},
   "outputs": [
    {
     "name": "stdout",
     "output_type": "stream",
     "text": [
      "['Image', 'In', 'Out', '_', '_4', '__', '___', '__builtin__', '__builtins__', '__doc__', '__loader__', '__name__', '__package__', '__spec__', '_dh', '_i', '_i1', '_i2', '_i3', '_i4', '_i5', '_i6', '_ih', '_ii', '_iii', '_oh', 'exit', 'get_ipython', 'quit']\n"
     ]
    }
   ],
   "source": [
    "print(dir())"
   ]
  },
  {
   "cell_type": "code",
   "execution_count": 2,
   "id": "69180d9f",
   "metadata": {},
   "outputs": [],
   "source": [
    "a = 10     # Now is added in global namespace as can be seen below."
   ]
  },
  {
   "cell_type": "code",
   "execution_count": 3,
   "id": "4da8a3a8",
   "metadata": {},
   "outputs": [
    {
     "name": "stdout",
     "output_type": "stream",
     "text": [
      "['In', 'Out', '_', '__', '___', '__builtin__', '__builtins__', '__doc__', '__loader__', '__name__', '__package__', '__spec__', '_dh', '_i', '_i1', '_i2', '_i3', '_ih', '_ii', '_iii', '_oh', 'a', 'exit', 'get_ipython', 'quit']\n"
     ]
    }
   ],
   "source": [
    "print(dir())"
   ]
  },
  {
   "cell_type": "code",
   "execution_count": null,
   "id": "01042789",
   "metadata": {},
   "outputs": [],
   "source": [
    "print(z) # This will give error as z is not defined right now in global namespace."
   ]
  },
  {
   "cell_type": "code",
   "execution_count": 1,
   "id": "33346954",
   "metadata": {},
   "outputs": [
    {
     "name": "stdout",
     "output_type": "stream",
     "text": [
      "['In', 'Out', '_', '__', '___', '__builtin__', '__builtins__', '__doc__', '__loader__', '__name__', '__package__', '__spec__', '_dh', '_i', '_i1', '_ih', '_ii', '_iii', '_oh', 'exit', 'get_ipython', 'quit']\n",
      "\n",
      "['In', 'Out', '_', '__', '___', '__builtin__', '__builtins__', '__doc__', '__loader__', '__name__', '__package__', '__spec__', '_dh', '_i', '_i1', '_ih', '_ii', '_iii', '_oh', 'exit', 'get_ipython', 'math', 'quit']\n"
     ]
    }
   ],
   "source": [
    "print(dir())\n",
    "import math\n",
    "print()\n",
    "print(dir())    #math is added into directory"
   ]
  },
  {
   "cell_type": "code",
   "execution_count": 2,
   "id": "0791e3fc",
   "metadata": {},
   "outputs": [
    {
     "name": "stdout",
     "output_type": "stream",
     "text": [
      "['__doc__', '__loader__', '__name__', '__package__', '__spec__', 'acos', 'acosh', 'asin', 'asinh', 'atan', 'atan2', 'atanh', 'ceil', 'comb', 'copysign', 'cos', 'cosh', 'degrees', 'dist', 'e', 'erf', 'erfc', 'exp', 'expm1', 'fabs', 'factorial', 'floor', 'fmod', 'frexp', 'fsum', 'gamma', 'gcd', 'hypot', 'inf', 'isclose', 'isfinite', 'isinf', 'isnan', 'isqrt', 'ldexp', 'lgamma', 'log', 'log10', 'log1p', 'log2', 'modf', 'nan', 'perm', 'pi', 'pow', 'prod', 'radians', 'remainder', 'sin', 'sinh', 'sqrt', 'tan', 'tanh', 'tau', 'trunc']\n"
     ]
    }
   ],
   "source": [
    "print(dir(math))    # to see functions of math"
   ]
  },
  {
   "cell_type": "markdown",
   "id": "0e62f086",
   "metadata": {},
   "source": [
    "### Different ways to import module"
   ]
  },
  {
   "cell_type": "code",
   "execution_count": null,
   "id": "00c2a974",
   "metadata": {},
   "outputs": [],
   "source": [
    "# Three methods to use functions of math\n",
    "\n",
    "1. import math\n",
    "2. from math import *\n",
    "3. from math import sqrt, sin, pi\n",
    "4. from math import sqrt as a"
   ]
  },
  {
   "cell_type": "code",
   "execution_count": 3,
   "id": "ac052fbb",
   "metadata": {},
   "outputs": [
    {
     "data": {
      "text/plain": [
       "2.0"
      ]
     },
     "execution_count": 3,
     "metadata": {},
     "output_type": "execute_result"
    }
   ],
   "source": [
    "# Method 1\n",
    "import math\n",
    "\n",
    "math.sqrt(4)"
   ]
  },
  {
   "cell_type": "code",
   "execution_count": null,
   "id": "1aabff9c",
   "metadata": {},
   "outputs": [],
   "source": [
    "# Method 2\n",
    "from math import *\n",
    "\n",
    "# This is waste method as it will bring all functions of math into directory which will waste memory\n"
   ]
  },
  {
   "cell_type": "code",
   "execution_count": null,
   "id": "7b7387d6",
   "metadata": {},
   "outputs": [],
   "source": [
    "# Method 3 --> This will save memory as it will bring sqrt in directory and not all functions of math.\n",
    "from math import sqrt\n",
    "\n",
    "# THIS IS THE BEST PRACTICE TO USE."
   ]
  },
  {
   "cell_type": "code",
   "execution_count": null,
   "id": "a15d4b9a",
   "metadata": {},
   "outputs": [],
   "source": [
    "#Method 4 --> aliasing. This is same as method 3. it just rename the function"
   ]
  },
  {
   "cell_type": "code",
   "execution_count": null,
   "id": "51ea7e99",
   "metadata": {},
   "outputs": [],
   "source": [
    "Modules ---> A python file\n",
    "Packages --> Collection of Module is package"
   ]
  },
  {
   "cell_type": "markdown",
   "id": "f8d6eedd",
   "metadata": {},
   "source": [
    "# HOW TO CREATE OUR OWN MODULE"
   ]
  },
  {
   "cell_type": "code",
   "execution_count": 1,
   "id": "4e5fc6de",
   "metadata": {},
   "outputs": [
    {
     "name": "stdout",
     "output_type": "stream",
     "text": [
      "['In', 'Out', '_', '__', '___', '__builtin__', '__builtins__', '__doc__', '__loader__', '__name__', '__package__', '__spec__', '_dh', '_i', '_i1', '_ih', '_ii', '_iii', '_oh', 'exit', 'get_ipython', 'quit']\n",
      "\n",
      "\"my_module\" is added into directory\n",
      "\n",
      "['In', 'Out', '_', '__', '___', '__builtin__', '__builtins__', '__doc__', '__loader__', '__name__', '__package__', '__spec__', '_dh', '_i', '_i1', '_ih', '_ii', '_iii', '_oh', 'exit', 'get_ipython', 'my_module', 'quit']\n"
     ]
    }
   ],
   "source": [
    "print(dir()) \n",
    "import my_module                  # my_module file should be in same folder\n",
    "print()\n",
    "print('\"my_module\" is added into directory')\n",
    "print()\n",
    "print(dir())"
   ]
  },
  {
   "cell_type": "code",
   "execution_count": 2,
   "id": "5088e1d1",
   "metadata": {},
   "outputs": [
    {
     "name": "stdout",
     "output_type": "stream",
     "text": [
      "['__builtins__', '__cached__', '__doc__', '__file__', '__loader__', '__name__', '__package__', '__spec__', 'fact', 'palindrome']\n"
     ]
    }
   ],
   "source": [
    "print(dir(my_module))    # 'fact', 'palindrome' follwoing functions inside our my_module"
   ]
  },
  {
   "cell_type": "code",
   "execution_count": 8,
   "id": "8713549f",
   "metadata": {},
   "outputs": [
    {
     "name": "stdout",
     "output_type": "stream",
     "text": [
      "string is not a palindrome\n"
     ]
    },
    {
     "data": {
      "text/plain": [
       "6"
      ]
     },
     "execution_count": 8,
     "metadata": {},
     "output_type": "execute_result"
    }
   ],
   "source": [
    "my_module.palindrome('abcd')\n",
    "my_module.fact(3)\n",
    "\n",
    "# to call our own function."
   ]
  },
  {
   "cell_type": "code",
   "execution_count": null,
   "id": "63dcabf7",
   "metadata": {},
   "outputs": [],
   "source": [
    "# Modular programming\n",
    "\n",
    "# So we create modules in project which contain functions and we import those function in main file.\n",
    "\n",
    "# Advantage of Modular programing is :-\n",
    "# 1. Neat and clean code\n",
    "# 2. If there is change or update, you can simply update function and no need to look here and there."
   ]
  },
  {
   "cell_type": "code",
   "execution_count": null,
   "id": "a4067414",
   "metadata": {},
   "outputs": [],
   "source": [
    "# Each file has its own globals space\n",
    "\n",
    "# In each global name space you will see a function as \" __name__ \""
   ]
  },
  {
   "cell_type": "code",
   "execution_count": 9,
   "id": "7e2a0c8a",
   "metadata": {},
   "outputs": [
    {
     "name": "stdout",
     "output_type": "stream",
     "text": [
      "__main__\n"
     ]
    }
   ],
   "source": [
    "print(__name__)"
   ]
  },
  {
   "cell_type": "code",
   "execution_count": null,
   "id": "5216f9a7",
   "metadata": {},
   "outputs": [],
   "source": [
    "# A file name in itself is always \"__main__\"\n",
    "\n",
    "# but if a file is import as a module into another file then its name in that file become it's original name and not __main__"
   ]
  },
  {
   "cell_type": "code",
   "execution_count": 1,
   "id": "32bdde21",
   "metadata": {},
   "outputs": [
    {
     "name": "stdout",
     "output_type": "stream",
     "text": [
      "my_module\n"
     ]
    }
   ],
   "source": [
    "import my_module"
   ]
  },
  {
   "cell_type": "code",
   "execution_count": null,
   "id": "89657b2a",
   "metadata": {},
   "outputs": [],
   "source": []
  },
  {
   "cell_type": "code",
   "execution_count": null,
   "id": "b13bd616",
   "metadata": {},
   "outputs": [],
   "source": []
  },
  {
   "cell_type": "code",
   "execution_count": null,
   "id": "19b8b6f4",
   "metadata": {},
   "outputs": [],
   "source": []
  },
  {
   "cell_type": "code",
   "execution_count": null,
   "id": "9658de52",
   "metadata": {},
   "outputs": [],
   "source": []
  },
  {
   "cell_type": "code",
   "execution_count": null,
   "id": "37385857",
   "metadata": {},
   "outputs": [],
   "source": []
  },
  {
   "cell_type": "code",
   "execution_count": null,
   "id": "04e6a659",
   "metadata": {},
   "outputs": [],
   "source": []
  },
  {
   "cell_type": "code",
   "execution_count": null,
   "id": "1616f05e",
   "metadata": {},
   "outputs": [],
   "source": []
  },
  {
   "cell_type": "code",
   "execution_count": null,
   "id": "05f4310b",
   "metadata": {},
   "outputs": [],
   "source": []
  },
  {
   "cell_type": "code",
   "execution_count": null,
   "id": "0bce93a7",
   "metadata": {},
   "outputs": [],
   "source": []
  },
  {
   "cell_type": "code",
   "execution_count": null,
   "id": "3caac861",
   "metadata": {},
   "outputs": [],
   "source": []
  },
  {
   "cell_type": "code",
   "execution_count": null,
   "id": "b3129c9f",
   "metadata": {},
   "outputs": [],
   "source": []
  }
 ],
 "metadata": {
  "kernelspec": {
   "display_name": "Python 3",
   "language": "python",
   "name": "python3"
  },
  "language_info": {
   "codemirror_mode": {
    "name": "ipython",
    "version": 3
   },
   "file_extension": ".py",
   "mimetype": "text/x-python",
   "name": "python",
   "nbconvert_exporter": "python",
   "pygments_lexer": "ipython3",
   "version": "3.8.8"
  }
 },
 "nbformat": 4,
 "nbformat_minor": 5
}
