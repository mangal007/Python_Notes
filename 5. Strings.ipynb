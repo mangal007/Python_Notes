{
 "cells": [
  {
   "cell_type": "code",
   "execution_count": 9,
   "id": "b930378d",
   "metadata": {},
   "outputs": [
    {
     "name": "stdout",
     "output_type": "stream",
     "text": [
      "This is python's class\n",
      "This is \"pythons\" class\n",
      "This is \"python\" and 'java' clasee\n",
      "this\n",
      "is\n",
      "python\n",
      "class\n",
      "This is f1 function\n",
      "Help on function f1 in module __main__:\n",
      "\n",
      "f1()\n",
      "    This is f1 function\n",
      "\n"
     ]
    }
   ],
   "source": [
    "#Strings in python\n",
    "#anything kept in quotation\n",
    "#String is Immutable\n",
    "#string is a sequence so indexing, slicing, concatention, repetition is possible\n",
    "# Various quoatation's can be used\n",
    "# '...', \"...\", ''....'', \"\"....\"\", '''....''', \"\"\"....\"\"\"\n",
    "\n",
    "#Different quotation are used to clear out confusion of apostrophies\n",
    "\n",
    "my_str = \"This is python's class\"    #----> 'This is python's class' --->error, to avoid we use \"....\"\n",
    "print(my_str)\n",
    "\n",
    "my_str = 'This is \"pythons\" class'\n",
    "print(my_str)\n",
    "\n",
    "my_str = '''This is \"python\" and 'java' clasee'''\n",
    "print(my_str)\n",
    "\n",
    "my_str = '''this\n",
    "is\n",
    "python\n",
    "class'''\n",
    "print(my_str)\n",
    "\n",
    "#To write the documentation\n",
    "def f1():\n",
    "    '''This is f1 function'''    #--->If string is written below function in triple quotes it will be used as documentation only\n",
    "    return 10\n",
    "f1()\n",
    "print(f1.__doc__)\n",
    "help(f1)\n"
   ]
  },
  {
   "cell_type": "code",
   "execution_count": 2,
   "id": "5475aaf3",
   "metadata": {},
   "outputs": [],
   "source": [
    "#String is immutable\n",
    "\n",
    "# a = 'python'\n",
    "# a[1] = 't'    #Error as it is immutable"
   ]
  },
  {
   "cell_type": "code",
   "execution_count": null,
   "id": "f7445e20",
   "metadata": {},
   "outputs": [],
   "source": [
    "#String is saved at two levels\n",
    "    #1. At individual element level\n",
    "    #2. Whole string object level\n",
    "#String is a seq\n",
    "    # Indexing, slicing, concatenation, repetition, identity, membership\n",
    "#String is immutable- item assignement is not allowed, changes will not be made in original object"
   ]
  },
  {
   "cell_type": "code",
   "execution_count": 2,
   "id": "da1f2a5d",
   "metadata": {},
   "outputs": [
    {
     "name": "stdout",
     "output_type": "stream",
     "text": [
      "T\n",
      "T\n",
      "T\n",
      "s\n",
      "s\n",
      "s\n"
     ]
    }
   ],
   "source": [
    "#Indexing --> Accessing one element at a time\n",
    "#String support +ve and -ve index both\n",
    "#+ve index starts from 0 from left hand side\n",
    "#-ve index starts from -1 from right hand side\n",
    "\n",
    "#-ve index -20-19-18-17-16-15-14-13-12-11-10-9-8-7-6-5-4-3-2-1 \n",
    "my_str = 'This is Python class'\n",
    "#+ve index012345678910111213141516171819         \n",
    "#Accessing first element\n",
    "print(my_str[0])    #-->T--> Location +index is '0'\n",
    "print(my_str[-20])  #-->T--> Location -ve index is -20\n",
    "print(my_str[-len(my_str)]) \n",
    "#Accessing last element\n",
    "print(my_str[19])    #-->s--> Location +index is '19'\n",
    "print(my_str[-1])  #-->s--> Location -ve index is -1\n",
    "print(my_str[len(my_str)-1]) "
   ]
  },
  {
   "cell_type": "code",
   "execution_count": 20,
   "id": "75b3649f",
   "metadata": {},
   "outputs": [
    {
     "name": "stdout",
     "output_type": "stream",
     "text": [
      "Python\n",
      "nohtyP\n",
      "Python\n",
      "Ti sPto ls\n",
      "sacnhy ish\n",
      "****\n",
      "\n",
      "20\n",
      "ss\n",
      "Thi\n"
     ]
    }
   ],
   "source": [
    "#Slicing - accessing multiple elements at a time\n",
    "#taking a piece out\n",
    "#Syntax--> str_name(start_ind : Stop_ind +1 : Step)\n",
    "#                   inclusive :  exclusive\n",
    "my_str = 'This is Python class'\n",
    "#                 8......14 \n",
    "print(my_str[8:14])\n",
    "print(my_str[-7:-13:-1]) #---> 'Step -1' is mandatory in case of -ve index\n",
    "print(my_str[-12:-6])\n",
    "print(my_str[::2])     #--> all step of +2 from +ve index\n",
    "print(my_str[::-2])    #--> all step of -2 from -ve index\n",
    "print('****')\n",
    "print(my_str[1:8:-1])   #-->Blank list will come\n",
    "print(len(my_str))\n",
    "print(my_str[:17:-1])\n",
    "print(my_str[:-17:1])\n",
    "\n",
    "#Default step = 1\n",
    "# Default start = 0 stop = len(my_str) if step is +ve\n",
    "# Default start = -1 stop = -len(my_str)-1 if step is -ve\n",
    "\n",
    "#Default start and stop is decided by step. If step is +ve then +ve defaults will be applied.\n",
    "#if step is -ve then -ve defaults will be applied\n",
    "\n",
    "#By Default Step is 1 and accordingly default start and stop is decided if not given. "
   ]
  },
  {
   "cell_type": "code",
   "execution_count": 4,
   "id": "68ade51e",
   "metadata": {},
   "outputs": [
    {
     "name": "stdout",
     "output_type": "stream",
     "text": [
      "6\n",
      "bcde\n",
      "fedcb\n",
      "11111\n",
      "\n",
      "\n",
      "22222\n",
      "abcdef\n",
      "fedcba\n",
      "33333\n",
      "abcde\n",
      "fedcb\n",
      "44444\n",
      "bcdef\n",
      "fedcba\n",
      "5555\n",
      "fe\n",
      "abc\n",
      "66666\n",
      "cba\n",
      "ef\n",
      "7777\n",
      "cdef\n",
      "ef\n",
      "8888\n",
      "ab\n",
      "abcd\n",
      "9999\n",
      "\n"
     ]
    }
   ],
   "source": [
    "                                   #  -6  -5  -4  -3  -2  -1\n",
    "a = 'abcdef'                       #   a   b   c   d   e   f\n",
    "                                   #   0   1   2   3   4   5\n",
    "print(len(a)) \n",
    "print(a[1:5:1])       #Start-->1 end-->5 step-->1  bcde\n",
    "print(a[-1:-6:-1])    #Start-->-1 end-->-6 step-->-1  fedcb\n",
    "print('11111')\n",
    "print(a[1:5:-1])      #Start-->1 end-->5 step-->-1  Direction of start and stop is L to R but step is R to L, so empty will be return\n",
    "print(a[-1:-6:1])     #Start-->-1 end-->-6 step-->1  Direction of start and stop is R to L but step is L to R, so empty will be return\n",
    "print('22222')\n",
    "print(a[::1])        #Start-->0(by default) end-->6(len_str by default) step-->1  abcdef\n",
    "print(a[::-1])       #Start-->-1(by default) end-->-7((-len_str-1)by default) step-->-1  fedcba\n",
    "print('33333')\n",
    "print(a[:5:1])       #Start-->0(by default) end-->5 step-->1  abcde\n",
    "print(a[:-6:-1])     #Start-->-1(by default) end-->-6 step-->-1  fedcb\n",
    "print('44444')\n",
    "print(a[1::1])       #Start-->1 end-->6(len_str by default) step-->1  bcdef\n",
    "print(a[-1::-1])     #Start-->-1 end-->-7((-len_str-1)by default) step-->-1  fedcba\n",
    "print('5555')\n",
    "print(a[:3:-1])      #Start-->-1(by default as step is -ve) end-->3 step-->-1  fe\n",
    "print(a[:-3:1])      #Start-->0(by default) end-->-3 step-->1  abc\n",
    "print('66666')\n",
    "print(a[2::-1])      #Start-->2 end-->-7((-len_str-1)by default as step is -ve) step-->-1  cba\n",
    "print(a[-2::1])      #Start-->-2 end-->6(len_str by default as step is +ve) step-->1   ef  \n",
    "print('7777')\n",
    "print(a[2:])         #Start-->2 end-->6((len_str)by default as step is +ve) step-->1(By default)  cdef\n",
    "print(a[-2:])        #Start-->-2 end-->6((len_str)by default as step is +ve) step-->1(By default)  ef\n",
    "print('8888')\n",
    "print(a[:2])         #Start-->0(by default as step is +ve by default) end-->2 step-->1(By default) ab\n",
    "print(a[:-2])        #Start-->0(by default as step is +ve by default) end-->-2 step-->1(By default) abcd\n",
    "print('9999')\n",
    "print(a[-1:-2])      #Step by default is +ve but start stop is -ve. So empty string as directions are opposite"
   ]
  },
  {
   "cell_type": "code",
   "execution_count": 5,
   "id": "efca00ca",
   "metadata": {},
   "outputs": [
    {
     "name": "stdout",
     "output_type": "stream",
     "text": [
      "bnr\n",
      "ael\n"
     ]
    }
   ],
   "source": [
    "a = '''lea\n",
    "rnb\n",
    "ay'''\n",
    "print(a[6::-1])\n",
    "\n",
    " -8 -7 -6  -5 -4  -3  -2\n",
    "  l  e  a  \\n  r   n  b  \\n  a  y\n",
    "  0  1  2   3  4   5  6   7  8  9"
   ]
  },
  {
   "cell_type": "code",
   "execution_count": 26,
   "id": "093b8fb4",
   "metadata": {},
   "outputs": [
    {
     "name": "stdout",
     "output_type": "stream",
     "text": [
      "pythonclass\n",
      "python python python \n"
     ]
    }
   ],
   "source": [
    "#String Concatenation --> +\n",
    "#Both the operand should be string\n",
    "print('python' + 'class')\n",
    "#print('python' + [10,20,30,40]) --> Error as other one is list\n",
    "\n",
    "#string repetition --> *\n",
    "#One operand should be string and other should be int....Float will not work\n",
    "print('python ' * 3)\n",
    "\n",
    "#Membership operator\n",
    "#This operator works on following Itearbles only --> String, list, tuple, set, dictionary etc\n",
    "#Iterator type--> enumerate, zip, filter, map, etc\n",
    "#It return Boolean Value\n",
    "my_str = 'peter piper picked'\n",
    "my_dict ={'name':'Sanchit', 'age':30}\n",
    "#In dictionary, name and age is key while Sanchit and 30 is value. So membership operator will check only for key\n",
    "print('p' in my_str)\n",
    "print('peter' in my_str)\n",
    "print('30' in my_dict)  #--->False as 30 is value and not key\n",
    "print('name' in my_dict) #-->True as name is key and not value\n",
    "\n",
    "#Identity operator\n",
    "#--> This checks memory id location\n",
    "a ='python class'\n",
    "b ='python class'\n",
    "print(a==b)\n",
    "print(a is b)\n",
    "print(a is not b)\n",
    "print(id(a))\n",
    "print(id(b))\n",
    "\n",
    "#String is immutable"
   ]
  },
  {
   "cell_type": "code",
   "execution_count": 4,
   "id": "b09b488e",
   "metadata": {},
   "outputs": [],
   "source": [
    "# String methods\n",
    "#print(dir(str))\n",
    "\n",
    "#Magic Methods'__add__', '__class__', '__contains__', '__delattr__', '__dir__', '__doc__', '__eq__', '__format__', '__ge__',\n",
    "#'__getattribute__', '__getitem__', '__getnewargs__', '__gt__', '__hash__', '__init__', '__init_subclass__', '__iter__',\n",
    "#'__le__', '__len__', '__lt__', '__mod__', '__mul__', '__ne__', '__new__', '__reduce__', '__reduce_ex__', '__repr__', \n",
    "#'__rmod__', '__rmul__', '__setattr__', '__sizeof__', '__str__', '__subclasshook__',\n",
    "\n",
    "#capitalize', 'casefold', 'center', 'count', 'encode', 'endswith', 'expandtabs', 'find', 'format', 'format_map', \n",
    "#'index', 'isalnum', 'isalpha', 'isascii', 'isdecimal', 'isdigit', 'isidentifier', 'islower', 'isnumeric', 'isprintable',\n",
    "#'isspace', 'istitle', 'isupper', 'join', 'ljust', 'lower', 'lstrip', 'maketrans', 'partition', 'replace', 'rfind', 'rindex',\n",
    "#'rjust', 'rpartition', 'rsplit', 'rstrip', 'split', 'splitlines', 'startswith', 'strip', 'swapcase', 'title', 'translate',\n",
    "#'upper', 'zfill'"
   ]
  },
  {
   "cell_type": "code",
   "execution_count": null,
   "id": "c8091879",
   "metadata": {},
   "outputs": [],
   "source": [
    "1. capitalize\n",
    "2. Title\n",
    "3. upper\n",
    "\n",
    "4. swapcase\n",
    "5. lower\n",
    "6. casefold\n",
    "\n",
    "7. find\n",
    "8. rfind\n",
    "\n",
    "9. Index\n",
    "10. rindex\n",
    "\n",
    "11. Count\n",
    "\n",
    "12. isalnum\n",
    "13. isalpha\n",
    "14. isnumeric\n",
    "15. isprintable\n",
    "16. isspace\n",
    "17. isidentifier\n",
    "18. isupper\n",
    "19. islower\n",
    "20. istitle\n",
    "21. iskeyword\n",
    "\n",
    "21. center\n",
    "22. ljust\n",
    "23. rjust\n",
    "24. zfill\n",
    "\n",
    "25. strip\n",
    "26. lstrip\n",
    "27. rstrip\n",
    "\n",
    "28. split\n",
    "29. Join\n",
    "\n",
    "30.startwith\n",
    "31 endswith \n",
    "\n",
    "32. partition\n",
    "33. splitlines\n",
    "34. expandtabs"
   ]
  },
  {
   "cell_type": "code",
   "execution_count": 1,
   "id": "deb08930",
   "metadata": {},
   "outputs": [
    {
     "name": "stdout",
     "output_type": "stream",
     "text": [
      "Peter piper picked a peck of pickled peppers\n",
      "Peter Piper Picked A Peck Of Pickled Peppers\n",
      "PETER PIPER PICKED A PECK OF PICKLED PEPPERS\n",
      "pETER pIPER pICKED a pECK oF pICKLED pEPPERS\n",
      "peter piper picked a peck of pickled peppers\n",
      "peter piper picked a peck of pickled peppers\n",
      "Peter Piper Picked A Peck Of Pickled Peppers\n"
     ]
    }
   ],
   "source": [
    "#capitalize', 'casefold','lower', 'upper', 'title', 'swapcase'\n",
    "\n",
    "my_str ='peter piper picked a peck of pickled peppers'\n",
    "print(my_str.capitalize()) # Capitalize first letter of sentence \n",
    "print(my_str.title())      # Capitalize first letter of each word \n",
    "print(my_str.upper())      # Capitalize all letter\n",
    "\n",
    "my_str ='Peter Piper Picked A Peck Of Pickled Peppers'\n",
    "print(my_str.swapcase())   # Swap lower into capital and capital into lower\n",
    "print(my_str.lower())      # all lower\n",
    "print(my_str.casefold())   # all lower but more aggressive.\n"
   ]
  },
  {
   "cell_type": "code",
   "execution_count": 43,
   "id": "ae55660d",
   "metadata": {},
   "outputs": [
    {
     "name": "stdout",
     "output_type": "stream",
     "text": [
      "0\n",
      "-1\n",
      "21\n",
      "12\n"
     ]
    }
   ],
   "source": [
    "#Find --> It returns the lowest index of the first occurence of matching substring into the main string\n",
    "#if the sub string is not found then it return -1\n",
    "my_str = 'peter piper picked a peck of pickled peppers'\n",
    "sub_str = 'p'\n",
    "sub_str2 = 'peck'\n",
    "sub_str1 = 'z'\n",
    "print(my_str.find(sub_str)) #---> as location of first occurence of p is first step that 0\n",
    "print(my_str.find(sub_str1))\n",
    "print(my_str.find(sub_str2)) #-->Will find the word and return the position value of first letter of word.\n",
    "print(my_str.find('pick'))  #-->Return first occurence of pick"
   ]
  },
  {
   "cell_type": "code",
   "execution_count": 42,
   "id": "f13d58c0",
   "metadata": {},
   "outputs": [
    {
     "name": "stdout",
     "output_type": "stream",
     "text": [
      "40\n",
      "-1\n",
      "12\n"
     ]
    }
   ],
   "source": [
    "#rfind --> It returns the highest index of the matching substring into the main string\n",
    "#if the sub string is not found then it return -1\n",
    "my_str = 'peter piper picked a peck of pickled peppers'\n",
    "sub_str = 'p'\n",
    "sub_str1 = 'z'\n",
    "print(my_str.rfind(sub_str)) #---> as location of last occurence of p is 40\n",
    "print(my_str.rfind(sub_str1))\n",
    "print(my_str.rfind('pick'))  #--> Return last occurence of pick"
   ]
  },
  {
   "cell_type": "code",
   "execution_count": null,
   "id": "9fcc2bce",
   "metadata": {},
   "outputs": [],
   "source": [
    "#index --> It returns the lowest index of the first occurence of matching substring into the main string\n",
    "#if the sub string is not found then it return error\n",
    "#Otherwise it is same as find method\n",
    "\n",
    "#rindex --> It returns the highest index of the matching substring into the main string\n",
    "#if the sub string is not found then it return error\n",
    "#Otherwise same as rfind method"
   ]
  },
  {
   "cell_type": "code",
   "execution_count": 50,
   "id": "29356bc2",
   "metadata": {},
   "outputs": [
    {
     "name": "stdout",
     "output_type": "stream",
     "text": [
      "0\n",
      "5\n",
      "1\n"
     ]
    }
   ],
   "source": [
    "#Count-->It counts the letter/word in main string\n",
    "\n",
    "my_str = 'peter piper picked a peck of pickled peppers'\n",
    "print(my_str.count('p'))    \n",
    "print(my_str.count('pe'))\n",
    "print(my_str.count('pe', 6, 21))   #--> To look for 'pe' under a specific range\n"
   ]
  },
  {
   "cell_type": "code",
   "execution_count": null,
   "id": "0e368863",
   "metadata": {},
   "outputs": [],
   "source": [
    "#'isalnum', 'isalpha', 'isascii', 'isdecimal', 'isdigit', 'isidentifier', 'islower', 'isnumeric', 'isprintable',\n",
    "#'isspace', 'istitle', 'isupper',"
   ]
  },
  {
   "cell_type": "code",
   "execution_count": 4,
   "id": "2f8a3cdf",
   "metadata": {},
   "outputs": [
    {
     "name": "stdout",
     "output_type": "stream",
     "text": [
      "True\n",
      "True\n",
      "False\n",
      "True\n",
      "True\n",
      "False\n",
      "True\n"
     ]
    }
   ],
   "source": [
    "#isalnum--> It check whether string is made up of only alapbet or number or alpha and number both\n",
    "#isalpha--> string is made up of only alphabets\n",
    "#isidentifier --> True if string is valid identifier(Based on rules of identifier) else return false(exception - Gives true for keywords)\n",
    "#islower - checks whether all characters in string are in lower case\n",
    "#isnumeric - checks whether all characters in string are in numeric\n",
    "#isprintable - checks whether all characters in string are in printable format\n",
    "#isspace - checks whether all characters in string are space characters or not\n",
    "#istitle - checks whether string is in title case or not\n",
    "#isupper - checks whether string is in upper case or not\n",
    "\n",
    "my_str = 'peter piper picked a peck of pickled peppers'\n",
    "my_str1 = 'peter123'\n",
    "my_str2 = '234'\n",
    "my_str3 = '\\v\\t'\n",
    "print(my_str.isprintable()) \n",
    "print(my_str1.isalnum())\n",
    "print(my_str1.isalpha())\n",
    "print(my_str2.isnumeric())\n",
    "print(my_str.islower())\n",
    "print(my_str.istitle())  \n",
    "print(my_str3.isspace())  #---> Made of only space characters \\v\\t\\n\\\n",
    "\n"
   ]
  },
  {
   "cell_type": "code",
   "execution_count": 3,
   "id": "a2cf0936",
   "metadata": {},
   "outputs": [
    {
     "name": "stdout",
     "output_type": "stream",
     "text": [
      "True\n"
     ]
    }
   ],
   "source": [
    "#To check if word is a keyword or not\n",
    "import keyword\n",
    "print(keyword.iskeyword('for'))"
   ]
  },
  {
   "cell_type": "code",
   "execution_count": 11,
   "id": "a97c3c27",
   "metadata": {},
   "outputs": [
    {
     "name": "stdout",
     "output_type": "stream",
     "text": [
      "              python\n",
      "**************python\n",
      "python++++++++++++++\n",
      "       python       \n",
      "#######python#######\n",
      "00000000000000python\n",
      "00000000000000python\n"
     ]
    }
   ],
   "source": [
    "# Center, rjust, ljust, zfill - we use these methos to justify the string. \n",
    "my_str = 'python'\n",
    "print(my_str.rjust(20))  #Python is included in 20 position\n",
    "print(my_str.rjust(20, '*'))\n",
    "print(my_str.ljust(20, '+'))\n",
    "print(my_str.center(20))\n",
    "print(my_str.center(20, '#'))\n",
    "print(my_str.zfill(20))   # Doesn't take 2nd argument --> \n",
    "print(my_str.rjust(20, '0'))\n",
    "\n",
    "              python\n",
    "#They are used in string adjustment"
   ]
  },
  {
   "cell_type": "code",
   "execution_count": 4,
   "id": "3d0d6ef8",
   "metadata": {},
   "outputs": [
    {
     "name": "stdout",
     "output_type": "stream",
     "text": [
      "this is     python     class\n",
      "this is     python     class        \n",
      "          this is     python     class\n",
      "sanchit***\n",
      "***sanchit\n",
      "sanchit\n"
     ]
    }
   ],
   "source": [
    "#strip, lstrip, rstrip - used to remove un-necessary spaces from ends of the string.\n",
    "#These methods can not remove the space from the middle of the string\n",
    "my_str = '          this is     python     class        '\n",
    "print(my_str.strip())  #---> Remove space from both left and right\n",
    "print(my_str.lstrip()) #---> Remove space from left\n",
    "print(my_str.rstrip()) #---> Remove space from right\n",
    "#To remove particular character\n",
    "l_str = '***sanchit***'\n",
    "print(l_str.lstrip('*'))\n",
    "print(l_str.rstrip('*'))\n",
    "print(l_str.strip('*'))"
   ]
  },
  {
   "cell_type": "code",
   "execution_count": 20,
   "id": "104686a1",
   "metadata": {},
   "outputs": [
    {
     "name": "stdout",
     "output_type": "stream",
     "text": [
      "zeter zizer zicked a zeck of zeckled zezzers\n",
      "zeter zizer zicked a zeck of peckled peppers\n",
      "peter ziper picked a peck of peckled peppers\n"
     ]
    }
   ],
   "source": [
    "#replace - replace all the occurence of substring from main string\n",
    "\n",
    "my_str = 'peter piper picked a peck of peckled peppers'\n",
    "print(my_str.replace('p', 'z'))\n",
    "print(my_str.replace('p', 'z', 5))  #--> If you want to remove only limited letters\n",
    "sub = 'zip'\n",
    "print(my_str.replace('pip', sub, 3))"
   ]
  },
  {
   "cell_type": "code",
   "execution_count": 33,
   "id": "c91b1374",
   "metadata": {},
   "outputs": [
    {
     "name": "stdout",
     "output_type": "stream",
     "text": [
      "['peter', 'piper', 'picked', 'a', 'peck', 'of', 'peckled', 'peppers']\n",
      "['', 'eter ', 'i', 'er ', 'icked a ', 'eck of ', 'eckled ', 'e', '', 'ers']\n",
      "['peter', 'piper', 'picked', 'a', 'peck', 'of', 'peckled', 'peppers']\n",
      "10+20+30+40 <class 'str'> 2222798676656 True\n"
     ]
    }
   ],
   "source": [
    "#split, join\n",
    "\n",
    "#split - It split string from spaces and return a list\n",
    "print(my_str.split())\n",
    "print(my_str.split('p')) #--> Splitting from P to p in list\n",
    "\n",
    "lst_split = my_str.split()\n",
    "print(lst_split)\n",
    "#Join method takes a list as an argument and returns a string after joing a list\n",
    "'-->'.join(lst_split)  #---> They will be join by '-->' in space.\n",
    "' '.join(lst_split)\n",
    "\n",
    "exp = ['10', '20', '30', '40']\n",
    "a = '+'.join(exp)\n",
    "print(a, type(a), id(a), bool(a))\n",
    "#Join Will work if list/tuple is of string"
   ]
  },
  {
   "cell_type": "code",
   "execution_count": 1,
   "id": "9c4c7e4c",
   "metadata": {},
   "outputs": [
    {
     "name": "stdout",
     "output_type": "stream",
     "text": [
      "False\n",
      "True\n"
     ]
    }
   ],
   "source": [
    "# Startswith\n",
    "\n",
    "s = \"This was taught by afsaan\"\n",
    "\n",
    "#1. Starts with\n",
    "print(s.startswith('wa'))   # False as it starts with This\n",
    "\n",
    "#2. Starts with Index\n",
    "print(s.startswith('wa', 5, 8))  # as Slicing of 5 to 8 is was which start with was so true"
   ]
  },
  {
   "cell_type": "code",
   "execution_count": 4,
   "id": "4ba7112a",
   "metadata": {},
   "outputs": [
    {
     "name": "stdout",
     "output_type": "stream",
     "text": [
      "True\n",
      "True\n"
     ]
    }
   ],
   "source": [
    "# endsswith\n",
    "\n",
    "s = \"This was taught by afsaan\"\n",
    "\n",
    "#1. ends with\n",
    "print(s.endswith('an'))   # true as it ends with an\n",
    "\n",
    "#2. Starts with Index\n",
    "print(s.endswith('wa', 0, 7))  # as Slicing of 0 to 7 is 'This wa' which end with wa so true"
   ]
  },
  {
   "cell_type": "code",
   "execution_count": 37,
   "id": "e002fe25",
   "metadata": {},
   "outputs": [
    {
     "name": "stdout",
     "output_type": "stream",
     "text": [
      "('Chitvan said ', 'baba', ' you are beautiful')\n",
      "('Chitvan said baba yo', 'u', ' are beautiful')\n"
     ]
    }
   ],
   "source": [
    "#Partition - list of three element\n",
    "#FIrst elemant is from begining of the partition characters or word\n",
    "#second element - the partiotion character or word itself\n",
    "#third element - from partiton characters or word +1 to end.\n",
    "my_str ='Chitvan said baba you are beautiful'\n",
    "print(my_str.partition('baba'))\n",
    "print(my_str.partition('u'))"
   ]
  },
  {
   "cell_type": "code",
   "execution_count": 39,
   "id": "7dce3ffc",
   "metadata": {},
   "outputs": [
    {
     "name": "stdout",
     "output_type": "stream",
     "text": [
      "['Chitvan said baba ', 'you are ', 'beautiful']\n"
     ]
    }
   ],
   "source": [
    "#Splitlines - return a list of elemts splitted from \\n\n",
    "#1st element - from begining to the \\n -1 index\n",
    "#2nd elemt - from \\n+1 index to end\n",
    "my_str ='Chitvan said baba \\nyou are \\nbeautiful'\n",
    "print(my_str.splitlines())\n"
   ]
  },
  {
   "cell_type": "code",
   "execution_count": 56,
   "id": "cd408c6e",
   "metadata": {},
   "outputs": [
    {
     "name": "stdout",
     "output_type": "stream",
     "text": [
      "Chitvan said baba   you are \n",
      "beautiful\n",
      "Chitvan said baba        you are \n",
      "beautiful\n",
      "Chitvan said baba       you are \n",
      "beautiful\n"
     ]
    }
   ],
   "source": [
    "#expandtabs\n",
    "my_str ='Chitvan said baba \\tyou are \\nbeautiful'\n",
    "print(my_str.expandtabs(20))\n",
    "print(my_str.expandtabs(25))\n",
    "print(my_str.expandtabs())\n"
   ]
  },
  {
   "cell_type": "code",
   "execution_count": 1,
   "id": "083751d9",
   "metadata": {},
   "outputs": [
    {
     "name": "stdout",
     "output_type": "stream",
     "text": [
      "srepped delkcid fo kceb a dekcib repia retea\n",
      "['aeter', 'aiper', 'bicked', 'a', 'beck', 'of', 'dickled', 'deppers']\n",
      "retea repia dekcib a kceb fo delkcid srepped\n",
      "retea repia dekcib a kceb fo delkcid srepped\n",
      "reteA repiA dekciB A kceB fO delkciD sreppeD\n",
      "reteA repiA dekciB A kceB fO delkciD sreppeD\n"
     ]
    }
   ],
   "source": [
    "##Practice questions\n",
    "my_str ='aeter aiper bicked a beck of dickled deppers'\n",
    "\n",
    "#len(my_str)\n",
    "\n",
    "out_str1 = my_str[::-1]\n",
    "print(out_str1)\n",
    "\n",
    "out_lst = my_str.split()\n",
    "print(out_lst)\n",
    "#loop comprehension\n",
    "a = ([i[::-1] for i in out_lst])\n",
    "print(' '.join(a))\n",
    "#One line command by joining all like this\n",
    "print(' '.join([i[::-1] for i in my_str.split()]))\n",
    "\n",
    "out_lst1 = my_str.title().split()\n",
    "b = ([i[::-1] for i in out_lst1])\n",
    "print(' '.join(b))\n",
    "#One line command by joining all like this\n",
    "print(' '.join([i[::-1] for i in my_str.title().split()]))\n"
   ]
  },
  {
   "cell_type": "code",
   "execution_count": 3,
   "id": "51dd12c9",
   "metadata": {},
   "outputs": [
    {
     "name": "stdout",
     "output_type": "stream",
     "text": [
      "[1, 2, 3]\n",
      "[5, 6, 7]\n"
     ]
    }
   ],
   "source": [
    "list = [1,2,3,[5,6,7]]\n",
    "a = list.pop(3)\n",
    "print(list)\n",
    "print(a)"
   ]
  },
  {
   "cell_type": "code",
   "execution_count": 17,
   "id": "f47e3154",
   "metadata": {},
   "outputs": [
    {
     "name": "stdout",
     "output_type": "stream",
     "text": [
      "a\n",
      "b\n",
      "c\n",
      "d\n"
     ]
    }
   ],
   "source": [
    "# TO Find the Alapabet of any number\n",
    "#use chr()\n",
    "print(chr(97))\n",
    "print(chr(98))\n",
    "print(chr(99))\n",
    "print(chr(100))"
   ]
  },
  {
   "cell_type": "code",
   "execution_count": 14,
   "id": "41e1f012",
   "metadata": {},
   "outputs": [
    {
     "name": "stdout",
     "output_type": "stream",
     "text": [
      "65\n",
      "66\n",
      "67\n",
      "68\n",
      "69\n",
      "70\n",
      "71\n",
      "72\n",
      "73\n",
      "74\n",
      "75\n",
      "76\n",
      "77\n",
      "78\n",
      "79\n",
      "80\n"
     ]
    }
   ],
   "source": [
    "# To find the number for any chaeracter \n",
    "# Use ord()\n",
    "\n",
    "print(ord('A'))\n",
    "print(ord('B'))\n",
    "print(ord('C'))\n",
    "print(ord('D'))\n",
    "print(ord('E'))\n",
    "print(ord('F'))\n",
    "print(ord('G'))\n",
    "print(ord('H'))\n",
    "print(ord('I'))\n",
    "print(ord('J'))\n",
    "print(ord('K'))\n",
    "print(ord('L'))\n",
    "print(ord('M'))\n",
    "print(ord('N'))\n",
    "print(ord('O'))\n",
    "print(ord('P'))"
   ]
  },
  {
   "cell_type": "code",
   "execution_count": 9,
   "id": "a05c1041",
   "metadata": {},
   "outputs": [
    {
     "data": {
      "text/plain": [
       "['vineet', 'sanchit', 'cnbcdl']"
      ]
     },
     "execution_count": 9,
     "metadata": {},
     "output_type": "execute_result"
    }
   ],
   "source": [
    "list1 = ['vineet@gmail.com', 'sanchit@gmail.com', 'cnbcdl@gmail.com']\n",
    "[i.split('@')[0] for i in list1]"
   ]
  },
  {
   "cell_type": "code",
   "execution_count": 10,
   "id": "1c3b20bf",
   "metadata": {},
   "outputs": [
    {
     "name": "stdout",
     "output_type": "stream",
     "text": [
      "2273685427312\n"
     ]
    }
   ],
   "source": [
    "#aliasing ---> This is called as aliasing\n",
    "x = 1000\n",
    "a = x\n",
    "print(id(a))\n",
    "print(id(x))"
   ]
  },
  {
   "cell_type": "code",
   "execution_count": 16,
   "id": "14130f8b",
   "metadata": {},
   "outputs": [
    {
     "name": "stdout",
     "output_type": "stream",
     "text": [
      "[1, 2, 3, 4, 5] 2273685230464\n",
      "[1, 2, 3, 4, 5] 2273685294336\n"
     ]
    }
   ],
   "source": [
    "lst1 = [1,2,3,4,5]\n",
    "lst2 = []\n",
    "lst2.extend(lst1)\n",
    "print(lst2, id(lst2))\n",
    "print(lst1, id(lst1))"
   ]
  },
  {
   "cell_type": "code",
   "execution_count": null,
   "id": "fb10fe1f",
   "metadata": {},
   "outputs": [],
   "source": [
    "from copy import deepcopy\n",
    "\n",
    "a = [1, [1,2,3,4]]\n",
    "b = deepcopy.a()\n",
    "print(id(a[0]))\n",
    "print(id(a[0]))"
   ]
  },
  {
   "cell_type": "code",
   "execution_count": 17,
   "id": "726348ff",
   "metadata": {},
   "outputs": [
    {
     "data": {
      "text/plain": [
       "<enumerate at 0x2116238bc80>"
      ]
     },
     "execution_count": 17,
     "metadata": {},
     "output_type": "execute_result"
    }
   ],
   "source": [
    "a = (1,2,3,4,5)\n",
    "enumerate(a)"
   ]
  },
  {
   "cell_type": "code",
   "execution_count": 23,
   "id": "e756e6cc",
   "metadata": {},
   "outputs": [
    {
     "name": "stdout",
     "output_type": "stream",
     "text": [
      "[[0, 0, 0, 1, 2, 1, 0, 1, 2, 2, 0, 1, 2, 1, 0, 0, 1, 2, 1, 0, 1, 2, 2, 0, 1, 2, 2, 0, 0, 1, 2, 1, 0, 1, 2, 2, 0, 1, 2]]\n"
     ]
    }
   ],
   "source": [
    "x = 2\n",
    "y = 2\n",
    "z = 2\n",
    "lst1 = []\n",
    "lst2 = []\n",
    "for i in range(x+1):\n",
    "    lst2.append(i)\n",
    "    for j in range(y+1):\n",
    "        lst2.append(j)\n",
    "        for k in range(z+1):\n",
    "            lst2.append(k)\n",
    "lst1.append(lst2)\n",
    "print(lst1)"
   ]
  },
  {
   "cell_type": "code",
   "execution_count": 1,
   "id": "9753d19f",
   "metadata": {},
   "outputs": [
    {
     "name": "stdout",
     "output_type": "stream",
     "text": [
      "[[0, 0, 0], [0, 0, 1], [0, 1, 0], [0, 1, 2], [0, 2, 1], [0, 2, 2], [1, 0, 0], [1, 0, 2], [1, 1, 1], [1, 1, 2], [1, 2, 0], [1, 2, 1], [1, 2, 2], [2, 0, 1], [2, 0, 2], [2, 1, 0], [2, 1, 1], [2, 1, 2], [2, 2, 0], [2, 2, 1], [2, 2, 2]]\n"
     ]
    }
   ],
   "source": [
    "x = 2\n",
    "y = 2\n",
    "z = 2\n",
    "n = 2\n",
    "lst2 = []\n",
    "for i in range(x+1):\n",
    "    for j in range(y+1):\n",
    "        for k in range(z+1):\n",
    "            if i+j+k == n:\n",
    "                continue\n",
    "            else:\n",
    "                lst2.append([i,j,k])\n",
    "print(lst2)"
   ]
  },
  {
   "cell_type": "code",
   "execution_count": 54,
   "id": "f024031e",
   "metadata": {},
   "outputs": [
    {
     "name": "stdout",
     "output_type": "stream",
     "text": [
      "[2, 2, 2]\n"
     ]
    }
   ],
   "source": [
    "x = 2\n",
    "y = 2\n",
    "z = 2\n",
    "lst = []\n",
    "\n",
    "for i in range(x+1):\n",
    "    lst[0] = i\n",
    "    for i in range(y+1):\n",
    "        lst[1] = y\n",
    "        for z in range(z+1):\n",
    "            lst[2] = z\n",
    "print(lst)"
   ]
  },
  {
   "cell_type": "code",
   "execution_count": 51,
   "id": "6fc2232b",
   "metadata": {},
   "outputs": [
    {
     "name": "stdout",
     "output_type": "stream",
     "text": [
      "2\n",
      "2\n",
      "2\n",
      "2\n",
      "[[0, 0, 0], [0, 0, 1], [0, 1, 0], [0, 1, 2], [0, 2, 1], [0, 2, 2], [1, 0, 0], [1, 0, 2], [1, 1, 1], [1, 1, 2], [1, 2, 0], [1, 2, 1], [1, 2, 2], [2, 0, 1], [2, 0, 2], [2, 1, 0], [2, 1, 1], [2, 1, 2], [2, 2, 0], [2, 2, 1], [2, 2, 2]]\n"
     ]
    }
   ],
   "source": [
    "x, y, z, n = int(input()), int(input()), int(input()), int(input())\n",
    "print ([[a,b,c] for a in range(0,x+1) for b in range(0,y+1) for c in range(0,z+1) if a + b + c != n ])"
   ]
  },
  {
   "cell_type": "code",
   "execution_count": 52,
   "id": "a77ec187",
   "metadata": {},
   "outputs": [
    {
     "name": "stdout",
     "output_type": "stream",
     "text": [
      "2\n",
      "3\n",
      "4\n"
     ]
    },
    {
     "ename": "NameError",
     "evalue": "name 'b' is not defined",
     "output_type": "error",
     "traceback": [
      "\u001b[1;31m---------------------------------------------------------------------------\u001b[0m",
      "\u001b[1;31mNameError\u001b[0m                                 Traceback (most recent call last)",
      "\u001b[1;32m<ipython-input-52-6987acfd9d50>\u001b[0m in \u001b[0;36m<module>\u001b[1;34m\u001b[0m\n\u001b[0;32m      2\u001b[0m \u001b[0my\u001b[0m \u001b[1;33m=\u001b[0m \u001b[0mint\u001b[0m\u001b[1;33m(\u001b[0m\u001b[0minput\u001b[0m\u001b[1;33m(\u001b[0m\u001b[1;33m)\u001b[0m\u001b[1;33m)\u001b[0m\u001b[1;33m\u001b[0m\u001b[1;33m\u001b[0m\u001b[0m\n\u001b[0;32m      3\u001b[0m \u001b[0mz\u001b[0m \u001b[1;33m=\u001b[0m \u001b[0mint\u001b[0m\u001b[1;33m(\u001b[0m\u001b[0minput\u001b[0m\u001b[1;33m(\u001b[0m\u001b[1;33m)\u001b[0m\u001b[1;33m)\u001b[0m\u001b[1;33m\u001b[0m\u001b[1;33m\u001b[0m\u001b[0m\n\u001b[1;32m----> 4\u001b[1;33m \u001b[1;33m[\u001b[0m\u001b[1;33m[\u001b[0m\u001b[0ma\u001b[0m\u001b[1;33m,\u001b[0m\u001b[0mb\u001b[0m\u001b[1;33m,\u001b[0m\u001b[0mc\u001b[0m\u001b[1;33m]\u001b[0m \u001b[1;32mfor\u001b[0m \u001b[0ma\u001b[0m \u001b[1;32min\u001b[0m \u001b[0mrange\u001b[0m\u001b[1;33m(\u001b[0m\u001b[1;36m0\u001b[0m\u001b[1;33m,\u001b[0m\u001b[0mx\u001b[0m\u001b[1;33m+\u001b[0m\u001b[1;36m1\u001b[0m\u001b[1;33m)\u001b[0m\u001b[1;33m]\u001b[0m\u001b[1;33m\u001b[0m\u001b[1;33m\u001b[0m\u001b[0m\n\u001b[0m\u001b[0;32m      5\u001b[0m \u001b[1;33m[\u001b[0m\u001b[1;33m[\u001b[0m\u001b[0ma\u001b[0m\u001b[1;33m,\u001b[0m\u001b[0mb\u001b[0m\u001b[1;33m,\u001b[0m\u001b[0mc\u001b[0m\u001b[1;33m]\u001b[0m \u001b[1;32mfor\u001b[0m \u001b[0mb\u001b[0m \u001b[1;32min\u001b[0m \u001b[0mrange\u001b[0m\u001b[1;33m(\u001b[0m\u001b[1;36m0\u001b[0m\u001b[1;33m,\u001b[0m\u001b[0my\u001b[0m\u001b[1;33m+\u001b[0m\u001b[1;36m1\u001b[0m\u001b[1;33m)\u001b[0m\u001b[1;33m]\u001b[0m\u001b[1;33m\u001b[0m\u001b[1;33m\u001b[0m\u001b[0m\n\u001b[0;32m      6\u001b[0m \u001b[1;33m[\u001b[0m\u001b[1;33m[\u001b[0m\u001b[0ma\u001b[0m\u001b[1;33m,\u001b[0m\u001b[0mb\u001b[0m\u001b[1;33m,\u001b[0m\u001b[0mc\u001b[0m\u001b[1;33m]\u001b[0m \u001b[1;32mfor\u001b[0m \u001b[0mc\u001b[0m \u001b[1;32min\u001b[0m \u001b[0mrange\u001b[0m\u001b[1;33m(\u001b[0m\u001b[1;36m0\u001b[0m\u001b[1;33m,\u001b[0m\u001b[0mz\u001b[0m\u001b[1;33m+\u001b[0m\u001b[1;36m1\u001b[0m\u001b[1;33m)\u001b[0m\u001b[1;33m]\u001b[0m\u001b[1;33m\u001b[0m\u001b[1;33m\u001b[0m\u001b[0m\n",
      "\u001b[1;32m<ipython-input-52-6987acfd9d50>\u001b[0m in \u001b[0;36m<listcomp>\u001b[1;34m(.0)\u001b[0m\n\u001b[0;32m      2\u001b[0m \u001b[0my\u001b[0m \u001b[1;33m=\u001b[0m \u001b[0mint\u001b[0m\u001b[1;33m(\u001b[0m\u001b[0minput\u001b[0m\u001b[1;33m(\u001b[0m\u001b[1;33m)\u001b[0m\u001b[1;33m)\u001b[0m\u001b[1;33m\u001b[0m\u001b[1;33m\u001b[0m\u001b[0m\n\u001b[0;32m      3\u001b[0m \u001b[0mz\u001b[0m \u001b[1;33m=\u001b[0m \u001b[0mint\u001b[0m\u001b[1;33m(\u001b[0m\u001b[0minput\u001b[0m\u001b[1;33m(\u001b[0m\u001b[1;33m)\u001b[0m\u001b[1;33m)\u001b[0m\u001b[1;33m\u001b[0m\u001b[1;33m\u001b[0m\u001b[0m\n\u001b[1;32m----> 4\u001b[1;33m \u001b[1;33m[\u001b[0m\u001b[1;33m[\u001b[0m\u001b[0ma\u001b[0m\u001b[1;33m,\u001b[0m\u001b[0mb\u001b[0m\u001b[1;33m,\u001b[0m\u001b[0mc\u001b[0m\u001b[1;33m]\u001b[0m \u001b[1;32mfor\u001b[0m \u001b[0ma\u001b[0m \u001b[1;32min\u001b[0m \u001b[0mrange\u001b[0m\u001b[1;33m(\u001b[0m\u001b[1;36m0\u001b[0m\u001b[1;33m,\u001b[0m\u001b[0mx\u001b[0m\u001b[1;33m+\u001b[0m\u001b[1;36m1\u001b[0m\u001b[1;33m)\u001b[0m\u001b[1;33m]\u001b[0m\u001b[1;33m\u001b[0m\u001b[1;33m\u001b[0m\u001b[0m\n\u001b[0m\u001b[0;32m      5\u001b[0m \u001b[1;33m[\u001b[0m\u001b[1;33m[\u001b[0m\u001b[0ma\u001b[0m\u001b[1;33m,\u001b[0m\u001b[0mb\u001b[0m\u001b[1;33m,\u001b[0m\u001b[0mc\u001b[0m\u001b[1;33m]\u001b[0m \u001b[1;32mfor\u001b[0m \u001b[0mb\u001b[0m \u001b[1;32min\u001b[0m \u001b[0mrange\u001b[0m\u001b[1;33m(\u001b[0m\u001b[1;36m0\u001b[0m\u001b[1;33m,\u001b[0m\u001b[0my\u001b[0m\u001b[1;33m+\u001b[0m\u001b[1;36m1\u001b[0m\u001b[1;33m)\u001b[0m\u001b[1;33m]\u001b[0m\u001b[1;33m\u001b[0m\u001b[1;33m\u001b[0m\u001b[0m\n\u001b[0;32m      6\u001b[0m \u001b[1;33m[\u001b[0m\u001b[1;33m[\u001b[0m\u001b[0ma\u001b[0m\u001b[1;33m,\u001b[0m\u001b[0mb\u001b[0m\u001b[1;33m,\u001b[0m\u001b[0mc\u001b[0m\u001b[1;33m]\u001b[0m \u001b[1;32mfor\u001b[0m \u001b[0mc\u001b[0m \u001b[1;32min\u001b[0m \u001b[0mrange\u001b[0m\u001b[1;33m(\u001b[0m\u001b[1;36m0\u001b[0m\u001b[1;33m,\u001b[0m\u001b[0mz\u001b[0m\u001b[1;33m+\u001b[0m\u001b[1;36m1\u001b[0m\u001b[1;33m)\u001b[0m\u001b[1;33m]\u001b[0m\u001b[1;33m\u001b[0m\u001b[1;33m\u001b[0m\u001b[0m\n",
      "\u001b[1;31mNameError\u001b[0m: name 'b' is not defined"
     ]
    }
   ],
   "source": [
    "x = int(input())\n",
    "y = int(input()) \n",
    "z = int(input())\n",
    "[[a,b,c] for a in range(0,x+1)] \n",
    "[[a,b,c] for b in range(0,y+1)] \n",
    "[[a,b,c] for c in range(0,z+1)]\n",
    "print[a,b,c]\n"
   ]
  },
  {
   "cell_type": "code",
   "execution_count": null,
   "id": "aab711c4",
   "metadata": {},
   "outputs": [],
   "source": []
  },
  {
   "cell_type": "code",
   "execution_count": null,
   "id": "c30ed395",
   "metadata": {},
   "outputs": [],
   "source": []
  },
  {
   "cell_type": "code",
   "execution_count": null,
   "id": "c3889cee",
   "metadata": {},
   "outputs": [],
   "source": []
  }
 ],
 "metadata": {
  "kernelspec": {
   "display_name": "Python 3",
   "language": "python",
   "name": "python3"
  },
  "language_info": {
   "codemirror_mode": {
    "name": "ipython",
    "version": 3
   },
   "file_extension": ".py",
   "mimetype": "text/x-python",
   "name": "python",
   "nbconvert_exporter": "python",
   "pygments_lexer": "ipython3",
   "version": "3.8.8"
  }
 },
 "nbformat": 4,
 "nbformat_minor": 5
}
