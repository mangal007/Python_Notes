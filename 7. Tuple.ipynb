{
 "cells": [
  {
   "cell_type": "code",
   "execution_count": null,
   "id": "183907fa",
   "metadata": {},
   "outputs": [],
   "source": [
    "#Tuple\n",
    "\n",
    "#Uses small brackets --()\n",
    "#It is collection of Hetrogenous elements\n",
    "#Elements are seprated by comma\n",
    "#Tuple is immutable object.\n",
    "#tuple is a sequence. \n",
    "    #1. Indexing, slicing, concatenation, repetition\n",
    "    #2. It supports +ve and -ve indexing both\n",
    "    #3. +ve index starts from 0 from LHS\n",
    "    #4. -ve index starts from -1 from RHS\n",
    "#tuple can have duplicate elements"
   ]
  },
  {
   "cell_type": "code",
   "execution_count": null,
   "id": "53888aeb",
   "metadata": {},
   "outputs": [],
   "source": [
    "#Methods of creating a tuple\n",
    "\n",
    "1. If you know the data\n",
    "2. creating tuple with sinle element\n",
    "3. Creating tuple using tuple function\n",
    "4. Creating using eval function"
   ]
  },
  {
   "cell_type": "code",
   "execution_count": 3,
   "id": "f6782796",
   "metadata": {},
   "outputs": [
    {
     "name": "stdout",
     "output_type": "stream",
     "text": [
      "(10, 10.2, 'python', (10+20j), [1, 2, 3], (10, 20, 30), {1: 10, 2: 20}) <class 'tuple'>\n",
      "(10, 20, 10.2) <class 'tuple'>\n"
     ]
    }
   ],
   "source": [
    "#Create a tuple\n",
    "\n",
    "#If you the data\n",
    "tpl = (10, 10.20, 'python', 10+20j, [1,2,3], (10,20,30), {1:10, 2:20})\n",
    "print(tpl, type(tpl))\n",
    "\n",
    "#if we don't give () and have more than 1 value to a variable then it will be a tuple automatically. For e.g\n",
    "\n",
    "a = 10,20,10.20\n",
    "print(a, type(a))\n",
    "\n",
    "# (10, 20, 10.2) <class 'tuple'>"
   ]
  },
  {
   "cell_type": "code",
   "execution_count": 4,
   "id": "ee41b611",
   "metadata": {},
   "outputs": [
    {
     "name": "stdout",
     "output_type": "stream",
     "text": [
      "(10,) <class 'tuple'>\n"
     ]
    }
   ],
   "source": [
    "#Creating a tuple with single element, then put a comma at end\n",
    "\n",
    "tpl = 10,\n",
    "print(tpl, type(tpl))"
   ]
  },
  {
   "cell_type": "code",
   "execution_count": 2,
   "id": "ae3e7776",
   "metadata": {},
   "outputs": [
    {
     "name": "stdout",
     "output_type": "stream",
     "text": [
      "('p', 'y', 't', 'h', 'o', 'n') <class 'tuple'>\n",
      "(10, 20, 30, 40) <class 'tuple'>\n",
      "(1, 2, 3, 4) <class 'tuple'>\n",
      "(1, 2, 3) <class 'tuple'>\n",
      "Enter a tuple1,2,3\n",
      "(1, 2, 3) <class 'tuple'>\n",
      "('python',) <class 'tuple'>\n"
     ]
    }
   ],
   "source": [
    "#Creating a tuple using tuple function\n",
    "\n",
    "a = tuple('python')\n",
    "print(a, type(a))\n",
    "\n",
    "#Because tuple function will take each element of string as a seprate, we don't use tuple function we use eval function.\n",
    "\n",
    "# ('p', 'y', 't', 'h', 'o', 'n') <class 'tuple'>\n",
    "\n",
    "a = tuple([10,20,30,40])\n",
    "print(a, type(a))\n",
    "\n",
    "a = tuple((1,2,3,4))\n",
    "print(a, type(a))\n",
    "\n",
    "a = tuple({1:100, 2:200, 3:300})\n",
    "print(a, type(a))                   #Take key only of dictionary in tuple\n",
    "\n",
    "#Taking tuple as input from user\n",
    "tpl = eval(input('Enter a tuple'))\n",
    "print(tpl, type(tpl))\n",
    "\n",
    "a = ('python',)\n",
    "print(a, type(a))\n"
   ]
  },
  {
   "cell_type": "code",
   "execution_count": 13,
   "id": "c2ea2589",
   "metadata": {},
   "outputs": [
    {
     "name": "stdout",
     "output_type": "stream",
     "text": [
      "before operation\n",
      "(10, 10.2, 'python', True, None) 2570981737472\n",
      "After operation\n",
      "(10, 10.2, 'python', True, None, 111) 2570981514112\n"
     ]
    }
   ],
   "source": [
    "#Immutability propert of tuple\n",
    "# item assignment is not possible\n",
    "\n",
    "#tpl = (10, 10.20, 'python', True, None) \n",
    "# tpl[2] = 111\n",
    "\n",
    "#This will give error\n",
    "\n",
    "#Changes are not done in this object\n",
    "tpl = (10, 10.20, 'python', True, None) \n",
    "print(\"before operation\")\n",
    "print(tpl, id(tpl))\n",
    "tpl += (111,)\n",
    "print(\"After operation\")\n",
    "print(tpl, id(tpl))\n",
    "\n",
    "# Id is changes so, it means a new object is created so tuple is immutable"
   ]
  },
  {
   "cell_type": "code",
   "execution_count": 15,
   "id": "c46538b0",
   "metadata": {},
   "outputs": [
    {
     "name": "stdout",
     "output_type": "stream",
     "text": [
      "(10, 20, 30, 40, 50, 60) <class 'tuple'>\n",
      "('Sanchit', 101, 100000) <class 'tuple'>\n"
     ]
    }
   ],
   "source": [
    "# Tuple packing--- Assigning multiple values to a single variable\n",
    "\n",
    "a = 10, 20, 30, 40, 50, 60\n",
    "print(a, type(a))\n",
    "\n",
    "emp_name = 'Sanchit'\n",
    "emp_id = 101\n",
    "emp_sal = 100000\n",
    "emp_Det = emp_name, emp_id, emp_sal\n",
    "\n",
    "print(emp_Det, type(emp_Det))"
   ]
  },
  {
   "cell_type": "code",
   "execution_count": 19,
   "id": "4075d138",
   "metadata": {},
   "outputs": [
    {
     "name": "stdout",
     "output_type": "stream",
     "text": [
      "Sanchit\n",
      "101\n",
      "100000\n",
      "10\n",
      "20\n",
      "30\n",
      "1\n",
      "2\n",
      "3\n"
     ]
    }
   ],
   "source": [
    "#Tuple Unpacking\n",
    "#No of element inside the tuple and no of variable should watch. \n",
    "\n",
    "# More or less variable then no of element in tuple will give error.\n",
    "\n",
    "e_name, e_id, e_sal = emp_Det\n",
    "print(e_name)\n",
    "print(e_id)\n",
    "print(e_sal)\n",
    "\n",
    "#Unoacking also applicable on list, tuple, dictionary\n",
    "\n",
    "lst = [10,20,30]\n",
    "a,b,c = lst\n",
    "print(a)\n",
    "print(b)\n",
    "print(c)\n",
    "\n",
    "dic = {1:100, 2:200, 3:300}\n",
    "a,b,c = dic\n",
    "print(a)\n",
    "print(b)\n",
    "print(c)"
   ]
  },
  {
   "cell_type": "code",
   "execution_count": 20,
   "id": "8155b31f",
   "metadata": {},
   "outputs": [
    {
     "name": "stdout",
     "output_type": "stream",
     "text": [
      "['__add__', '__class__', '__contains__', '__delattr__', '__dir__', '__doc__', '__eq__', '__format__', '__ge__', '__getattribute__', '__getitem__', '__getnewargs__', '__gt__', '__hash__', '__init__', '__init_subclass__', '__iter__', '__le__', '__len__', '__lt__', '__mul__', '__ne__', '__new__', '__reduce__', '__reduce_ex__', '__repr__', '__rmul__', '__setattr__', '__sizeof__', '__str__', '__subclasshook__', 'count', 'index']\n"
     ]
    }
   ],
   "source": [
    "#Tuple methods\n",
    "print(dir(tuple))\n",
    "\n",
    "# count', 'index"
   ]
  },
  {
   "cell_type": "code",
   "execution_count": 1,
   "id": "d5ee9bab",
   "metadata": {},
   "outputs": [
    {
     "name": "stdout",
     "output_type": "stream",
     "text": [
      "3\n",
      "4\n",
      "5\n",
      "(10, 20, 30, 40, 111)\n",
      "[10, 20, 30, 40, 111]\n"
     ]
    }
   ],
   "source": [
    "tpl = (10, 10, 20, 300, 100, 10)\n",
    "print(tpl.count(10))\n",
    "\n",
    "tpl = (10, 10, 20, 300, 100, 10)\n",
    "print(tpl.index(100))\n",
    "print(tpl.index(10, -1))    #from rhs  \n",
    "\n",
    "#Tuple does not have much method because it is immutable. But still if we want to apply methods\n",
    "#then first we can convert it into list and then do the methods\n",
    "\n",
    "tpl = (10,20,30,40)\n",
    "lst1 = list(tpl)\n",
    "lst1.append(111)\n",
    "tpl = tuple(lst1)\n",
    "print(tpl)\n",
    "print(lst1)\n"
   ]
  },
  {
   "cell_type": "code",
   "execution_count": 28,
   "id": "66f2e6c4",
   "metadata": {},
   "outputs": [
    {
     "name": "stdout",
     "output_type": "stream",
     "text": [
      "20\n"
     ]
    }
   ],
   "source": [
    "tpl = (10,20,30)\n",
    "print(tpl[1])"
   ]
  },
  {
   "cell_type": "code",
   "execution_count": null,
   "id": "9548c973",
   "metadata": {},
   "outputs": [],
   "source": []
  },
  {
   "cell_type": "code",
   "execution_count": null,
   "id": "c7e0541b",
   "metadata": {},
   "outputs": [],
   "source": []
  },
  {
   "cell_type": "code",
   "execution_count": null,
   "id": "18372ea5",
   "metadata": {},
   "outputs": [],
   "source": []
  }
 ],
 "metadata": {
  "kernelspec": {
   "display_name": "Python 3",
   "language": "python",
   "name": "python3"
  },
  "language_info": {
   "codemirror_mode": {
    "name": "ipython",
    "version": 3
   },
   "file_extension": ".py",
   "mimetype": "text/x-python",
   "name": "python",
   "nbconvert_exporter": "python",
   "pygments_lexer": "ipython3",
   "version": "3.8.8"
  }
 },
 "nbformat": 4,
 "nbformat_minor": 5
}
