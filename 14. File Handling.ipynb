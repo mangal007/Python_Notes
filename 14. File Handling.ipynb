{
 "cells": [
  {
   "cell_type": "markdown",
   "id": "7649a6d6",
   "metadata": {},
   "source": [
    "# File Handling"
   ]
  },
  {
   "cell_type": "code",
   "execution_count": null,
   "id": "6f2e3526",
   "metadata": {},
   "outputs": [],
   "source": [
    "#File Handling --> so how to open, edit file is called as file handling\n",
    "\n",
    "#text file --> text written in it\n",
    "\n",
    "#binary file --> images, videos in it"
   ]
  },
  {
   "cell_type": "code",
   "execution_count": null,
   "id": "7fe5708d",
   "metadata": {},
   "outputs": [],
   "source": [
    "# Points to keep in mind\n",
    "\n",
    "# 1. To read a file we have to open a file     \n",
    "f = open(\"filename.extension\", mode)\n",
    "\n",
    "# 2. Close of file. it is must for a file which is opened\n",
    "f.close()\n",
    "\n",
    "# 3. Data read from file will always a string object\n",
    "\n",
    "# modes of operation  for text file\n",
    "\n",
    "- read mode -->                'r'\n",
    "- write mode -->               'w'\n",
    "- append mode -->              'a'\n",
    "- read and write mode -->      'r+' \n",
    "- write and read mode -->      'w+'\n",
    "- append and read mode -->     'a+'\n",
    "\n",
    "# modes of operation  for binary file\n",
    "\n",
    "- read mode -->                'rb'\n",
    "- write mode -->               'wb'\n",
    "- append mode -->              'ab'\n",
    "- read and write mode -->      'r+b' \n",
    "- write and read mode -->      'w+b'\n",
    "- append and read mode -->     'a+b'\n",
    "\n",
    "# methods on file object\n",
    "- read - reading the content from file\n",
    "\n",
    "- write- writing the content to that file\n",
    "\n",
    "- tell - tells the position of cursor\n",
    "\n",
    "- seek - move the cursor position to specifil index location "
   ]
  },
  {
   "cell_type": "markdown",
   "id": "3e21a0c6",
   "metadata": {},
   "source": [
    "# Modes of Operation"
   ]
  },
  {
   "cell_type": "markdown",
   "id": "4f009597",
   "metadata": {},
   "source": [
    "## 1. Read Mode - 'r'"
   ]
  },
  {
   "cell_type": "markdown",
   "id": "0b06207e",
   "metadata": {},
   "source": [
    "### a. if the file exist then it will open file in read mode and places cursor at begining of file."
   ]
  },
  {
   "cell_type": "markdown",
   "id": "0c9934a8",
   "metadata": {},
   "source": [
    "### b. if file doesn't exist than it will give file not found error."
   ]
  },
  {
   "cell_type": "markdown",
   "id": "f8eaa08f",
   "metadata": {},
   "source": [
    "### c. You are allowed to read only from file and not write anything"
   ]
  },
  {
   "cell_type": "code",
   "execution_count": 3,
   "id": "666a55bd",
   "metadata": {},
   "outputs": [
    {
     "name": "stdout",
     "output_type": "stream",
     "text": [
      " Volume in drive C has no label.\n",
      " Volume Serial Number is A687-A406\n",
      "\n",
      " Directory of C:\\Users\\Dell\\Data Science-Sanchit\\Notes\n",
      "\n",
      "08/11/2021  08:17 AM    <DIR>          .\n",
      "08/11/2021  08:17 AM    <DIR>          ..\n",
      "08/10/2021  11:34 PM    <DIR>          .ipynb_checkpoints\n",
      "08/11/2021  08:08 AM    <DIR>          __pycache__\n",
      "07/10/2021  04:52 PM             9,362 1. Git and Git Bash.ipynb\n",
      "08/08/2021  08:37 AM             8,446 10. Loops- For, While, if, else, elif, break, continue.ipynb\n",
      "08/10/2021  07:23 AM            22,131 11. Functions.ipynb\n",
      "08/10/2021  09:22 AM             7,564 12. Iterators and generators.ipynb\n",
      "08/11/2021  08:14 AM            11,289 13. Modules.ipynb\n",
      "08/11/2021  08:17 AM             6,476 14. File Handling.ipynb\n",
      "07/27/2021  09:32 PM             9,986 2. Python Components, Data types and Types of Operator.ipynb\n",
      "08/05/2021  12:31 PM            10,413 3. Integers.ipynb\n",
      "07/20/2021  10:18 PM             3,200 4. Float, Complex, None and Boolean.ipynb\n",
      "08/08/2021  07:33 AM            39,149 5. Strings.ipynb\n",
      "08/03/2021  01:21 PM            20,813 6. List.ipynb\n",
      "07/30/2021  04:15 PM             8,784 7. Tuple.ipynb\n",
      "07/30/2021  10:12 PM            22,029 8. Dictionary.ipynb\n",
      "07/30/2021  10:24 PM             2,701 9. Set.ipynb\n",
      "08/03/2021  12:30 PM            16,559 Funtion and etc.ipynb\n",
      "08/10/2021  11:33 PM               790 my_module.py\n",
      "              16 File(s)        199,692 bytes\n",
      "               4 Dir(s)  370,682,658,816 bytes free\n"
     ]
    }
   ],
   "source": [
    "ls"
   ]
  },
  {
   "cell_type": "code",
   "execution_count": 9,
   "id": "5c8bfde2",
   "metadata": {},
   "outputs": [
    {
     "name": "stdout",
     "output_type": "stream",
     "text": [
      "0\n",
      "def palindrome(strng):\n",
      "    '''To check if a sting is palindrome'''\n",
      "    if (strng[::-1] == strng):\n",
      "        return \"String is a palindrome\"\n",
      "    else:\n",
      "        return \"string is not a palindrome\"\n",
      "        \n",
      "def fact(num):\n",
      "    '''Program for factorial'''\n",
      "    if(num == 0):\n",
      "        return 1\n",
      "    else:\n",
      "        return num * fact(num-1)\n",
      "\n",
      "#print(__name__)      # it's out come here is __main__ but when this file is imported in other name than it come by its name which is my_module\n",
      "\n",
      "#for testing purpose we line below code. In project this file will be imported and we will be using these functions. so for testing we just #need one argument which we given below by adding a condition so that it can be used in testing only\n",
      "\n",
      "if __name__ == '__main__':\n",
      "    print(palindrome('level'))\n",
      "    print(fact(5))\n",
      "790\n"
     ]
    }
   ],
   "source": [
    "# f = open('abc.txt', 'r')      #File not found error will come as no such file exist\n",
    "f = open('my_module.py', 'r')   # File exist so no error\n",
    "print(f.tell())                 # Location of cursor at begining so it is 0\n",
    "print(f.read())                 # move cursor to begining and read it till cursor reach at end.\n",
    "print(f.tell())                 # Location of cursor after reading file at end so it is 790\n",
    "f.close()                       # Must to close file."
   ]
  },
  {
   "cell_type": "code",
   "execution_count": 10,
   "id": "7a5d077c",
   "metadata": {},
   "outputs": [
    {
     "name": "stdout",
     "output_type": "stream",
     "text": [
      "0\n",
      "50\n",
      "50\n",
      "is palindrome'''\n",
      "    if (strng[::-1] == strng):\n",
      "        return \"String is a palindrome\"\n",
      "    else:\n",
      "        return \"string is not a palindrome\"\n",
      "        \n",
      "def fact(num):\n",
      "    '''Program for factorial'''\n",
      "    if(num == 0):\n",
      "        return 1\n",
      "    else:\n",
      "        return num * fact(num-1)\n",
      "\n",
      "#print(__name__)      # it's out come here is __main__ but when this file is imported in other name than it come by its name which is my_module\n",
      "\n",
      "#for testing purpose we line below code. In project this file will be imported and we will be using these functions. so for testing we just #need one argument which we given below by adding a condition so that it can be used in testing only\n",
      "\n",
      "if __name__ == '__main__':\n",
      "    print(palindrome('level'))\n",
      "    print(fact(5))\n",
      "790\n"
     ]
    }
   ],
   "source": [
    "# f = open('abc.txt', 'r')      #File not found error will come as no such file exist\n",
    "f = open('my_module.py', 'r')   # File exist so no error\n",
    "print(f.tell())                 # Location of cursor at begining so it is 0\n",
    "print(f.seek(50))               # It will move cursor to 50th position and then print data from there\n",
    "print(f.tell())                 # now location is 50\n",
    "print(f.read())                 # move cursor to 50 due to seek and read it till cursor reach at end.\n",
    "print(f.tell())                 # Location of cursor after reading file at end so it is 790\n",
    "f.close()                       # Must to close file."
   ]
  },
  {
   "cell_type": "markdown",
   "id": "83db06d2",
   "metadata": {},
   "source": [
    "## 2. Write Mode - 'w'"
   ]
  },
  {
   "cell_type": "markdown",
   "id": "cfbbb450",
   "metadata": {},
   "source": [
    "### a. if the file exist then it will open the file and delete its content"
   ]
  },
  {
   "cell_type": "markdown",
   "id": "72453df9",
   "metadata": {},
   "source": [
    "### b. if the file doesn't exist then it will create file with that name and extension"
   ]
  },
  {
   "cell_type": "markdown",
   "id": "2ab5f535",
   "metadata": {},
   "source": [
    "### c. you are only allowed to write in the file but not read"
   ]
  },
  {
   "cell_type": "code",
   "execution_count": 12,
   "id": "d139d37b",
   "metadata": {},
   "outputs": [],
   "source": [
    "# If file is not there\n",
    "f = open('write.txt', 'w')         # a new file with 'write.txt' is created\n",
    "f.close() "
   ]
  },
  {
   "cell_type": "code",
   "execution_count": 17,
   "id": "b666e826",
   "metadata": {},
   "outputs": [
    {
     "name": "stdout",
     "output_type": "stream",
     "text": [
      "0\n"
     ]
    }
   ],
   "source": [
    "# if file is there\n",
    "f = open('abc.txt', 'w')    # it will clear the content of abc.txt\n",
    "print(f.tell())\n",
    "f.write('my name is sanchit')   # It will write it inside file\n",
    "f.close()"
   ]
  },
  {
   "cell_type": "markdown",
   "id": "176748c5",
   "metadata": {},
   "source": [
    "## 3. Append Mode - 'a'"
   ]
  },
  {
   "cell_type": "markdown",
   "id": "6d174bbf",
   "metadata": {},
   "source": [
    "### a. if the file exist then it will open the file and put cursor to the end."
   ]
  },
  {
   "cell_type": "markdown",
   "id": "f4839fca",
   "metadata": {},
   "source": [
    "### b. if file is not there than it will create the file."
   ]
  },
  {
   "cell_type": "markdown",
   "id": "75c02596",
   "metadata": {},
   "source": [
    "### c. you can write in the file but cannot read it."
   ]
  },
  {
   "cell_type": "markdown",
   "id": "c1aa712d",
   "metadata": {},
   "source": [
    "### d. append will always write in the end. seek will not work here."
   ]
  },
  {
   "cell_type": "code",
   "execution_count": null,
   "id": "f37fa7c3",
   "metadata": {},
   "outputs": [],
   "source": [
    "# if file is not there then it will create the file"
   ]
  },
  {
   "cell_type": "code",
   "execution_count": 2,
   "id": "e5d737a6",
   "metadata": {},
   "outputs": [
    {
     "name": "stdout",
     "output_type": "stream",
     "text": [
      "86\n",
      "0\n",
      "68\n",
      "154\n"
     ]
    }
   ],
   "source": [
    "# if file is there.\n",
    "f = open('abc.txt', 'a')\n",
    "print(f.tell())\n",
    "#print(f.read())   #error\n",
    "print(f.seek(0))   # This will not work and content will be written at end always.\n",
    "f.write('this will come in the end even though seek command is written before')\n",
    "print(f.tell())\n",
    "f.close()"
   ]
  },
  {
   "cell_type": "markdown",
   "id": "2e2e63b9",
   "metadata": {},
   "source": [
    "## 4. write + mode - 'w+'"
   ]
  },
  {
   "cell_type": "markdown",
   "id": "1339951b",
   "metadata": {},
   "source": [
    "### a. if the file exist then it will open the file and delete its content"
   ]
  },
  {
   "cell_type": "markdown",
   "id": "587bf16b",
   "metadata": {},
   "source": [
    "### b. if the file doesn't exist then it will create file with that name and extension "
   ]
  },
  {
   "cell_type": "markdown",
   "id": "905b9bc8",
   "metadata": {},
   "source": [
    "### c. you are allowed to write in the file and read also."
   ]
  },
  {
   "cell_type": "code",
   "execution_count": 5,
   "id": "ce1912ea",
   "metadata": {},
   "outputs": [
    {
     "name": "stdout",
     "output_type": "stream",
     "text": [
      "0\n",
      "sanchit\n",
      "7\n"
     ]
    }
   ],
   "source": [
    "f = open('abc.txt', 'w+')\n",
    "print(f.tell())\n",
    "f.write('sanchit')\n",
    "f.seek(0)\n",
    "print(f.read())\n",
    "print(f.tell())\n",
    "f.close()"
   ]
  },
  {
   "cell_type": "markdown",
   "id": "7290f7b2",
   "metadata": {},
   "source": [
    "## 5. Read + mode - 'r+'"
   ]
  },
  {
   "cell_type": "markdown",
   "id": "a479a273",
   "metadata": {},
   "source": [
    "### a. if the file exist then it will open file in read mode and places cursor at begining of file."
   ]
  },
  {
   "cell_type": "markdown",
   "id": "4038fcd6",
   "metadata": {},
   "source": [
    "### b. if file doesn't exist than it will give file not found error."
   ]
  },
  {
   "cell_type": "markdown",
   "id": "f546631c",
   "metadata": {},
   "source": [
    "### c. You are allowed to read from file and write anything."
   ]
  },
  {
   "cell_type": "code",
   "execution_count": 6,
   "id": "a81fff77",
   "metadata": {},
   "outputs": [
    {
     "name": "stdout",
     "output_type": "stream",
     "text": [
      "0\n",
      "7\n",
      "3\n"
     ]
    }
   ],
   "source": [
    "f = open('abc.txt', 'r+')\n",
    "print(f.tell())   # 0\n",
    "f.read()\n",
    "print(f.tell())   # 7\n",
    "f.seek(0)\n",
    "f.write('abc')    # it will replace starting three words of sanchit --> abcchit \n",
    "print(f.tell())   # 3\n",
    "f.close()"
   ]
  },
  {
   "cell_type": "markdown",
   "id": "4e547e7a",
   "metadata": {},
   "source": [
    "## 6. Append+ mode - 'a+'"
   ]
  },
  {
   "cell_type": "markdown",
   "id": "53437641",
   "metadata": {},
   "source": [
    "### a. if the file exist then it will open the file and put cursor to the end."
   ]
  },
  {
   "cell_type": "markdown",
   "id": "be63cabd",
   "metadata": {},
   "source": [
    "### b. if file is not there than it will create the file."
   ]
  },
  {
   "cell_type": "markdown",
   "id": "828a2a81",
   "metadata": {},
   "source": [
    "### c. you can write in the file but can read it."
   ]
  },
  {
   "cell_type": "markdown",
   "id": "23309808",
   "metadata": {},
   "source": [
    "### d. append will always write in the end. seek will not work here."
   ]
  },
  {
   "cell_type": "code",
   "execution_count": 10,
   "id": "6dfa3f0d",
   "metadata": {},
   "outputs": [
    {
     "name": "stdout",
     "output_type": "stream",
     "text": [
      "21\n",
      "28\n",
      "abcchit mangal mangal mangal\n",
      "28\n"
     ]
    }
   ],
   "source": [
    "f = open('abc.txt', 'a+')\n",
    "print(f.tell())\n",
    "f.seek(0)\n",
    "f.write(' mangal')\n",
    "print(f.tell())\n",
    "f.seek(0)\n",
    "print(f.read())\n",
    "print(f.tell())\n",
    "f.close()"
   ]
  },
  {
   "cell_type": "markdown",
   "id": "95dbcc04",
   "metadata": {},
   "source": [
    "# Methods to do operation on read mode"
   ]
  },
  {
   "cell_type": "markdown",
   "id": "5fd2fb78",
   "metadata": {},
   "source": [
    "read() - read the whole content of file and return string object\n",
    "read(char) - return the specified number of characters from current position\n",
    "readline() - reads the current line from the current position of cursor and returns the string object\n",
    "readlines() - reads the whole content of file and return the list of string where every element is string and represent line of file"
   ]
  },
  {
   "cell_type": "code",
   "execution_count": 12,
   "id": "46524ad9",
   "metadata": {},
   "outputs": [
    {
     "name": "stdout",
     "output_type": "stream",
     "text": [
      "My name is sanchit\n",
      "This is line 2\n",
      "line 3 is here\n",
      "Messi joing PNG\n"
     ]
    }
   ],
   "source": [
    "f = open('file1.txt', 'r')\n",
    "print(f.read())           #Print whole data as it is"
   ]
  },
  {
   "cell_type": "code",
   "execution_count": 16,
   "id": "7da77d1d",
   "metadata": {},
   "outputs": [
    {
     "name": "stdout",
     "output_type": "stream",
     "text": [
      "My na\n",
      "5\n",
      "15\n",
      "hit\n",
      "This i\n"
     ]
    }
   ],
   "source": [
    "f = open('file1.txt', 'r')\n",
    "print(f.read(5))    #Cursor at start, so 5 characters from start\n",
    "print(f.tell())\n",
    "f.seek(15)          # Cursor moved to 15 position\n",
    "print(f.tell())\n",
    "print(f.read(10))"
   ]
  },
  {
   "cell_type": "code",
   "execution_count": 18,
   "id": "c16d4c1a",
   "metadata": {},
   "outputs": [
    {
     "name": "stdout",
     "output_type": "stream",
     "text": [
      "My name is sanchit\n",
      "\n",
      "hit\n",
      "\n"
     ]
    }
   ],
   "source": [
    "f = open('file1.txt', 'r')\n",
    "print(f.readline())\n",
    "f.seek(15)           #cursor moved to 15 position\n",
    "print(f.readline())  # So it display from 15 position to whatever is left further in that line"
   ]
  },
  {
   "cell_type": "code",
   "execution_count": 20,
   "id": "55d47e03",
   "metadata": {},
   "outputs": [
    {
     "name": "stdout",
     "output_type": "stream",
     "text": [
      "['My name is sanchit\\n', 'This is line 2\\n', 'line 3 is here\\n', 'Messi joing PNG']\n",
      "['hit\\n', 'This is line 2\\n', 'line 3 is here\\n', 'Messi joing PNG']\n"
     ]
    }
   ],
   "source": [
    "f = open('file1.txt', 'r')\n",
    "print(f.readlines())        #Output is list containg each line\n",
    "f.seek(15)\n",
    "print(f.readlines())        #Output is list containg each line from 15th position onwards"
   ]
  },
  {
   "cell_type": "code",
   "execution_count": 23,
   "id": "23852814",
   "metadata": {},
   "outputs": [],
   "source": [
    "#This is how we can store data in variable and then do operation on that.\n",
    "f = open('file1.txt', 'r')\n",
    "lst = f.readlines()\n",
    "f.close()\n",
    "\n",
    "print(len(lst))\n",
    "for i in lst:\n",
    "    print(i[::-1])"
   ]
  },
  {
   "cell_type": "markdown",
   "id": "c397d6e5",
   "metadata": {},
   "source": [
    "# Methods to do operation on Write mode."
   ]
  },
  {
   "cell_type": "code",
   "execution_count": null,
   "id": "036fcb97",
   "metadata": {},
   "outputs": [],
   "source": [
    "a. write('str')\n",
    "b. writelines(['str1\\n', 'str2\\n', 'str3\\n', 'str4\\n'])"
   ]
  },
  {
   "cell_type": "code",
   "execution_count": 25,
   "id": "005c8a8b",
   "metadata": {},
   "outputs": [],
   "source": [
    "f = open('file2.txt', 'w')\n",
    "f.writelines(['This is line 1\\n', 'This is line 2\\n', 'Aur bhai ye teesei'])\n",
    "f.close()"
   ]
  },
  {
   "cell_type": "markdown",
   "id": "3f0eff1c",
   "metadata": {},
   "source": [
    "### syntax 2 of file handling - no need to close file in this."
   ]
  },
  {
   "cell_type": "code",
   "execution_count": 26,
   "id": "2ee6b990",
   "metadata": {},
   "outputs": [
    {
     "name": "stdout",
     "output_type": "stream",
     "text": [
      "This is line 1\n",
      "This is line 2\n",
      "Aur bhai ye teesei\n"
     ]
    }
   ],
   "source": [
    "with open('file2.txt', 'r') as f:\n",
    "    print(f.read())"
   ]
  },
  {
   "cell_type": "code",
   "execution_count": null,
   "id": "76919621",
   "metadata": {},
   "outputs": [],
   "source": [
    "#Practice question\n",
    "\n",
    "It is a Hindu festival celebrated by women in northern and western parts of India as well.\n",
    "as bihar and Jharkhand to pray for the well-being of their husbands. This is observed in the holy month of Shravan and is also known as Sawan Teej.\n",
    "stainable development is an organizing principle for meeting human development goals while simultaneously sustaining the ability of natural systems to provide the natural resources and ecosystem services on which the economy and society depend.\n",
    "Secularism is the principle of seeking to conduct human affairs based on secular, naturalistic considerations.\n",
    "\n",
    "Q1- Calculate characters, words and lines of this para which is saved in a file."
   ]
  },
  {
   "cell_type": "code",
   "execution_count": 32,
   "id": "90710aab",
   "metadata": {},
   "outputs": [
    {
     "name": "stdout",
     "output_type": "stream",
     "text": [
      "594\n",
      "['It is a Hindu festival celebrated by women in northern and western parts of India as well.\\n', 'as bihar and Jharkhand to pray for the well-being of their husbands. This is observed in the holy month of Shravan and is also known as Sawan Teej.\\n', 'stainable development is an organizing principle for meeting human development goals while simultaneously sustaining the ability of natural systems to provide the natural resources and ecosystem services on which the economy and society depend.\\n', 'Secularism is the principle of seeking to conduct human affairs based on secular, naturalistic considerations.']\n",
      "94\n",
      "4\n"
     ]
    }
   ],
   "source": [
    "with open('write.txt', 'r') as f:\n",
    "    words = f.read()\n",
    "    print(f.tell())\n",
    "    f.seek(0)\n",
    "    lst2 = f.readlines()\n",
    "    print(lst2)\n",
    "    \n",
    "print(len(words.split()))\n",
    "print(len(lst2))"
   ]
  },
  {
   "cell_type": "code",
   "execution_count": null,
   "id": "11641af4",
   "metadata": {},
   "outputs": [],
   "source": [
    "Q2. Take one image file, copy its content to a new file."
   ]
  },
  {
   "cell_type": "code",
   "execution_count": 33,
   "id": "ca57029c",
   "metadata": {},
   "outputs": [],
   "source": [
    "with open('caduceus.jpg', 'rb') as f1:\n",
    "    with open('new.png', 'wb') as f2:\n",
    "        var = f1.read()\n",
    "        f2.write(var)    "
   ]
  },
  {
   "cell_type": "code",
   "execution_count": null,
   "id": "0417852e",
   "metadata": {},
   "outputs": [],
   "source": []
  },
  {
   "cell_type": "code",
   "execution_count": null,
   "id": "8725bd85",
   "metadata": {},
   "outputs": [],
   "source": []
  },
  {
   "cell_type": "code",
   "execution_count": null,
   "id": "d9a91ffb",
   "metadata": {},
   "outputs": [],
   "source": []
  }
 ],
 "metadata": {
  "kernelspec": {
   "display_name": "Python 3",
   "language": "python",
   "name": "python3"
  },
  "language_info": {
   "codemirror_mode": {
    "name": "ipython",
    "version": 3
   },
   "file_extension": ".py",
   "mimetype": "text/x-python",
   "name": "python",
   "nbconvert_exporter": "python",
   "pygments_lexer": "ipython3",
   "version": "3.8.8"
  }
 },
 "nbformat": 4,
 "nbformat_minor": 5
}
