{
 "cells": [
  {
   "cell_type": "code",
   "execution_count": null,
   "id": "7d3fa207",
   "metadata": {},
   "outputs": [],
   "source": [
    "#Python Components\n",
    "#Literal --> Any Value Integer, float, boolean, string\n",
    "\n",
    "#Identifiers --> Any name like variable, function, constant, class\n",
    "\n",
    "#Reserved words --> Built in function etc\n",
    "\n",
    "#Expression (It always give result) and statements (Just a statement like a=10)\n",
    "\n",
    "#Block and identation --> Like function block or if else elif while def class try block. identation(:) is used to create block\n",
    "\n",
    "#Comments --> '#' is used to write comment\n",
    "\n",
    "#Escape Sequence --> '\\n'=new line, '\\t'= tab space, '\\v'=vertical tab, '\\'=to escape something, '\\b' = Backspace, '\\r' = Carriage return, 'r'\n",
    "\n",
    "#Data Types --> Fundamental(Integer, float, complex, boolean, string) Derived(list, tuple, dictionary, set, frozenset, range,bytes,bytearray)\n",
    "\n",
    "#Operators --> Arithematic operations, bitwise operator, \n"
   ]
  },
  {
   "cell_type": "code",
   "execution_count": 1,
   "id": "7c8df0c4",
   "metadata": {},
   "outputs": [],
   "source": [
    "#Data Types\n",
    "# Fundamental data type\n",
    "-->Integer--> Any number without decimal. Can be represented in binary, octal and hexadecimal\n",
    "-->Float  --> decimal number\n",
    "-->Complex--> a+bj, 10+2j\n",
    "-->Boolean--> True and False\n",
    "-->String --> 'python', \"...\", '''....''', \"\"\"....\"\"\" \n",
    "# Derived Data type\n",
    "-->List          -->  []\n",
    "-->tuple         -->  ()\n",
    "-->Dictionary    -->  {key1:value1, key2:value2} ---{'name':'sanchit', 'age':30}\n",
    "-->Set           -->  {10,20,30,40} --->Set of any unique values\n",
    "-->Frozenset     --> {10,20,30,40} ---> Set of unique value but they are modifiable\n",
    "-->Range         -->  range(start,stop, step)\n",
    "-->Byte          --> It is and array which represent data in byte.\n",
    "-->Bytearray"
   ]
  },
  {
   "cell_type": "code",
   "execution_count": null,
   "id": "04f7fa2a",
   "metadata": {},
   "outputs": [],
   "source": [
    "#Operators\n",
    "    1.Arithematic--> +, -, *, /(True or float Division), //(floor division), %(Modulo operation), **(Exponent) \n",
    "    2.Comparision--> <, <=, >, >=\n",
    "    3.Equality--> ==, !=\n",
    "    4.Logical--> and, or, not\n",
    "    5.Bitwise--> &, |, ^, ~, <<, >>\n",
    "    6.Assignment--> =\n",
    "    7.Compound assignment--> +=, -=, *=, /=, //=, %=, **=, &=, |=, ^=, ~=, <<=, >>=\n",
    "    8.Membership-->in, not in\n",
    "    9.Identity-->is, is not\n",
    "    10.Ternary operator-->exp1 if cond1 else exp2 \n",
    "    11.operator precedence"
   ]
  },
  {
   "cell_type": "code",
   "execution_count": null,
   "id": "5a4b67c9",
   "metadata": {},
   "outputs": [],
   "source": [
    "11. #Operator Precedence\n",
    "\n",
    "# Operators                                     \tMeaning\n",
    "# ()                                            \tParentheses\n",
    "# **                                            \tExponent\n",
    "# +x, -x, ~x                                    \tUnary plus, Unary minus, Bitwise NOT\n",
    "# *, /, //, %                                   \tMultiplication, Division, Floor division, Modulus\n",
    "# +, -                                          \tAddition, Subtraction\n",
    "# <<, >>                                        \tBitwise shift operators\n",
    "# &                                             \tBitwise AND\n",
    "# ^                                             \tBitwise XOR\n",
    "# |                                             \tBitwise OR\n",
    "# ==, !=, >, >=, <, <=, is, is not, in, not in  \tComparisons, Identity, Membership operators\n",
    "# not                                           \tLogical NOT\n",
    "# and                                           \tLogical AND\n",
    "# or                                            \tLogical OR\n"
   ]
  },
  {
   "cell_type": "code",
   "execution_count": 7,
   "id": "7cb9971a",
   "metadata": {},
   "outputs": [],
   "source": [
    "#list can be modified and their address id remain same\n",
    "lst =[10,20,30]\n",
    "print('befor operation')\n",
    "print(lst, id(lst))\n",
    "print('after operation')\n",
    "lst[0]=111\n",
    "print(lst, id(lst))\n",
    "\n",
    "#tuple cannot be modified and their address id will change\n",
    "tpl = (10,20,30)\n",
    "print('befor operation')\n",
    "print(tpl, id(tpl))\n",
    "#tpl(0) = (111) --> Will give error\n",
    "tpl = tpl + (111,)\n",
    "print('after operation')\n",
    "print(tpl, id(tpl))"
   ]
  },
  {
   "cell_type": "code",
   "execution_count": null,
   "id": "9f2bcace",
   "metadata": {},
   "outputs": [],
   "source": [
    "#Object Reusability\n",
    "    #1. Integer Caching\n",
    "    #2. String Interning\n",
    "\n",
    "#It's a concept of to save memory\n",
    "\n",
    "#Integers --> -5 to 256\n",
    "#String ----> A to Z, a-z, 0-9, _\n",
    "#Boolean----> True, False\n",
    "#None\n",
    "\n",
    "# These are preloaded in cpython to save memory allocation. As these are frequently used."
   ]
  },
  {
   "cell_type": "code",
   "execution_count": 2,
   "id": "593ade5c",
   "metadata": {},
   "outputs": [
    {
     "name": "stdout",
     "output_type": "stream",
     "text": [
      "['False', 'None', 'True', 'and', 'as', 'assert', 'async', 'await', 'break', 'class', 'continue', 'def', 'del', 'elif', 'else', 'except', 'finally', 'for', 'from', 'global', 'if', 'import', 'in', 'is', 'lambda', 'nonlocal', 'not', 'or', 'pass', 'raise', 'return', 'try', 'while', 'with', 'yield']\n"
     ]
    }
   ],
   "source": [
    "#Reserved words\n",
    "\n",
    "import keyword\n",
    "print(keyword.kwlist)"
   ]
  },
  {
   "cell_type": "code",
   "execution_count": null,
   "id": "9f784a62",
   "metadata": {},
   "outputs": [],
   "source": [
    "Rule for identifiers\n",
    "must rules\n",
    "1. Name can contain a-z, A-Z, 0-9, _\n",
    "2. Should not contain special characters\n",
    "3. Not start with number\n",
    "4. Should not be a reserved word/keyword\n",
    "5. It is case sensitive\n",
    "\n",
    "Recommended rules\n",
    "5. Do not start with __\n"
   ]
  },
  {
   "cell_type": "code",
   "execution_count": 7,
   "id": "5179b60e",
   "metadata": {},
   "outputs": [
    {
     "data": {
      "text/plain": [
       "['__abs__',\n",
       " '__add__',\n",
       " '__and__',\n",
       " '__bool__',\n",
       " '__ceil__',\n",
       " '__class__',\n",
       " '__delattr__',\n",
       " '__dir__',\n",
       " '__divmod__',\n",
       " '__doc__',\n",
       " '__eq__',\n",
       " '__float__',\n",
       " '__floor__',\n",
       " '__floordiv__',\n",
       " '__format__',\n",
       " '__ge__',\n",
       " '__getattribute__',\n",
       " '__getnewargs__',\n",
       " '__gt__',\n",
       " '__hash__',\n",
       " '__index__',\n",
       " '__init__',\n",
       " '__init_subclass__',\n",
       " '__int__',\n",
       " '__invert__',\n",
       " '__le__',\n",
       " '__lshift__',\n",
       " '__lt__',\n",
       " '__mod__',\n",
       " '__mul__',\n",
       " '__ne__',\n",
       " '__neg__',\n",
       " '__new__',\n",
       " '__or__',\n",
       " '__pos__',\n",
       " '__pow__',\n",
       " '__radd__',\n",
       " '__rand__',\n",
       " '__rdivmod__',\n",
       " '__reduce__',\n",
       " '__reduce_ex__',\n",
       " '__repr__',\n",
       " '__rfloordiv__',\n",
       " '__rlshift__',\n",
       " '__rmod__',\n",
       " '__rmul__',\n",
       " '__ror__',\n",
       " '__round__',\n",
       " '__rpow__',\n",
       " '__rrshift__',\n",
       " '__rshift__',\n",
       " '__rsub__',\n",
       " '__rtruediv__',\n",
       " '__rxor__',\n",
       " '__setattr__',\n",
       " '__sizeof__',\n",
       " '__str__',\n",
       " '__sub__',\n",
       " '__subclasshook__',\n",
       " '__truediv__',\n",
       " '__trunc__',\n",
       " '__xor__',\n",
       " 'as_integer_ratio',\n",
       " 'bit_length',\n",
       " 'conjugate',\n",
       " 'denominator',\n",
       " 'from_bytes',\n",
       " 'imag',\n",
       " 'numerator',\n",
       " 'real',\n",
       " 'to_bytes']"
      ]
     },
     "execution_count": 7,
     "metadata": {},
     "output_type": "execute_result"
    }
   ],
   "source": [
    "dir(int)"
   ]
  },
  {
   "cell_type": "code",
   "execution_count": 5,
   "id": "4b282f63",
   "metadata": {},
   "outputs": [
    {
     "data": {
      "text/plain": [
       "'A'"
      ]
     },
     "execution_count": 5,
     "metadata": {},
     "output_type": "execute_result"
    }
   ],
   "source": [
    "chr(65)"
   ]
  },
  {
   "cell_type": "code",
   "execution_count": 7,
   "id": "1558814f",
   "metadata": {},
   "outputs": [
    {
     "data": {
      "text/plain": [
       "65"
      ]
     },
     "execution_count": 7,
     "metadata": {},
     "output_type": "execute_result"
    }
   ],
   "source": [
    "ord('A')"
   ]
  },
  {
   "cell_type": "code",
   "execution_count": null,
   "id": "5acd1f76",
   "metadata": {},
   "outputs": [],
   "source": [
    "Immutable data types are :- Integers, Float, Complex, string, tuple\n",
    "Mutable data types are: - List"
   ]
  },
  {
   "cell_type": "code",
   "execution_count": null,
   "id": "7ac5ca8f",
   "metadata": {},
   "outputs": [],
   "source": []
  }
 ],
 "metadata": {
  "kernelspec": {
   "display_name": "Python 3",
   "language": "python",
   "name": "python3"
  },
  "language_info": {
   "codemirror_mode": {
    "name": "ipython",
    "version": 3
   },
   "file_extension": ".py",
   "mimetype": "text/x-python",
   "name": "python",
   "nbconvert_exporter": "python",
   "pygments_lexer": "ipython3",
   "version": "3.8.8"
  }
 },
 "nbformat": 4,
 "nbformat_minor": 5
}
