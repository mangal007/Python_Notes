{
 "cells": [
  {
   "cell_type": "markdown",
   "id": "1d4ba63b",
   "metadata": {},
   "source": [
    "# For Loops"
   ]
  },
  {
   "cell_type": "code",
   "execution_count": null,
   "id": "a4a321d3",
   "metadata": {},
   "outputs": [],
   "source": [
    "for fixed iteration we use for loops\n",
    "\n",
    "#Syntax\n",
    "\n",
    "for var in iterable:\n",
    "    stmt 1\n",
    "    stmt 2\n",
    "    stmt 3\n",
    "    stmt 4"
   ]
  },
  {
   "cell_type": "code",
   "execution_count": null,
   "id": "0c7a2369",
   "metadata": {},
   "outputs": [],
   "source": [
    "#Iterable are those which have __iter__ in their dir(data type)\n",
    "like string, list, tuple, dictionary, \n",
    "\n",
    "For loop will run for the length of iterable\n",
    "for example if iterable has len 4 then 4 times."
   ]
  },
  {
   "cell_type": "markdown",
   "id": "baf7f18e",
   "metadata": {},
   "source": [
    "# While Loop"
   ]
  },
  {
   "cell_type": "code",
   "execution_count": null,
   "id": "a237b43c",
   "metadata": {},
   "outputs": [],
   "source": [
    "#While loop\n",
    "- If we don't know the iteration\n",
    "- if we want to stop the loop bases on some condition.\n",
    "\n",
    "syntax\n",
    "1. intialization\n",
    "2. condition checking\n",
    "3. increment / decrement"
   ]
  },
  {
   "cell_type": "code",
   "execution_count": null,
   "id": "d08e8c33",
   "metadata": {},
   "outputs": [],
   "source": [
    "While condition:\n",
    "    stmt:"
   ]
  },
  {
   "cell_type": "code",
   "execution_count": null,
   "id": "2d52eca2",
   "metadata": {},
   "outputs": [],
   "source": [
    "1 to 10 using while loop"
   ]
  },
  {
   "cell_type": "code",
   "execution_count": 5,
   "id": "aa98ad20",
   "metadata": {},
   "outputs": [
    {
     "name": "stdout",
     "output_type": "stream",
     "text": [
      "1\n",
      "2\n",
      "3\n",
      "4\n",
      "5\n",
      "6\n",
      "7\n",
      "8\n",
      "9\n",
      "10\n"
     ]
    }
   ],
   "source": [
    "i = 1      # Intialization\n",
    "while i<11:    # Condition\n",
    "    print(i)\n",
    "    i = i+1    # Increment "
   ]
  },
  {
   "cell_type": "markdown",
   "id": "6b3ab1f7",
   "metadata": {},
   "source": [
    "# only if Condition"
   ]
  },
  {
   "cell_type": "code",
   "execution_count": null,
   "id": "9e174d49",
   "metadata": {},
   "outputs": [],
   "source": [
    "If condition 1:\n",
    "    Stat 1\n",
    "    stat 2 \n",
    "    \n",
    "#If condition 1 is true then stat1 and stat2 will be executed otherwise not  "
   ]
  },
  {
   "cell_type": "markdown",
   "id": "927c79d3",
   "metadata": {},
   "source": [
    "# If else condition"
   ]
  },
  {
   "cell_type": "code",
   "execution_count": null,
   "id": "9af57bab",
   "metadata": {},
   "outputs": [],
   "source": [
    "If condition 1:\n",
    "    Stat 1\n",
    "    stat 2 \n",
    "else:\n",
    "    stat 3\n",
    "    stat 4\n",
    "    \n",
    "#If condition 1 is true then stat1 and stat2 will be executed otherwise stat3 and stat 4 will be executed. alone else is not\n",
    "#possible. Else will only work when if condition 1 is false.    "
   ]
  },
  {
   "cell_type": "markdown",
   "id": "8da61f86",
   "metadata": {},
   "source": [
    "# Multiple if and else condition"
   ]
  },
  {
   "cell_type": "code",
   "execution_count": null,
   "id": "09792eb5",
   "metadata": {},
   "outputs": [],
   "source": [
    "If condition 1:\n",
    "    Stat 1\n",
    "    stat 2 \n",
    "If condition 2:\n",
    "    Stat 5\n",
    "    stat 6 \n",
    "else:\n",
    "    stat 11\n",
    "    stat 12\n",
    "If condition 3:\n",
    "    Stat 7\n",
    "    stat 8 \n",
    "If condition 4:\n",
    "    Stat 9\n",
    "    stat 10 \n",
    "else:\n",
    "    stat 3\n",
    "    stat 4\n",
    "    \n",
    "# In this case code will check each individual condition of if.\n",
    "# else is only linked with if condition just above it and not all if. for instance here, \n",
    "# else will only be executed if condition 4 is false or condition 2 is false.\n",
    "\n",
    "# if condition 1 is true rest is false  ---> stat1, stat2, stat11, stat12, stat 3 and stat 4 executed.\n",
    "# if condition 2 and 4 is true rest is false --> stat5, stat6 , stat9 and stat 10 will be executed.   \n",
    "    "
   ]
  },
  {
   "cell_type": "markdown",
   "id": "e5e41d22",
   "metadata": {},
   "source": [
    "# Nested if condition"
   ]
  },
  {
   "cell_type": "code",
   "execution_count": null,
   "id": "4e0d0043",
   "metadata": {},
   "outputs": [],
   "source": [
    "If condition 1:\n",
    "    Stat 1\n",
    "    stat 2 \n",
    "If condition 2:\n",
    "    Stat 5\n",
    "    stat 6 \n",
    "    if conditon 5:\n",
    "        stat 11\n",
    "        stat 12\n",
    "    else:\n",
    "        stat 13\n",
    "        stat 14\n",
    "If condition 3:\n",
    "    Stat 7\n",
    "    stat 8 \n",
    "If condition 4:\n",
    "    Stat 9\n",
    "    stat 10 \n",
    "    if conditon 6:\n",
    "        stat 15\n",
    "        stat 16\n",
    "else:\n",
    "    stat 3\n",
    "    stat 4\n",
    "    \n",
    "# conditon 5 will only be executed if condition 2 is true.\n",
    "# conditon 6 will only be executed if condition 4 is true.\n",
    "# stat 3 and stat 4 will only be executed if consition 4 is false.\n",
    "# stat 13 and stat 14 will be executed if condition 2 is true and condition 5 is false."
   ]
  },
  {
   "cell_type": "markdown",
   "id": "a1df8e45",
   "metadata": {},
   "source": [
    "# if elif else"
   ]
  },
  {
   "cell_type": "code",
   "execution_count": null,
   "id": "3a8a5659",
   "metadata": {},
   "outputs": [],
   "source": [
    "stat 1\n",
    "stat 2\n",
    "if condition 1:\n",
    "    stat 3\n",
    "    stat 4\n",
    "elif condition 2:\n",
    "    stat 5\n",
    "    stat 6\n",
    "elif condition 3:\n",
    "    stat 7\n",
    "    stat 8\n",
    "else:\n",
    "    stat 9\n",
    "    stat 10\n",
    "\n",
    "#elif work when above condition get false.\n",
    "# elif condition 2 will only be executed if condition 1 is false.\n",
    "# elif condition 3 will only be excecuted if condition 1 and 2 and false\n",
    "# else will only be excecuted if all above conditions are false.\n",
    "# This elif save time of loop as like multiple if condition it doesn't go for each condition to check."
   ]
  },
  {
   "cell_type": "markdown",
   "id": "4bb23157",
   "metadata": {},
   "source": [
    "# Break -- break condition is used to break out from the loop"
   ]
  },
  {
   "cell_type": "code",
   "execution_count": 2,
   "id": "d2adcde1",
   "metadata": {},
   "outputs": [
    {
     "name": "stdout",
     "output_type": "stream",
     "text": [
      "0\n",
      "1\n",
      "2\n",
      "end of loop\n"
     ]
    }
   ],
   "source": [
    "for i in range(9):\n",
    "    if i==3:\n",
    "        break\n",
    "    print(i)\n",
    "print('end of loop')"
   ]
  },
  {
   "cell_type": "markdown",
   "id": "20982a0a",
   "metadata": {},
   "source": [
    "# Continue -- continue condition is used to skip currennt iteration."
   ]
  },
  {
   "cell_type": "code",
   "execution_count": 3,
   "id": "f68598d9",
   "metadata": {},
   "outputs": [
    {
     "name": "stdout",
     "output_type": "stream",
     "text": [
      "0\n",
      "1\n",
      "2\n",
      "4\n",
      "5\n",
      "6\n",
      "7\n",
      "8\n",
      "end of loop\n"
     ]
    }
   ],
   "source": [
    "for i in range(9):\n",
    "    if i==3:\n",
    "        continue\n",
    "    print(i)\n",
    "print('end of loop')\n",
    "\n",
    "#It just skips iteration when i == 3, that's why no 3 in result"
   ]
  },
  {
   "cell_type": "code",
   "execution_count": null,
   "id": "83d54017",
   "metadata": {},
   "outputs": [],
   "source": []
  },
  {
   "cell_type": "code",
   "execution_count": null,
   "id": "4663d6e7",
   "metadata": {},
   "outputs": [],
   "source": []
  }
 ],
 "metadata": {
  "kernelspec": {
   "display_name": "Python 3",
   "language": "python",
   "name": "python3"
  },
  "language_info": {
   "codemirror_mode": {
    "name": "ipython",
    "version": 3
   },
   "file_extension": ".py",
   "mimetype": "text/x-python",
   "name": "python",
   "nbconvert_exporter": "python",
   "pygments_lexer": "ipython3",
   "version": "3.8.8"
  }
 },
 "nbformat": 4,
 "nbformat_minor": 5
}
