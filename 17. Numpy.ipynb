{
 "cells": [
  {
   "cell_type": "markdown",
   "id": "f69a5661",
   "metadata": {},
   "source": [
    "# NUMPY"
   ]
  },
  {
   "cell_type": "code",
   "execution_count": null,
   "id": "9c6ddcd9",
   "metadata": {},
   "outputs": [],
   "source": [
    "# numpy - Numerical Python\n",
    "# Computation and procession of a 1D or multidimensional array\n",
    "# Numpy is fastest library because it is written in C\n",
    "# Collection of homogenous data. you can not have multiple data types in array"
   ]
  },
  {
   "cell_type": "code",
   "execution_count": 1,
   "id": "8fb28e13",
   "metadata": {},
   "outputs": [
    {
     "name": "stdout",
     "output_type": "stream",
     "text": [
      "Requirement already satisfied: numpy in c:\\users\\dell\\anaconda3\\lib\\site-packages (1.20.1)\n"
     ]
    }
   ],
   "source": [
    "# How to check if numpy is installed\n",
    "!pip install numpy"
   ]
  },
  {
   "cell_type": "code",
   "execution_count": 2,
   "id": "ee9995e9",
   "metadata": {},
   "outputs": [],
   "source": [
    "import numpy as np"
   ]
  },
  {
   "cell_type": "markdown",
   "id": "882147ef",
   "metadata": {},
   "source": [
    "### Creating of Numpy"
   ]
  },
  {
   "cell_type": "code",
   "execution_count": 3,
   "id": "9118e50e",
   "metadata": {},
   "outputs": [
    {
     "name": "stdout",
     "output_type": "stream",
     "text": [
      "[1 2 3 4] <class 'numpy.ndarray'>\n"
     ]
    }
   ],
   "source": [
    "# 1. List, tuple\n",
    "\n",
    "lst = [1,2,3,4]\n",
    "\n",
    "a = np.array(lst)\n",
    "print(a, type(a))"
   ]
  },
  {
   "cell_type": "code",
   "execution_count": 10,
   "id": "01b1ec6e",
   "metadata": {},
   "outputs": [
    {
     "data": {
      "text/plain": [
       "array([1, 2, 3, 4])"
      ]
     },
     "execution_count": 10,
     "metadata": {},
     "output_type": "execute_result"
    }
   ],
   "source": [
    "a"
   ]
  },
  {
   "cell_type": "code",
   "execution_count": 60,
   "id": "35de36b2",
   "metadata": {},
   "outputs": [
    {
     "name": "stdout",
     "output_type": "stream",
     "text": [
      "[['scbjdc']\n",
      " ['bjkeddfe']] <class 'numpy.ndarray'>\n"
     ]
    }
   ],
   "source": [
    "b = np.array([['scbjdc'], ['bjkeddfe']])\n",
    "print(b, type(b))"
   ]
  },
  {
   "cell_type": "code",
   "execution_count": 11,
   "id": "e3199a34",
   "metadata": {},
   "outputs": [
    {
     "data": {
      "text/plain": [
       "array('abc, efg, efrf, efef', dtype='<U20')"
      ]
     },
     "execution_count": 11,
     "metadata": {},
     "output_type": "execute_result"
    }
   ],
   "source": [
    "b"
   ]
  },
  {
   "cell_type": "code",
   "execution_count": null,
   "id": "29e76db0",
   "metadata": {},
   "outputs": [],
   "source": [
    "#dimension - number of rows and columns\n",
    "\n",
    "# Scaler --> Having only 1 value. for scaler dimesnion is 0\n",
    "\n",
    "# Vector --> Have multiple values but no rows and columns\n",
    "\n",
    "#2D --> Have Rows and columns\n",
    "\n",
    "#3D --> Rows, columns and depth"
   ]
  },
  {
   "cell_type": "code",
   "execution_count": 12,
   "id": "e72569a2",
   "metadata": {},
   "outputs": [
    {
     "data": {
      "text/plain": [
       "1"
      ]
     },
     "execution_count": 12,
     "metadata": {},
     "output_type": "execute_result"
    }
   ],
   "source": [
    "lst = [1,2,3,4]\n",
    "\n",
    "a = np.array(lst)\n",
    "\n",
    "a.ndim   # 1 dimesnional"
   ]
  },
  {
   "cell_type": "code",
   "execution_count": 13,
   "id": "5bfc0e3a",
   "metadata": {},
   "outputs": [
    {
     "data": {
      "text/plain": [
       "4"
      ]
     },
     "execution_count": 13,
     "metadata": {},
     "output_type": "execute_result"
    }
   ],
   "source": [
    "#Size - Number of elements in array\n",
    "a.size"
   ]
  },
  {
   "cell_type": "code",
   "execution_count": 14,
   "id": "c8eccd5a",
   "metadata": {},
   "outputs": [
    {
     "data": {
      "text/plain": [
       "(4,)"
      ]
     },
     "execution_count": 14,
     "metadata": {},
     "output_type": "execute_result"
    }
   ],
   "source": [
    "# Shape --> will give rows and columns but if it is a vector then it is same as size with a comma\n",
    "\n",
    "a.shape \n",
    "\n",
    "# (4,) --> It means it is a vector"
   ]
  },
  {
   "cell_type": "code",
   "execution_count": 22,
   "id": "9acf7392",
   "metadata": {},
   "outputs": [
    {
     "name": "stdout",
     "output_type": "stream",
     "text": [
      "0\n",
      "1\n",
      "()\n"
     ]
    }
   ],
   "source": [
    "# Dimension, shape and size of a scaler value\n",
    "b = np.array(1)\n",
    "print(b.ndim)\n",
    "print(b.size)\n",
    "print(b.shape)"
   ]
  },
  {
   "cell_type": "code",
   "execution_count": 23,
   "id": "26d1b740",
   "metadata": {},
   "outputs": [
    {
     "name": "stdout",
     "output_type": "stream",
     "text": [
      "1\n",
      "5\n",
      "(5,)\n"
     ]
    }
   ],
   "source": [
    "# Dimension, shape and size of a vector value\n",
    "lst = [1,2,3,4,5]\n",
    "c = np.array(lst)\n",
    "print(c.ndim)\n",
    "print(c.size)\n",
    "print(c.shape)"
   ]
  },
  {
   "cell_type": "code",
   "execution_count": 24,
   "id": "97edc180",
   "metadata": {},
   "outputs": [
    {
     "name": "stdout",
     "output_type": "stream",
     "text": [
      "2\n",
      "6\n",
      "(3, 2)\n"
     ]
    }
   ],
   "source": [
    "# Dimension, shape and size of a 2D array\n",
    "lst = [[1,2], [3,4], [5,6]]\n",
    "d = np.array(lst)\n",
    "print(d.ndim)\n",
    "print(d.size)\n",
    "print(d.shape)"
   ]
  },
  {
   "cell_type": "code",
   "execution_count": 25,
   "id": "907bfc83",
   "metadata": {},
   "outputs": [
    {
     "name": "stdout",
     "output_type": "stream",
     "text": [
      "3\n",
      "12\n",
      "(2, 3, 2)\n"
     ]
    }
   ],
   "source": [
    "# Dimension, shape and size of a 3D array\n",
    "lst = [[[1,2], [3,4], [5,6]], [[7,8], [9,0], [2,3]]]\n",
    "e = np.array(lst)\n",
    "print(e.ndim)\n",
    "print(e.size)\n",
    "print(e.shape)"
   ]
  },
  {
   "cell_type": "code",
   "execution_count": 29,
   "id": "a1f09fbd",
   "metadata": {},
   "outputs": [
    {
     "name": "stdout",
     "output_type": "stream",
     "text": [
      "[0 1 2 3 4 5 6 7 8 9]\n",
      "[3 5 7 9]\n"
     ]
    }
   ],
   "source": [
    "# arange --> array of a range\n",
    "\n",
    "r1 = np.arange(10)           #--> This will give an array of value from 0 to 9\n",
    "r2 = np.arange(3,10,2)\n",
    "\n",
    "print(r1)\n",
    "print(r2)"
   ]
  },
  {
   "cell_type": "code",
   "execution_count": 31,
   "id": "de2c51c4",
   "metadata": {},
   "outputs": [
    {
     "data": {
      "text/plain": [
       "array([ 1.        ,  1.47368421,  1.94736842,  2.42105263,  2.89473684,\n",
       "        3.36842105,  3.84210526,  4.31578947,  4.78947368,  5.26315789,\n",
       "        5.73684211,  6.21052632,  6.68421053,  7.15789474,  7.63157895,\n",
       "        8.10526316,  8.57894737,  9.05263158,  9.52631579, 10.        ])"
      ]
     },
     "execution_count": 31,
     "metadata": {},
     "output_type": "execute_result"
    }
   ],
   "source": [
    "#linspace --> Linear space\n",
    "\n",
    "np.linspace(1,10,20) # 1 to 10 in 20 equal divison and 1 and 10 is inclusive"
   ]
  },
  {
   "cell_type": "code",
   "execution_count": 32,
   "id": "1febce22",
   "metadata": {},
   "outputs": [
    {
     "data": {
      "text/plain": [
       "array([0., 0., 0., 0., 0., 0., 0., 0., 0., 0.])"
      ]
     },
     "execution_count": 32,
     "metadata": {},
     "output_type": "execute_result"
    }
   ],
   "source": [
    "#Zeros\n",
    "\n",
    "np.zeros(10)   #--> Array of ten elements with 0 value. 0. --> float"
   ]
  },
  {
   "cell_type": "code",
   "execution_count": 36,
   "id": "bbb89e56",
   "metadata": {},
   "outputs": [
    {
     "data": {
      "text/plain": [
       "array([[0., 0., 0., 0., 0.],\n",
       "       [0., 0., 0., 0., 0.],\n",
       "       [0., 0., 0., 0., 0.],\n",
       "       [0., 0., 0., 0., 0.]])"
      ]
     },
     "execution_count": 36,
     "metadata": {},
     "output_type": "execute_result"
    }
   ],
   "source": [
    "np.zeros((4,5))"
   ]
  },
  {
   "cell_type": "code",
   "execution_count": 43,
   "id": "ff461750",
   "metadata": {},
   "outputs": [
    {
     "name": "stdout",
     "output_type": "stream",
     "text": [
      "3\n",
      "60\n",
      "(4, 5, 3)\n"
     ]
    }
   ],
   "source": [
    "a = np.zeros((4,5,3))\n",
    "print(a.ndim)\n",
    "print(a.size)\n",
    "print(a.shape)"
   ]
  },
  {
   "cell_type": "code",
   "execution_count": 3,
   "id": "1b6820ab",
   "metadata": {},
   "outputs": [
    {
     "name": "stdout",
     "output_type": "stream",
     "text": [
      "[[[0 0]\n",
      "  [0 0]\n",
      "  [0 0]]\n",
      "\n",
      " [[0 0]\n",
      "  [0 0]\n",
      "  [0 0]]]\n"
     ]
    }
   ],
   "source": [
    "#zeros_like --> Replace values by 0 in a given array\n",
    "import numpy as np\n",
    "lst = [[[1,2], [3,4], [5,6]], [[7,8], [9,0], [2,3]]]\n",
    "a = np.array(lst)\n",
    "b = np.zeros_like(a)\n",
    "print(b)"
   ]
  },
  {
   "cell_type": "code",
   "execution_count": 4,
   "id": "cc5cc65e",
   "metadata": {},
   "outputs": [
    {
     "name": "stdout",
     "output_type": "stream",
     "text": [
      "[[0. 0. 0. 0.]\n",
      " [0. 0. 0. 0.]\n",
      " [0. 0. 0. 0.]]\n"
     ]
    }
   ],
   "source": [
    "ary = np.ones((3,4))\n",
    "ary1 = np.zeros_like(ary)\n",
    "print(ary1)"
   ]
  },
  {
   "cell_type": "code",
   "execution_count": 47,
   "id": "2a9940bd",
   "metadata": {},
   "outputs": [
    {
     "name": "stdout",
     "output_type": "stream",
     "text": [
      "[1. 1. 1. 1. 1. 1. 1. 1. 1. 1.]\n",
      "*****\n",
      "[[1. 1.]\n",
      " [1. 1.]\n",
      " [1. 1.]\n",
      " [1. 1.]\n",
      " [1. 1.]]\n",
      "*****\n",
      "[[[1. 1. 1.]\n",
      "  [1. 1. 1.]]\n",
      "\n",
      " [[1. 1. 1.]\n",
      "  [1. 1. 1.]]\n",
      "\n",
      " [[1. 1. 1.]\n",
      "  [1. 1. 1.]]\n",
      "\n",
      " [[1. 1. 1.]\n",
      "  [1. 1. 1.]]\n",
      "\n",
      " [[1. 1. 1.]\n",
      "  [1. 1. 1.]]]\n"
     ]
    }
   ],
   "source": [
    "#ones\n",
    "b = np.ones(10)\n",
    "c = np.ones((5,2))\n",
    "d = np.ones((5,2,3))\n",
    "print(b)\n",
    "print('*****')\n",
    "print(c)\n",
    "print('*****')\n",
    "print(d)"
   ]
  },
  {
   "cell_type": "code",
   "execution_count": 6,
   "id": "c57c2ecf",
   "metadata": {},
   "outputs": [
    {
     "data": {
      "text/plain": [
       "array([[1., 0., 0., 0., 0.],\n",
       "       [0., 1., 0., 0., 0.],\n",
       "       [0., 0., 1., 0., 0.],\n",
       "       [0., 0., 0., 1., 0.],\n",
       "       [0., 0., 0., 0., 1.]])"
      ]
     },
     "execution_count": 6,
     "metadata": {},
     "output_type": "execute_result"
    }
   ],
   "source": [
    "# Identity Matrix\n",
    "\n",
    "# n * n  --> Rows and columns should be same\n",
    "\n",
    "# Diagnoal is 1\n",
    "\n",
    "np.eye(5)"
   ]
  },
  {
   "cell_type": "code",
   "execution_count": 16,
   "id": "3adcec72",
   "metadata": {},
   "outputs": [
    {
     "data": {
      "text/plain": [
       "array([[0.96686739, 0.1649058 , 0.74527957],\n",
       "       [0.77028474, 0.29724132, 0.18514607],\n",
       "       [0.46344787, 0.15795619, 0.06638916],\n",
       "       [0.96430023, 0.56190283, 0.27494779]])"
      ]
     },
     "execution_count": 16,
     "metadata": {},
     "output_type": "execute_result"
    }
   ],
   "source": [
    "#Random\n",
    "\n",
    "np.random.rand(4,3)    # values only from 0 to 1 will come, it will be random value always. 4x3 is Row x column"
   ]
  },
  {
   "cell_type": "code",
   "execution_count": 34,
   "id": "0c059f41",
   "metadata": {},
   "outputs": [
    {
     "data": {
      "text/plain": [
       "array([[ 8, 11,  8, 13, 10],\n",
       "       [16,  7,  9, 15, 19],\n",
       "       [12, 13, 14,  8, 16],\n",
       "       [ 8, 14, 13,  7,  6]])"
      ]
     },
     "execution_count": 34,
     "metadata": {},
     "output_type": "execute_result"
    }
   ],
   "source": [
    "# Random int\n",
    "\n",
    "np.random.randint(6, 20, (4,5))   # Low is 5 inclusive, high is 20 exclusive 4,5 is row and column respectively "
   ]
  },
  {
   "cell_type": "markdown",
   "id": "4cf27614",
   "metadata": {},
   "source": [
    "### Change the shape of array"
   ]
  },
  {
   "cell_type": "code",
   "execution_count": 36,
   "id": "1e6f7bfe",
   "metadata": {},
   "outputs": [
    {
     "name": "stdout",
     "output_type": "stream",
     "text": [
      "[0 1 2 3 4 5]\n",
      "(6,)\n"
     ]
    }
   ],
   "source": [
    "a = np.arange(6)\n",
    "print(a)\n",
    "print(a.shape)\n",
    "#dimesnion --> 1\n",
    "#size --> 6\n",
    "# Shape --> 6"
   ]
  },
  {
   "cell_type": "code",
   "execution_count": 37,
   "id": "a2658f49",
   "metadata": {},
   "outputs": [
    {
     "name": "stdout",
     "output_type": "stream",
     "text": [
      "[[0 1 2]\n",
      " [3 4 5]]\n",
      "\n",
      "[[0 1]\n",
      " [2 3]\n",
      " [4 5]]\n",
      "\n",
      "[[0 1 2 3 4 5]]\n",
      "\n",
      "[[0]\n",
      " [1]\n",
      " [2]\n",
      " [3]\n",
      " [4]\n",
      " [5]]\n",
      "\n"
     ]
    }
   ],
   "source": [
    "# reshape()\n",
    "\n",
    "# multiplication of rows and columns given in reshape should be equal to size of array to be reshaped. \n",
    "\n",
    "# for e.g for a array of size 6, following are possibilities\n",
    "\n",
    "# 2 x 3\n",
    "# 3 x 2\n",
    "# 1 x 6\n",
    "# 6 x 1\n",
    "\n",
    "# 9 x 2 not possible as it require 18 elements.\n",
    "a = np.arange(6)\n",
    "a1 = a.reshape(2,3)\n",
    "print(a1)\n",
    "print()\n",
    "a2 = a.reshape(3,2)\n",
    "print(a2)\n",
    "print()\n",
    "a3 = a.reshape(1,6)\n",
    "print(a3)\n",
    "print()\n",
    "a4 = a.reshape(6,1)\n",
    "print(a4)\n",
    "print()"
   ]
  },
  {
   "cell_type": "code",
   "execution_count": 39,
   "id": "5c645bde",
   "metadata": {},
   "outputs": [
    {
     "data": {
      "text/plain": [
       "array([[[ 0,  1,  2,  3,  4],\n",
       "        [ 5,  6,  7,  8,  9],\n",
       "        [10, 11, 12, 13, 14],\n",
       "        [15, 16, 17, 18, 19],\n",
       "        [20, 21, 22, 23, 24]]])"
      ]
     },
     "execution_count": 39,
     "metadata": {},
     "output_type": "execute_result"
    }
   ],
   "source": [
    "np.arange(25).reshape(1,5,5)  #---> 3D matrix\n",
    "np.arange(25).reshape(5,5,1)\n",
    "np.arange(25).reshape(5,1,5)\n",
    "\n",
    "# All above are correct"
   ]
  },
  {
   "cell_type": "code",
   "execution_count": 52,
   "id": "6058563f",
   "metadata": {},
   "outputs": [],
   "source": [
    "# inferred --> Program will calculate columns itself\n",
    "\n",
    "#wherever we write -1 in reshape, program will calculate that value by itself\n",
    "\n",
    "# -1 Can only be used once in reshape.\n",
    "\n",
    "# 2D array\n",
    "c = np.arange(125).reshape(25, -1)   # 25 rows are given. -1 will indicate program to calculate columns itself\n",
    "print(c)\n",
    "\n",
    "# 3D array\n",
    "e = np.arange(125).reshape(-1, 5, 1)\n",
    "print(e)"
   ]
  },
  {
   "cell_type": "code",
   "execution_count": 55,
   "id": "7aac248f",
   "metadata": {},
   "outputs": [
    {
     "name": "stdout",
     "output_type": "stream",
     "text": [
      "[[ 0  1  2]\n",
      " [ 3  4  5]\n",
      " [ 6  7  8]\n",
      " [ 9 10 11]\n",
      " [12 13 14]\n",
      " [15 16 17]]\n",
      "(6, 3)\n",
      "\n",
      "[[ 0  3  6  9 12 15]\n",
      " [ 1  4  7 10 13 16]\n",
      " [ 2  5  8 11 14 17]]\n",
      "(3, 6)\n"
     ]
    }
   ],
   "source": [
    "# Transpose of array convert rows into column and column into rows of a given matrix\n",
    "\n",
    "# a = m * n\n",
    "# b = n * m\n",
    "\n",
    "# b is transpose Matrix of a\n",
    "\n",
    "a1 = np.arange(18).reshape(6,-1)\n",
    "print(a1)\n",
    "print(a1.shape)\n",
    "print()\n",
    "a2 = a1.T\n",
    "print(a2)\n",
    "print(a2.shape)"
   ]
  },
  {
   "cell_type": "code",
   "execution_count": 68,
   "id": "782a8f27",
   "metadata": {},
   "outputs": [
    {
     "data": {
      "text/plain": [
       "(2, 6)"
      ]
     },
     "execution_count": 68,
     "metadata": {},
     "output_type": "execute_result"
    }
   ],
   "source": [
    "asian_country = np.array([['india', 'china', 'nepal', 'srilanka', 'bhutan', 'hongkong'], ['india', 'china', 'nepal', 'srilanka', 'bhutan', 'hongkong']])\n",
    "#asian_country\n",
    "asian_country.shape"
   ]
  },
  {
   "cell_type": "code",
   "execution_count": 71,
   "id": "9523fe18",
   "metadata": {},
   "outputs": [
    {
     "name": "stdout",
     "output_type": "stream",
     "text": [
      "[['india' 'china' 'nepal' 'srilanka']\n",
      " ['bhutan' 'hongkong' 'india' 'china']\n",
      " ['nepal' 'srilanka' 'bhutan' 'hongkong']]\n",
      "\n",
      "[['india' 'bhutan' 'nepal']\n",
      " ['china' 'hongkong' 'srilanka']\n",
      " ['nepal' 'india' 'bhutan']\n",
      " ['srilanka' 'china' 'hongkong']]\n"
     ]
    }
   ],
   "source": [
    "a = asian_country.reshape(3, -1)\n",
    "print(a)\n",
    "print()\n",
    "print(a.T)\n",
    "# dtype='<U8 --> It means all strings length are less then equal to 8"
   ]
  },
  {
   "cell_type": "code",
   "execution_count": 93,
   "id": "b59c09b7",
   "metadata": {},
   "outputs": [
    {
     "name": "stdout",
     "output_type": "stream",
     "text": [
      "['india' 'china' 'nepal' 'srilanka' 'bhutan' 'hongkong']\n",
      "\n",
      "[[['india']\n",
      "  ['china']\n",
      "  ['nepal']]\n",
      "\n",
      " [['srilanka']\n",
      "  ['bhutan']\n",
      "  ['hongkong']]]\n",
      "\n",
      "(2, 3, 1)\n",
      "\n",
      "['india' 'china' 'nepal' 'srilanka' 'bhutan' 'hongkong']\n"
     ]
    }
   ],
   "source": [
    "# Ravel --> convert nd array into 1D\n",
    "\n",
    "ac = np.array(['india', 'china', 'nepal', 'srilanka', 'bhutan', 'hongkong'])\n",
    "print(ac)\n",
    "print()\n",
    "a = ac.reshape(2,3,1)\n",
    "print(a)\n",
    "print()\n",
    "print(a.shape)   #--> (6,)\n",
    "print()\n",
    "d = a.ravel()\n",
    "print(d)"
   ]
  },
  {
   "cell_type": "code",
   "execution_count": null,
   "id": "9188a40e",
   "metadata": {},
   "outputs": [],
   "source": [
    "# attribute - No brackets\n",
    "# method () - function call"
   ]
  },
  {
   "cell_type": "markdown",
   "id": "32bc0870",
   "metadata": {},
   "source": [
    "### Basic operations on array"
   ]
  },
  {
   "cell_type": "code",
   "execution_count": null,
   "id": "aa97ea9f",
   "metadata": {},
   "outputs": [],
   "source": [
    "# Elementwise "
   ]
  },
  {
   "cell_type": "code",
   "execution_count": 94,
   "id": "6fdd6cff",
   "metadata": {},
   "outputs": [
    {
     "data": {
      "text/plain": [
       "array([ 60,  80, 100, 120])"
      ]
     },
     "execution_count": 94,
     "metadata": {},
     "output_type": "execute_result"
    }
   ],
   "source": [
    "# arithematic operation elementwise\n",
    "\n",
    "a = np.array([10,20,30,40])\n",
    "b = np.array([50,60,70,80])\n",
    "\n",
    "a + b"
   ]
  },
  {
   "cell_type": "code",
   "execution_count": 95,
   "id": "0cc45a7f",
   "metadata": {},
   "outputs": [
    {
     "data": {
      "text/plain": [
       "array([-40, -40, -40, -40])"
      ]
     },
     "execution_count": 95,
     "metadata": {},
     "output_type": "execute_result"
    }
   ],
   "source": [
    "a - b"
   ]
  },
  {
   "cell_type": "code",
   "execution_count": 96,
   "id": "58864318",
   "metadata": {},
   "outputs": [
    {
     "data": {
      "text/plain": [
       "array([0.2       , 0.33333333, 0.42857143, 0.5       ])"
      ]
     },
     "execution_count": 96,
     "metadata": {},
     "output_type": "execute_result"
    }
   ],
   "source": [
    "a/b"
   ]
  },
  {
   "cell_type": "code",
   "execution_count": 98,
   "id": "111274ce",
   "metadata": {},
   "outputs": [
    {
     "data": {
      "text/plain": [
       "array([0, 0, 0, 0], dtype=int32)"
      ]
     },
     "execution_count": 98,
     "metadata": {},
     "output_type": "execute_result"
    }
   ],
   "source": [
    "a//b"
   ]
  },
  {
   "cell_type": "code",
   "execution_count": 99,
   "id": "8280d7ad",
   "metadata": {},
   "outputs": [
    {
     "data": {
      "text/plain": [
       "array([ True,  True, False, False])"
      ]
     },
     "execution_count": 99,
     "metadata": {},
     "output_type": "execute_result"
    }
   ],
   "source": [
    "a<30"
   ]
  },
  {
   "cell_type": "code",
   "execution_count": 100,
   "id": "14ae39f9",
   "metadata": {},
   "outputs": [
    {
     "data": {
      "text/plain": [
       "array([False, False, False,  True])"
      ]
     },
     "execution_count": 100,
     "metadata": {},
     "output_type": "execute_result"
    }
   ],
   "source": [
    "a>30"
   ]
  },
  {
   "cell_type": "code",
   "execution_count": 101,
   "id": "39fc0424",
   "metadata": {},
   "outputs": [
    {
     "data": {
      "text/plain": [
       "array([ 500, 1200, 2100, 3200])"
      ]
     },
     "execution_count": 101,
     "metadata": {},
     "output_type": "execute_result"
    }
   ],
   "source": [
    "a*b   #--> This is elementwise multiplication"
   ]
  },
  {
   "cell_type": "code",
   "execution_count": null,
   "id": "2f02ecb1",
   "metadata": {},
   "outputs": [],
   "source": [
    "# Elemtwise multiplication and dot matrix multiplication"
   ]
  },
  {
   "cell_type": "code",
   "execution_count": 106,
   "id": "28467339",
   "metadata": {},
   "outputs": [
    {
     "name": "stdout",
     "output_type": "stream",
     "text": [
      "[[ 0  1  2]\n",
      " [ 3  4  5]\n",
      " [ 6  7  8]\n",
      " [ 9 10 11]]\n",
      "\n",
      "(4, 3)\n",
      "\n",
      "[[13  5  7  6  7]\n",
      " [ 8 10 14  7 11]\n",
      " [ 5  9  7 14  5]]\n",
      "\n",
      "(3, 5)\n",
      "\n",
      "[[ 18  28  28  35  21]\n",
      " [ 96 100 112 116  90]\n",
      " [174 172 196 197 159]\n",
      " [252 244 280 278 228]]\n",
      "\n",
      "(4, 5)\n"
     ]
    }
   ],
   "source": [
    "# dot product muliplication\n",
    "\n",
    "a = np.arange(12).reshape(4,3)\n",
    "b = np.random.randint(5, 15, (3,5))\n",
    "\n",
    "print(a)\n",
    "print()\n",
    "print(a.shape)\n",
    "\n",
    "print()\n",
    "print(b)\n",
    "print()\n",
    "print(b.shape)\n",
    "print()\n",
    "\n",
    "c = a.dot(b)\n",
    "print(c)\n",
    "print()\n",
    "print(c.shape)"
   ]
  },
  {
   "cell_type": "code",
   "execution_count": 108,
   "id": "e03eef44",
   "metadata": {},
   "outputs": [
    {
     "name": "stdout",
     "output_type": "stream",
     "text": [
      "400\n",
      "10\n",
      "190\n"
     ]
    }
   ],
   "source": [
    "aay = np.array([10,90,110,190])\n",
    "\n",
    "# Sum of all values of array\n",
    "print(aay.sum())\n",
    "\n",
    "\n",
    "# minimum of all values of array\n",
    "print(aay.min())\n",
    "\n",
    "\n",
    "# maximum of all values of array\n",
    "print(aay.max())"
   ]
  },
  {
   "cell_type": "code",
   "execution_count": 110,
   "id": "63eda765",
   "metadata": {},
   "outputs": [
    {
     "name": "stdout",
     "output_type": "stream",
     "text": [
      "[[ 0  1  2  3  4  5]\n",
      " [ 6  7  8  9 10 11]\n",
      " [12 13 14 15 16 17]\n",
      " [18 19 20 21 22 23]]\n",
      "\n",
      "276\n"
     ]
    }
   ],
   "source": [
    "num = np.arange(24).reshape(4,6)\n",
    "print(num)\n",
    "print()\n",
    "print(num.sum())\n",
    "# This will give sum of all value of matrix but how to find sum of rows only or column only. "
   ]
  },
  {
   "cell_type": "code",
   "execution_count": 114,
   "id": "62fe8a4d",
   "metadata": {},
   "outputs": [
    {
     "name": "stdout",
     "output_type": "stream",
     "text": [
      "[[ 0  1  2  3  4  5]\n",
      " [ 6  7  8  9 10 11]\n",
      " [12 13 14 15 16 17]\n",
      " [18 19 20 21 22 23]]\n",
      "\n",
      "[ 15  51  87 123]\n",
      "\n",
      "[36 40 44 48 52 56]\n",
      "\n",
      "[ 0  6 12 18]\n",
      "\n",
      "[0 1 2 3 4 5]\n",
      "\n",
      "[ 5 11 17 23]\n",
      "\n",
      "[18 19 20 21 22 23]\n",
      "15\n"
     ]
    }
   ],
   "source": [
    "# 1 --> Rows\n",
    "\n",
    "# 2 --> columns\n",
    "\n",
    "num = np.arange(24).reshape(4,6)\n",
    "print(num)\n",
    "print()\n",
    "print(num.sum(axis=1))   # Vector of sum of rows\n",
    "print()\n",
    "print(num.sum(axis=0))   # Vector of sum of columns\n",
    "print()\n",
    "print(num.min(axis=1))   # Vector of min of rows\n",
    "print()\n",
    "print(num.min(axis=0))   # Vector of min of columns\n",
    "print()\n",
    "print(num.max(axis=1))   # Vector of max of rows\n",
    "print()\n",
    "print(num.max(axis=0))   # Vector of max of columns\n",
    "\n",
    "print(num.sum(axis =1).min()) # This will give the minimum value from a array which is sum of all rows"
   ]
  },
  {
   "cell_type": "code",
   "execution_count": 116,
   "id": "97668e9d",
   "metadata": {},
   "outputs": [
    {
     "name": "stdout",
     "output_type": "stream",
     "text": [
      "[6 6 6 6 6]\n",
      "[-4 -2  0  2  4]\n",
      "[5 8 9 8 5]\n",
      "[0.2 0.5 1.  2.  5. ]\n"
     ]
    }
   ],
   "source": [
    "a = np.array([1,2,3,4,5])\n",
    "b = np.array([5,4,3,2,1])\n",
    "\n",
    "print(np.add(a,b))\n",
    "print(np.subtract(a,b))\n",
    "print(np.multiply(a,b))\n",
    "print(np.divide(a,b))"
   ]
  },
  {
   "cell_type": "code",
   "execution_count": 119,
   "id": "f171e92a",
   "metadata": {},
   "outputs": [
    {
     "data": {
      "text/plain": [
       "array([0., 0., 0., 0.])"
      ]
     },
     "execution_count": 119,
     "metadata": {},
     "output_type": "execute_result"
    }
   ],
   "source": [
    "# To get log value of any number\n",
    "np.log([1,1,1,1])  # Log of 1 is 0"
   ]
  },
  {
   "cell_type": "code",
   "execution_count": 122,
   "id": "949ded0c",
   "metadata": {},
   "outputs": [
    {
     "data": {
      "text/plain": [
       "array([2., 3., 4., 5.])"
      ]
     },
     "execution_count": 122,
     "metadata": {},
     "output_type": "execute_result"
    }
   ],
   "source": [
    "# To get Sqrt\n",
    "np.sqrt([4,9,16,25])"
   ]
  },
  {
   "cell_type": "code",
   "execution_count": 123,
   "id": "3c198552",
   "metadata": {},
   "outputs": [
    {
     "data": {
      "text/plain": [
       "array([ 1,  4,  9, 16], dtype=int32)"
      ]
     },
     "execution_count": 123,
     "metadata": {},
     "output_type": "execute_result"
    }
   ],
   "source": [
    "# to get square\n",
    "np.square([1,2,3,4])"
   ]
  },
  {
   "cell_type": "code",
   "execution_count": 124,
   "id": "58b832dd",
   "metadata": {},
   "outputs": [
    {
     "data": {
      "text/plain": [
       "array([ 0.89399666,  0.        , -0.80115264])"
      ]
     },
     "execution_count": 124,
     "metadata": {},
     "output_type": "execute_result"
    }
   ],
   "source": [
    "np.sin([90, 0, 180])"
   ]
  },
  {
   "cell_type": "markdown",
   "id": "6fdc304f",
   "metadata": {},
   "source": [
    "#### Mean = Average"
   ]
  },
  {
   "cell_type": "code",
   "execution_count": null,
   "id": "75d61333",
   "metadata": {},
   "outputs": [],
   "source": [
    "Mean of 1,2,3,4 = (1+2+3+4)/4 =2.5"
   ]
  },
  {
   "cell_type": "markdown",
   "id": "40f6a1b4",
   "metadata": {},
   "source": [
    "#### Median = Arrange value in ascending and then middle value. if it is even quantity then average of middle two"
   ]
  },
  {
   "cell_type": "code",
   "execution_count": null,
   "id": "dc5a6f49",
   "metadata": {},
   "outputs": [],
   "source": [
    "Median of 3,2,4,5,1 --> 1,2,3,4,5 Median = 3\n",
    "median of 3,2,5,4  --> 2,3,4,5 median = (3+4)/2 = 3.5"
   ]
  },
  {
   "cell_type": "markdown",
   "id": "4a8b9e73",
   "metadata": {},
   "source": [
    "#### Mode = Most occured Value"
   ]
  },
  {
   "cell_type": "code",
   "execution_count": 126,
   "id": "9fd685a9",
   "metadata": {},
   "outputs": [
    {
     "name": "stdout",
     "output_type": "stream",
     "text": [
      "16.0\n",
      "15.0\n"
     ]
    }
   ],
   "source": [
    "a = np.array([10,20,30,4])\n",
    "print(a.mean())\n",
    "print(np.median(a))"
   ]
  },
  {
   "cell_type": "markdown",
   "id": "72d820a1",
   "metadata": {},
   "source": [
    "### Indexing and Slicing in array"
   ]
  },
  {
   "cell_type": "code",
   "execution_count": 9,
   "id": "0b51482b",
   "metadata": {},
   "outputs": [],
   "source": [
    "import numpy as np\n",
    "\n",
    "b = np.array([[1,2,3], [4,5,6]])"
   ]
  },
  {
   "cell_type": "code",
   "execution_count": 4,
   "id": "2e193be1",
   "metadata": {},
   "outputs": [
    {
     "data": {
      "text/plain": [
       "6"
      ]
     },
     "execution_count": 4,
     "metadata": {},
     "output_type": "execute_result"
    }
   ],
   "source": [
    "#Indexing is same as in list\n",
    "\n",
    "b[1][-1]  # --> 6"
   ]
  },
  {
   "cell_type": "code",
   "execution_count": 11,
   "id": "7280d972",
   "metadata": {},
   "outputs": [
    {
     "data": {
      "text/plain": [
       "6"
      ]
     },
     "execution_count": 11,
     "metadata": {},
     "output_type": "execute_result"
    }
   ],
   "source": [
    "# Other way of indexing in array is \n",
    "b[1,-1]"
   ]
  },
  {
   "cell_type": "code",
   "execution_count": 13,
   "id": "a0b79dd4",
   "metadata": {},
   "outputs": [
    {
     "data": {
      "text/plain": [
       "array([[ 0,  1,  2,  3,  4],\n",
       "       [ 5,  6,  7,  8,  9],\n",
       "       [10, 11, 12, 13, 14],\n",
       "       [15, 16, 17, 18, 19],\n",
       "       [20, 21, 22, 23, 24]])"
      ]
     },
     "execution_count": 13,
     "metadata": {},
     "output_type": "execute_result"
    }
   ],
   "source": [
    "a1 = np.arange(25).reshape(5,5)\n",
    "a1"
   ]
  },
  {
   "cell_type": "code",
   "execution_count": 16,
   "id": "46f6b7ab",
   "metadata": {},
   "outputs": [
    {
     "data": {
      "text/plain": [
       "array([[ 7,  8],\n",
       "       [12, 13]])"
      ]
     },
     "execution_count": 16,
     "metadata": {},
     "output_type": "execute_result"
    }
   ],
   "source": [
    "#Indexing of array\n",
    "a1[1:3,2:4]     \n",
    "\n",
    "# 1:3 --> Row 1 and 2\n",
    "\n",
    "# 2:4 --> Column 2 and 3\n",
    "\n",
    "#This indexing will always give result in form of array"
   ]
  },
  {
   "cell_type": "code",
   "execution_count": 17,
   "id": "99bf5a07",
   "metadata": {},
   "outputs": [
    {
     "data": {
      "text/plain": [
       "array([[ 2,  3],\n",
       "       [ 7,  8],\n",
       "       [12, 13],\n",
       "       [17, 18],\n",
       "       [22, 23]])"
      ]
     },
     "execution_count": 17,
     "metadata": {},
     "output_type": "execute_result"
    }
   ],
   "source": [
    "a1[:,2:4]\n",
    "\n",
    "# :, --> It means all rows\n",
    "\n",
    "# 2:4 --> Start column = 2 and stop column = 4"
   ]
  },
  {
   "cell_type": "code",
   "execution_count": 18,
   "id": "0738bf2a",
   "metadata": {},
   "outputs": [
    {
     "data": {
      "text/plain": [
       "array([[12, 13],\n",
       "       [17, 18],\n",
       "       [22, 23]])"
      ]
     },
     "execution_count": 18,
     "metadata": {},
     "output_type": "execute_result"
    }
   ],
   "source": [
    "a1[2:,2:4]"
   ]
  },
  {
   "cell_type": "code",
   "execution_count": 19,
   "id": "055c51fe",
   "metadata": {},
   "outputs": [
    {
     "data": {
      "text/plain": [
       "array([ 1,  6, 11, 16, 21])"
      ]
     },
     "execution_count": 19,
     "metadata": {},
     "output_type": "execute_result"
    }
   ],
   "source": [
    "a1[:,1]  \n",
    "\n",
    "# : --> All rows\n",
    "\n",
    "# 1 --> Only column 1"
   ]
  },
  {
   "cell_type": "code",
   "execution_count": 20,
   "id": "74ca1e64",
   "metadata": {},
   "outputs": [
    {
     "data": {
      "text/plain": [
       "array([[ 2,  4],\n",
       "       [12, 14],\n",
       "       [22, 24]])"
      ]
     },
     "execution_count": 20,
     "metadata": {},
     "output_type": "execute_result"
    }
   ],
   "source": [
    "a1[::2,2::2]\n",
    "\n",
    "# ::2 --> start = 0 stop = 5, step = 2 of rows\n",
    "\n",
    "# 2::2 --> Strt = 2, stop = 5, step = 2 of columns"
   ]
  },
  {
   "cell_type": "code",
   "execution_count": 22,
   "id": "0efd9aee",
   "metadata": {},
   "outputs": [
    {
     "data": {
      "text/plain": [
       "array([[ 0,  1,  2,  3,  4,  5,  6,  7,  8],\n",
       "       [ 9, 10, 11, 12, 13, 14, 15, 16, 17],\n",
       "       [18, 19, 20, 21, 22, 23, 24, 25, 26],\n",
       "       [27, 28, 29, 30, 31, 32, 33, 34, 35]])"
      ]
     },
     "execution_count": 22,
     "metadata": {},
     "output_type": "execute_result"
    }
   ],
   "source": [
    "a1 = np.arange(36).reshape(4,-1)\n",
    "a1"
   ]
  },
  {
   "cell_type": "code",
   "execution_count": 23,
   "id": "c19a0e75",
   "metadata": {},
   "outputs": [
    {
     "data": {
      "text/plain": [
       "8"
      ]
     },
     "execution_count": 23,
     "metadata": {},
     "output_type": "execute_result"
    }
   ],
   "source": [
    "# To find the number of elements less than 8\n",
    "np.sum(a1<8)"
   ]
  },
  {
   "cell_type": "code",
   "execution_count": 24,
   "id": "c7455ebc",
   "metadata": {},
   "outputs": [
    {
     "data": {
      "text/plain": [
       "array([[ True,  True,  True,  True,  True,  True,  True,  True, False],\n",
       "       [False, False, False, False, False, False, False, False, False],\n",
       "       [False, False, False, False, False, False, False, False, False],\n",
       "       [False, False, False, False, False, False, False, False, False]])"
      ]
     },
     "execution_count": 24,
     "metadata": {},
     "output_type": "execute_result"
    }
   ],
   "source": [
    "a1<8"
   ]
  },
  {
   "cell_type": "code",
   "execution_count": 2,
   "id": "7b001009",
   "metadata": {},
   "outputs": [
    {
     "name": "stdout",
     "output_type": "stream",
     "text": [
      "4976\n"
     ]
    }
   ],
   "source": [
    "import numpy as np\n",
    "a1 = np.random.randint(5, 1000, (100, 50))\n",
    "print(np.sum(a1>8))"
   ]
  },
  {
   "cell_type": "code",
   "execution_count": 5,
   "id": "52a74676",
   "metadata": {},
   "outputs": [
    {
     "data": {
      "text/plain": [
       "array([[582, 120, 304,  53, 634, 114, 418, 345,  81, 118, 293, 175, 292],\n",
       "       [837, 324, 647, 690, 415, 805, 790, 466, 894, 306, 470,  74, 469],\n",
       "       [340, 314, 101, 810, 793, 240, 225, 410, 243, 470, 245, 677, 781],\n",
       "       [563, 391, 988, 705,  32, 879, 288, 749, 744, 147, 276, 730, 769],\n",
       "       [253,  41, 483, 156, 167, 867, 192, 711, 895, 569,  99, 956,  17],\n",
       "       [673, 730, 996, 345, 741, 807, 972, 685,  39, 668,  14, 254,  19],\n",
       "       [400, 994, 510, 485, 928, 850, 953, 839, 230, 312, 956,  45, 189],\n",
       "       [ 88, 164, 720, 726, 410, 845, 602, 188, 986, 153, 852,  51, 470],\n",
       "       [181, 191, 161, 109, 989, 774, 116, 269, 403, 222,  67, 500, 991],\n",
       "       [434, 877, 249, 368, 514, 983, 460, 953, 165,  96, 648, 571, 515]])"
      ]
     },
     "execution_count": 5,
     "metadata": {},
     "output_type": "execute_result"
    }
   ],
   "source": [
    "a1 = np.random.randint(5, 1000, (10, 13))\n",
    "a1"
   ]
  },
  {
   "cell_type": "code",
   "execution_count": 59,
   "id": "335ab285",
   "metadata": {},
   "outputs": [
    {
     "name": "stdout",
     "output_type": "stream",
     "text": [
      "[4 4 4 4 3 4 4 4 4 4]\n"
     ]
    },
    {
     "data": {
      "text/plain": [
       "array([[ True,  True,  True,  True],\n",
       "       [ True,  True,  True,  True],\n",
       "       [ True,  True,  True,  True],\n",
       "       [ True,  True,  True,  True],\n",
       "       [ True, False,  True,  True],\n",
       "       [ True,  True,  True,  True],\n",
       "       [ True,  True,  True,  True],\n",
       "       [ True,  True,  True,  True],\n",
       "       [ True,  True,  True,  True],\n",
       "       [ True,  True,  True,  True]])"
      ]
     },
     "execution_count": 59,
     "metadata": {},
     "output_type": "execute_result"
    }
   ],
   "source": [
    "a = np.array([[582, 120, 304,  53],\n",
    "       [837, 324, 647, 690],\n",
    "       [340, 314, 101, 810],\n",
    "       [563, 391, 988, 705],\n",
    "       [253,  41, 483, 156],\n",
    "       [673, 730, 996, 345],\n",
    "       [400, 994, 510, 485],\n",
    "       [ 88, 164, 720, 726],\n",
    "       [181, 191, 161, 109],\n",
    "       [434, 877, 249, 368]])\n",
    "\n",
    "#print(np.sum(a>50, axis = 0))   #It will check number of elements greater than 50 in each column as axis = 0\n",
    "print(np.sum(a>50, axis = 1))   #It will check number of elements greater than 50 in each row as axis = 1\n",
    "a>50"
   ]
  },
  {
   "cell_type": "code",
   "execution_count": 13,
   "id": "f54f78b5",
   "metadata": {},
   "outputs": [
    {
     "name": "stdout",
     "output_type": "stream",
     "text": [
      "False\n",
      "[False False False  True  True  True  True False False False]\n",
      "[False  True False False  True False False False  True False  True  True\n",
      "  True]\n"
     ]
    }
   ],
   "source": [
    "# Any\n",
    "\n",
    "#Is there any number greater/less than 8\n",
    "\n",
    "print(np.any(a<8))\n",
    "print(np.any(a<50, axis = 1))\n",
    "print(np.any(a<50, axis = 0))"
   ]
  },
  {
   "cell_type": "code",
   "execution_count": 15,
   "id": "e688cb5e",
   "metadata": {},
   "outputs": [
    {
     "name": "stdout",
     "output_type": "stream",
     "text": [
      "False\n",
      "[ True  True  True  True False False  True  True  True  True]\n",
      "[ True  True  True  True  True  True  True  True  True  True False  True\n",
      " False]\n"
     ]
    }
   ],
   "source": [
    "# all\n",
    "\n",
    "# Is all number greater or less than 8 ?\n",
    "\n",
    "print(np.all(a<8))\n",
    "print(np.all(a>25, axis = 1))\n",
    "print(np.all(a>25, axis = 0))"
   ]
  },
  {
   "cell_type": "code",
   "execution_count": 16,
   "id": "e66e2683",
   "metadata": {},
   "outputs": [
    {
     "name": "stdout",
     "output_type": "stream",
     "text": [
      "1\n",
      "2\n",
      "3\n",
      "4\n",
      "5\n"
     ]
    }
   ],
   "source": [
    "# Iterating in an array\n",
    "\n",
    "a = np.array([1,2,3,4,5])\n",
    "\n",
    "for i in a:\n",
    "    print(i)"
   ]
  },
  {
   "cell_type": "code",
   "execution_count": 18,
   "id": "163d6521",
   "metadata": {},
   "outputs": [
    {
     "name": "stdout",
     "output_type": "stream",
     "text": [
      "[1 2 3 4]\n",
      "[ 5  4  2 32]\n"
     ]
    }
   ],
   "source": [
    "a = np.array([[1,2,3,4], [5,4,2,32]])\n",
    "for i in a:\n",
    "    print(i)"
   ]
  },
  {
   "cell_type": "code",
   "execution_count": 17,
   "id": "eea63838",
   "metadata": {},
   "outputs": [
    {
     "name": "stdout",
     "output_type": "stream",
     "text": [
      "1\n",
      "2\n",
      "3\n",
      "4\n",
      "5\n",
      "4\n",
      "2\n",
      "32\n"
     ]
    }
   ],
   "source": [
    "a = np.array([[1,2,3,4], [5,4,2,32]])\n",
    "# Nested list---> so nested loop to be used\n",
    "for i in a:\n",
    "    for j in i:\n",
    "        print(j) "
   ]
  },
  {
   "cell_type": "code",
   "execution_count": 19,
   "id": "fc98a403",
   "metadata": {},
   "outputs": [
    {
     "name": "stdout",
     "output_type": "stream",
     "text": [
      "1\n",
      "2\n",
      "3\n",
      "4\n",
      "5\n",
      "4\n",
      "2\n",
      "32\n"
     ]
    }
   ],
   "source": [
    "# We can do above thing without using two for loop.\n",
    "\n",
    "# For that we need to flaten the array...so we can use ravel/flatten function\n",
    "\n",
    "a = np.array([[1,2,3,4], [5,4,2,32]])\n",
    "\n",
    "for i in a.ravel():\n",
    "    print(i)"
   ]
  },
  {
   "cell_type": "code",
   "execution_count": 20,
   "id": "89c369b2",
   "metadata": {},
   "outputs": [
    {
     "name": "stdout",
     "output_type": "stream",
     "text": [
      "1\n",
      "2\n",
      "3\n",
      "4\n",
      "5\n",
      "4\n",
      "2\n",
      "32\n"
     ]
    }
   ],
   "source": [
    "# Flatten is same as ravel. Flatten is more famous among coders.\n",
    "\n",
    "a = np.array([[1,2,3,4], [5,4,2,32]])\n",
    "\n",
    "for i in a.flatten():\n",
    "    print(i)"
   ]
  },
  {
   "cell_type": "code",
   "execution_count": null,
   "id": "c3ca9f53",
   "metadata": {},
   "outputs": [],
   "source": [
    "a = np.array([[1,12,31,34], [50,42,52,32]])\n",
    "\n",
    "for i in a.flatten():   # By default order = c\n",
    "    print(i)\n",
    "    \n",
    "# Order 'C' means first Rows will come then column    \n",
    "    "
   ]
  },
  {
   "cell_type": "code",
   "execution_count": 26,
   "id": "a180f1fb",
   "metadata": {},
   "outputs": [
    {
     "name": "stdout",
     "output_type": "stream",
     "text": [
      "[ 1 50 12 42 31 52 34 32]\n"
     ]
    }
   ],
   "source": [
    "a = np.array([[1,12,31,34], [50,42,52,32]])\n",
    "print(a.flatten(order = 'f'))\n",
    "# for i in a.flatten(order = 'f'):   # By default order = f\n",
    "#     print(i)\n",
    "# Order 'F' means first COlumns then row will come"
   ]
  },
  {
   "cell_type": "code",
   "execution_count": 29,
   "id": "df8e24d8",
   "metadata": {},
   "outputs": [
    {
     "name": "stdout",
     "output_type": "stream",
     "text": [
      "1\n",
      "50\n",
      "12\n",
      "42\n",
      "31\n",
      "52\n",
      "34\n",
      "32\n"
     ]
    }
   ],
   "source": [
    "#nditer\n",
    "\n",
    "a = np.array([[1,12,31,34], [50,42,52,32]])\n",
    "\n",
    "for i in np.nditer(a, order ='f'):\n",
    "    print(i)"
   ]
  },
  {
   "cell_type": "code",
   "execution_count": 33,
   "id": "7c3d9917",
   "metadata": {},
   "outputs": [
    {
     "name": "stdout",
     "output_type": "stream",
     "text": [
      "[array([[ 1, 12, 31, 34]]), array([[50, 42, 52, 32]])]\n"
     ]
    }
   ],
   "source": [
    "# Splitting of array\n",
    "a = np.array([[1,12,31,34], [50,42,52,32]])\n",
    "print(np.split(a,2))\n"
   ]
  },
  {
   "cell_type": "code",
   "execution_count": 35,
   "id": "a31fa760",
   "metadata": {},
   "outputs": [
    {
     "name": "stdout",
     "output_type": "stream",
     "text": [
      "[array([ 1, 12]), array([31, 34]), array([50, 42]), array([52, 32])]\n"
     ]
    }
   ],
   "source": [
    "# Split in equal parts. Below array has 8 elements\n",
    "# If i divide in 4 equal parts then each part will have 8/4 = 2 elements\n",
    "a = np.array([1,12,31,34,50,42,52,32])\n",
    "print(np.split(a,4))"
   ]
  },
  {
   "cell_type": "code",
   "execution_count": 36,
   "id": "2b83126a",
   "metadata": {},
   "outputs": [
    {
     "name": "stdout",
     "output_type": "stream",
     "text": [
      "[array([ 1, 12]), array([31, 34, 50]), array([42, 12]), array([34, 76, 52, 32])]\n"
     ]
    }
   ],
   "source": [
    "# To split array by indexing.\n",
    "\n",
    "a = np.array([1,12,31,34,50,42,12,34,76,52,32])\n",
    "\n",
    "print(np.split(a, [2, 5, 7]))\n",
    "\n",
    "# [array([ 1, 12]), array([31, 34, 50]), array([42, 12]), array([34, 76, 52, 32])]\n",
    "#positions 0 to 2           2 to 5              5 to 7            7 to till end           "
   ]
  },
  {
   "cell_type": "markdown",
   "id": "da15d3b1",
   "metadata": {},
   "source": [
    "### Vector Stacking-Concatenating of two arrays"
   ]
  },
  {
   "cell_type": "code",
   "execution_count": 39,
   "id": "ec2da65b",
   "metadata": {},
   "outputs": [],
   "source": [
    "import numpy as np"
   ]
  },
  {
   "cell_type": "code",
   "execution_count": 43,
   "id": "3cb014e1",
   "metadata": {},
   "outputs": [
    {
     "name": "stdout",
     "output_type": "stream",
     "text": [
      "[['Delhi' 'Bhiwani']\n",
      " ['amritsar' 'kota']\n",
      " ['Noida' 'Gurgaon']\n",
      " ['Surat' 'Mumbai']]\n",
      "\n",
      "[['Delhi' 'Bhiwani' 'Noida' 'Gurgaon']\n",
      " ['amritsar' 'kota' 'Surat' 'Mumbai']]\n"
     ]
    }
   ],
   "source": [
    "a = np.array([[\"Delhi\", \"Bhiwani\"], [\"amritsar\", \"kota\"]])\n",
    "b = np.array([[\"Noida\", \"Gurgaon\"], [\"Surat\", \"Mumbai\"]])\n",
    "\n",
    "#[\"Delhi\", \"Bhiwani\"], \n",
    "#[\"amritsar\", \"kota\"]\n",
    "#        +                             This is axis = 0\n",
    "# [\"Noida\", \"Gurgaon\"],\n",
    "# [\"Surat\", \"Mumbai\"]    \n",
    "\n",
    "#[\"Delhi\", \"Bhiwani\"],      [\"Noida\", \"Gurgaon\"]\n",
    "#                        +                        This is axis = 1\n",
    "#[\"amritsar\", \"kota\"]       [\"Surat\", \"Mumbai\"] \n",
    "\n",
    "print(np.concatenate((a,b)))  # By default axis = 0 means rowise\n",
    "print()\n",
    "print(np.concatenate((a,b), axis = 1)) # axis = 1 means columnwise"
   ]
  },
  {
   "cell_type": "code",
   "execution_count": 45,
   "id": "92b42bb0",
   "metadata": {},
   "outputs": [
    {
     "data": {
      "text/plain": [
       "array([[34, 81, 66],\n",
       "       [28, 25, 50],\n",
       "       [ 8, 50, 62]])"
      ]
     },
     "execution_count": 45,
     "metadata": {},
     "output_type": "execute_result"
    }
   ],
   "source": [
    "np.random.randint(5,100,(3,3))"
   ]
  },
  {
   "cell_type": "code",
   "execution_count": 48,
   "id": "d4b8c712",
   "metadata": {},
   "outputs": [
    {
     "name": "stdout",
     "output_type": "stream",
     "text": [
      "[[54 14 45]\n",
      " [97 22 65]\n",
      " [47 56 30]\n",
      " [34 81 66]\n",
      " [28 25 50]\n",
      " [ 8 50 62]]\n",
      "\n",
      "[[54 14 45 34 81 66]\n",
      " [97 22 65 28 25 50]\n",
      " [47 56 30  8 50 62]]\n"
     ]
    }
   ],
   "source": [
    "a = np.array([[54, 14, 45],\n",
    "       [97, 22, 65],\n",
    "       [47, 56, 30]])\n",
    "b = np.array([[34, 81, 66],\n",
    "       [28, 25, 50],\n",
    "       [ 8, 50, 62]])\n",
    "print(np.concatenate((a,b)))\n",
    "print()\n",
    "print(np.concatenate((a,b), axis = 1))"
   ]
  },
  {
   "cell_type": "markdown",
   "id": "abafb674",
   "metadata": {},
   "source": [
    "## Axis 0 and 1 can be different for different function"
   ]
  },
  {
   "cell_type": "code",
   "execution_count": null,
   "id": "de21090c",
   "metadata": {},
   "outputs": [],
   "source": [
    "# Stack ---In place of axis stack can be used\n",
    "# vstack --> columnwise\n",
    "# hstack --> Rowwise"
   ]
  },
  {
   "cell_type": "code",
   "execution_count": 60,
   "id": "1255e9e5",
   "metadata": {},
   "outputs": [
    {
     "name": "stdout",
     "output_type": "stream",
     "text": [
      "[['Delhi' 'Bhiwani']\n",
      " ['amritsar' 'kota']\n",
      " ['Noida' 'Gurgaon']\n",
      " ['Surat' 'Mumbai']]\n",
      "\n",
      "[['Delhi' 'Bhiwani' 'Noida' 'Gurgaon']\n",
      " ['amritsar' 'kota' 'Surat' 'Mumbai']]\n"
     ]
    }
   ],
   "source": [
    "a = np.array([[\"Delhi\", \"Bhiwani\"], [\"amritsar\", \"kota\"]])\n",
    "b = np.array([[\"Noida\", \"Gurgaon\"], [\"Surat\", \"Mumbai\"]])\n",
    "\n",
    "print(np.vstack((a,b)))\n",
    "print()\n",
    "print(np.hstack((a,b)))"
   ]
  },
  {
   "cell_type": "markdown",
   "id": "7e42a1b3",
   "metadata": {},
   "source": [
    "### Copy and view "
   ]
  },
  {
   "cell_type": "code",
   "execution_count": 62,
   "id": "dfe6b8b6",
   "metadata": {},
   "outputs": [
    {
     "name": "stdout",
     "output_type": "stream",
     "text": [
      "[20  2 45 43]\n",
      "[20 39 45 43]\n",
      "View function\n",
      "[20  2 45 43]\n",
      "[20  2 45 43]\n"
     ]
    }
   ],
   "source": [
    "# Copy function copy the original array to a new one and will not make any changes in original one\n",
    "\n",
    "# View will clone the original to other array and will make change in original also if any change makes in clone one.\n",
    "\n",
    "a = np.array([20,39,45,43])\n",
    "b = a.copy()\n",
    "b[1] = 2\n",
    "print(b)\n",
    "print(a)\n",
    "\n",
    "print(\"View function\")\n",
    "\n",
    "c = np.array([20,39,45,43])\n",
    "d = c.view()\n",
    "d[1] = 2\n",
    "print(c)\n",
    "print(d)"
   ]
  },
  {
   "cell_type": "code",
   "execution_count": 63,
   "id": "a078c512",
   "metadata": {},
   "outputs": [
    {
     "name": "stdout",
     "output_type": "stream",
     "text": [
      "None\n",
      "[20 39 45 43]\n"
     ]
    }
   ],
   "source": [
    "# Base function--> to understand if array is related to anyone or not\n",
    "\n",
    "a = np.array([20,39,45,43])\n",
    "x = a.copy()\n",
    "y = a.view()\n",
    "print(x.base)   #None, as copy make it independent \n",
    "print(y.base)    # SHows to which data it is related to"
   ]
  }
 ],
 "metadata": {
  "kernelspec": {
   "display_name": "Python 3",
   "language": "python",
   "name": "python3"
  },
  "language_info": {
   "codemirror_mode": {
    "name": "ipython",
    "version": 3
   },
   "file_extension": ".py",
   "mimetype": "text/x-python",
   "name": "python",
   "nbconvert_exporter": "python",
   "pygments_lexer": "ipython3",
   "version": "3.8.8"
  }
 },
 "nbformat": 4,
 "nbformat_minor": 5
}
