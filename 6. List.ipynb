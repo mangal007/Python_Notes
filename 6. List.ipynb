{
 "cells": [
  {
   "cell_type": "code",
   "execution_count": 2,
   "id": "820dd5aa",
   "metadata": {},
   "outputs": [
    {
     "name": "stdout",
     "output_type": "stream",
     "text": [
      "[10, 20, 30, (10+20j), 10.2, 'Python', True, None] <class 'list'>\n"
     ]
    }
   ],
   "source": [
    "# List - Any value kept inside [] --> Square bracket.\n",
    "\n",
    "list = [10, 20, 30, 10+20j, 10.20, 'Python', True, None]\n",
    "\n",
    "print(list, type(list))\n",
    "\n",
    "#List is a sequence\n",
    "    # List supports - +ve and =ve indexing.\n",
    "    # +ve indexing--> L to R start from 0\n",
    "    # -ve Inexing--> R to L starts from -1\n",
    "    # Indexing, slicing, concatentaion, reprtition, Len()\n",
    "\n",
    "# List is a collections of Hetrogenous data types. (Means any kind of data inside like ineteger, float, string etc)\n",
    "# List can have duplicate elements\n",
    "# List is mutable type. It can be modified\n",
    "    #1. Item assignment is possible\n",
    "    #2. Changes will be done in the same object."
   ]
  },
  {
   "cell_type": "code",
   "execution_count": null,
   "id": "9fd4961b",
   "metadata": {},
   "outputs": [],
   "source": [
    "# list creation\n",
    "\n",
    "# Using list (iterable function)\n",
    "# Iterable - is any object which implemets __iter__ method. It means when we do print(dir(list)) it will have __iter__ in it.\n",
    "\n",
    "# These all contacin \"__iter__\" so they are iterable\n",
    "print(dir(list))\n",
    "print(dir(str))\n",
    "print(dir(tuple))\n",
    "print(dir(dict))\n",
    "\n",
    "#Iterable means which can be looped over. one after the another untill there is no further to go. \n",
    "#It can also mean it contain indexing."
   ]
  },
  {
   "cell_type": "code",
   "execution_count": 2,
   "id": "bd2286bb",
   "metadata": {},
   "outputs": [
    {
     "name": "stdout",
     "output_type": "stream",
     "text": [
      "enter a list: 10,20,30\n",
      "['1', '0', ',', '2', '0', ',', '3', '0'] <class 'list'>\n",
      "enter a list: [10,20,30,40]\n",
      "[10, 20, 30, 40] <class 'list'>\n"
     ]
    }
   ],
   "source": [
    "#taking a list from Input user\n",
    "\n",
    "#lst1 = input('enter a list: ')\n",
    "#print(lst1, type(lst1))\n",
    "#input converts input into string. so we use eval function and not list function. Because List function will \n",
    "#not give desired result. list() will convert every individual item into a seprate list\n",
    "lst1 = list(input('enter a list: '))\n",
    "print(lst1, type(lst1))           # ['[', '1', '0', ',', '2', '0', ',', '3', '0', ',', '4', '0', ']'] <class 'list'> It \n",
    "#convert each element into list\n",
    "#So that's why we use eval() function. eval function understand data type automatically and give desired result.\n",
    "lst1 = eval(input('enter a list: '))\n",
    "print(lst1, type(lst1)) "
   ]
  },
  {
   "cell_type": "code",
   "execution_count": 3,
   "id": "63a136cf",
   "metadata": {},
   "outputs": [
    {
     "name": "stdout",
     "output_type": "stream",
     "text": [
      "['a', 'f', 's', 'a', 'a', 'n']\n",
      "[1, 2, 3, 4]\n"
     ]
    }
   ],
   "source": [
    "#Type Casting\n",
    "a = \"afsaan\"\n",
    "print(list(a))\n",
    "\n",
    "b = (1,2,3,4)\n",
    "print(list(b))"
   ]
  },
  {
   "cell_type": "code",
   "execution_count": 5,
   "id": "a3912e46",
   "metadata": {},
   "outputs": [
    {
     "name": "stdout",
     "output_type": "stream",
     "text": [
      "['afsaan']\n",
      "['string', 'split', 'will', 'give', 'a', 'list']\n"
     ]
    }
   ],
   "source": [
    "#Split function\n",
    "print(a.split())\n",
    "\n",
    "b = \"string split will give a list\"\n",
    "print(b.split())"
   ]
  },
  {
   "cell_type": "code",
   "execution_count": 34,
   "id": "b476a582",
   "metadata": {},
   "outputs": [
    {
     "data": {
      "text/plain": [
       "[100, 200, 300, 400]"
      ]
     },
     "execution_count": 34,
     "metadata": {},
     "output_type": "execute_result"
    }
   ],
   "source": [
    "#using list Compreshension\n",
    "#Syntax - [expression for variable in iterable if condition\n",
    "#a = [i*13 for i in range(10)]\n",
    "\n",
    "# i*13 = expression\n",
    "# i = variable\n",
    "# range(5) = iterable\n",
    "\n",
    "# [i for i in 'Python']     # ['P', 'y', 't', 'h', 'o', 'n']\n",
    "# [i for i in [10, 30, 40, 50,  60]]   #[10, 30, 40, 50, 60]\n",
    "# [i for i in {1:100, 2:200, 3:300, 4:400}]    #[1, 2, 3, 4] Take key values in dictionary\n",
    "# [i+'t' for i in 'Python']  #['Pt', 'yt', 'tt', 'ht', 'ot', 'nt']\n",
    "# [i*2 for i in [10, 30, 40, 50, 60]]   #[20, 60, 80, 100, 120]\n",
    "\n",
    "#To access value of dictionary\n",
    "\n",
    "f = {1:100, 2:200, 3:300, 4:400}\n",
    "[e[i] for i in f]           \n"
   ]
  },
  {
   "cell_type": "code",
   "execution_count": 5,
   "id": "1659648b",
   "metadata": {},
   "outputs": [
    {
     "name": "stdout",
     "output_type": "stream",
     "text": [
      "1\n",
      "2\n",
      "3\n",
      "4\n",
      "1 4 9 16 "
     ]
    }
   ],
   "source": [
    "# for loop ---> List comprehension\n",
    "#Syntax\n",
    "# for var in iterable:\n",
    "#     statement 1\n",
    "#     statement 2\n",
    "#iterable are those which contain __iter__ in dir(data type)\n",
    "\n",
    "lst = [1,2,3,4]\n",
    "#dir(lst)    ---> __iter__ so list is also iterable\n",
    "\n",
    "for i in lst:\n",
    "    print(i)\n",
    "\n",
    "# i will be first value of lst\n",
    "# so for 1st iteration it will print 1\n",
    "# iteration 2 -->  2\n",
    "# iteration 3 -->  3\n",
    "# iteration 4 -->  4\n",
    "\n",
    "for i in lst:\n",
    "    print(i**2, end=' ')\n"
   ]
  },
  {
   "cell_type": "code",
   "execution_count": 10,
   "id": "38abeedd",
   "metadata": {},
   "outputs": [
    {
     "name": "stdout",
     "output_type": "stream",
     "text": [
      "[1, 4, 9, 16, 25]\n"
     ]
    },
    {
     "data": {
      "text/plain": [
       "[1, 4, 9, 16, 25]"
      ]
     },
     "execution_count": 10,
     "metadata": {},
     "output_type": "execute_result"
    }
   ],
   "source": [
    "lst1 = [1,2,3,4,5]\n",
    "lst2 =[]\n",
    "for i in lst1:\n",
    "    lst2.append(i**2)\n",
    "print(lst2)    \n",
    "\n",
    "[(i**2) for i in lst1]"
   ]
  },
  {
   "cell_type": "code",
   "execution_count": 12,
   "id": "772e7868",
   "metadata": {},
   "outputs": [
    {
     "name": "stdout",
     "output_type": "stream",
     "text": [
      "abc\n",
      "xyz\n",
      "abcedf\n"
     ]
    }
   ],
   "source": [
    "lst1 = ['abc@gmail.com', 'xyz@gmail.com', 'abcedf@gmail.com']\n",
    "for i in lst1:\n",
    "    x = i.split('@')\n",
    "    print(x[0])"
   ]
  },
  {
   "cell_type": "code",
   "execution_count": 7,
   "id": "b8d9c62c",
   "metadata": {},
   "outputs": [
    {
     "name": "stdout",
     "output_type": "stream",
     "text": [
      "python\n",
      "4\n",
      "i <class 'str'>\n"
     ]
    }
   ],
   "source": [
    "#Nested List\n",
    "#Indexing can be done in List\n",
    "\n",
    "#       -5  -4    -3       -2         -1\n",
    "lst = [10, 20, 30+40j, 'python', [1,2,3,4]]\n",
    "#        0   1     2       3          4\n",
    "#accessing the index value\n",
    "\n",
    "print(lst[3])    \n",
    "print(lst[4][-1])\n",
    "\n",
    "#Accessing one element from list. for example\n",
    "lst = ['sanchit', 'is', 'my', 'name']           #I want in output i of 'is'\n",
    "a = lst[1][0]\n",
    "print(a, type(a))"
   ]
  },
  {
   "cell_type": "code",
   "execution_count": 42,
   "id": "d0c27cd8",
   "metadata": {},
   "outputs": [
    {
     "name": "stdout",
     "output_type": "stream",
     "text": [
      "7\n"
     ]
    }
   ],
   "source": [
    "lst = [10,20,[30,40,[1,2,3,4,[5,6,7,8,[88,77,66]]]]]\n",
    "print(lst[2][-1][-1][2])    #---> 7"
   ]
  },
  {
   "cell_type": "code",
   "execution_count": 43,
   "id": "c18420ff",
   "metadata": {},
   "outputs": [
    {
     "name": "stdout",
     "output_type": "stream",
     "text": [
      "['__add__', '__class__', '__contains__', '__delattr__', '__delitem__', '__dir__', '__doc__', '__eq__', '__format__', '__ge__', '__getattribute__', '__getitem__', '__gt__', '__hash__', '__iadd__', '__imul__', '__init__', '__init_subclass__', '__iter__', '__le__', '__len__', '__lt__', '__mul__', '__ne__', '__new__', '__reduce__', '__reduce_ex__', '__repr__', '__reversed__', '__rmul__', '__setattr__', '__setitem__', '__sizeof__', '__str__', '__subclasshook__', 'append', 'clear', 'copy', 'count', 'extend', 'index', 'insert', 'pop', 'remove', 'reverse', 'sort']\n"
     ]
    }
   ],
   "source": [
    "#List Methods\n",
    "print(dir(list))\n",
    "\n",
    "# 'append', 'clear', 'copy', 'count', 'extend', 'index', 'insert', 'pop', 'remove', 'reverse', 'sort'"
   ]
  },
  {
   "cell_type": "code",
   "execution_count": 48,
   "id": "4d763fe9",
   "metadata": {},
   "outputs": [
    {
     "name": "stdout",
     "output_type": "stream",
     "text": [
      "Before operation\n",
      "[10, 20, 30, (10+20j), 10.2, 'Python', True, None] 2648334366016\n",
      "[10, 20, 30, (10+20j), 10.2, 'Python', True, None, 111] 2648334366016\n",
      "after operation\n",
      "[10, 20, 30, (10+20j), 10.2, 'Python', True, None, [1, 2, 3, 4]]\n"
     ]
    }
   ],
   "source": [
    "#append:-Adding element inside a list at the end\n",
    "#syntax = list.append('whatever you want to add')\n",
    "\n",
    "list = [10, 20, 30, 10+20j, 10.20, 'Python', True, None]\n",
    "print(\"Before operation\")\n",
    "print(list, id(list))\n",
    "list.append(111)\n",
    "print(list, id(list))\n",
    "print(\"after operation\")\n",
    "\n",
    "#111 added to the end but id doesn't change it shows that list is mutable\n",
    "\n",
    "#Append method a list to another list as a nested list\n",
    "list = [10, 20, 30, 10+20j, 10.20, 'Python', True, None]\n",
    "list1 = [1,2,3,4]\n",
    "list.append(list1)\n",
    "print(list)        # List 1 is added as a nested list"
   ]
  },
  {
   "cell_type": "code",
   "execution_count": 7,
   "id": "ea3deecf",
   "metadata": {},
   "outputs": [
    {
     "name": "stdout",
     "output_type": "stream",
     "text": [
      "[1]\n",
      "[1, 2]\n",
      "[1, 2, 3]\n",
      "[[1, 2, 3]]\n"
     ]
    }
   ],
   "source": [
    "lst2 = []\n",
    "lst2.append(1)\n",
    "print(lst2)\n",
    "lst2.append(2)\n",
    "print(lst2)\n",
    "lst2.append(3)\n",
    "print(lst2)\n",
    "lst = []\n",
    "lst.append(lst2)\n",
    "print(lst)"
   ]
  },
  {
   "cell_type": "code",
   "execution_count": 3,
   "id": "741b0a49",
   "metadata": {},
   "outputs": [
    {
     "ename": "TypeError",
     "evalue": "'int' object is not iterable",
     "output_type": "error",
     "traceback": [
      "\u001b[1;31m---------------------------------------------------------------------------\u001b[0m",
      "\u001b[1;31mTypeError\u001b[0m                                 Traceback (most recent call last)",
      "\u001b[1;32m<ipython-input-3-5096c37140a8>\u001b[0m in \u001b[0;36m<module>\u001b[1;34m\u001b[0m\n\u001b[0;32m      4\u001b[0m \u001b[0mlist\u001b[0m \u001b[1;33m=\u001b[0m \u001b[1;33m[\u001b[0m\u001b[1;36m10\u001b[0m\u001b[1;33m,\u001b[0m \u001b[1;36m20\u001b[0m\u001b[1;33m,\u001b[0m \u001b[1;36m30\u001b[0m\u001b[1;33m,\u001b[0m \u001b[1;36m10\u001b[0m\u001b[1;33m+\u001b[0m\u001b[1;36m20j\u001b[0m\u001b[1;33m,\u001b[0m \u001b[1;36m10.20\u001b[0m\u001b[1;33m,\u001b[0m \u001b[1;34m'Python'\u001b[0m\u001b[1;33m,\u001b[0m \u001b[1;32mTrue\u001b[0m\u001b[1;33m,\u001b[0m \u001b[1;32mNone\u001b[0m\u001b[1;33m]\u001b[0m\u001b[1;33m\u001b[0m\u001b[1;33m\u001b[0m\u001b[0m\n\u001b[0;32m      5\u001b[0m \u001b[0mlist1\u001b[0m \u001b[1;33m=\u001b[0m \u001b[1;33m[\u001b[0m\u001b[1;36m1\u001b[0m\u001b[1;33m,\u001b[0m\u001b[1;36m2\u001b[0m\u001b[1;33m,\u001b[0m\u001b[1;36m3\u001b[0m\u001b[1;33m,\u001b[0m\u001b[1;36m4\u001b[0m\u001b[1;33m]\u001b[0m\u001b[1;33m\u001b[0m\u001b[1;33m\u001b[0m\u001b[0m\n\u001b[1;32m----> 6\u001b[1;33m \u001b[0mlist\u001b[0m\u001b[1;33m.\u001b[0m\u001b[0mextend\u001b[0m\u001b[1;33m(\u001b[0m\u001b[1;36m5\u001b[0m\u001b[1;33m)\u001b[0m\u001b[1;33m\u001b[0m\u001b[1;33m\u001b[0m\u001b[0m\n\u001b[0m\u001b[0;32m      7\u001b[0m \u001b[0mprint\u001b[0m\u001b[1;33m(\u001b[0m\u001b[0mlist\u001b[0m\u001b[1;33m)\u001b[0m         \u001b[1;31m# It added 1,2,3,4 as individual element in list\u001b[0m\u001b[1;33m\u001b[0m\u001b[1;33m\u001b[0m\u001b[0m\n",
      "\u001b[1;31mTypeError\u001b[0m: 'int' object is not iterable"
     ]
    }
   ],
   "source": [
    "#Extend List - Extends a list to another list\n",
    "# Looks similar to concatenation but it make changes to existing list.\n",
    "# Also It add another list individual element. That is the difference between append and extend.\n",
    "list = [10, 20, 30, 10+20j, 10.20, 'Python', True, None]\n",
    "list1 = [1,2,3,4]\n",
    "list.extend(5)\n",
    "print(list)         # It added 1,2,3,4 as individual element in list"
   ]
  },
  {
   "cell_type": "code",
   "execution_count": 50,
   "id": "b282930e",
   "metadata": {},
   "outputs": [
    {
     "name": "stdout",
     "output_type": "stream",
     "text": [
      "[10, 20, 30, 111, (10+20j), 10.2, 'Python', True, None]\n"
     ]
    }
   ],
   "source": [
    "# Insert menthod --> It adds value at mentioned index\n",
    "# insert(index, value)\n",
    "list = [10, 20, 30, 10+20j, 10.20, 'Python', True, None]\n",
    "list.insert(3, 111)     #111 is added at index value 3\n",
    "print(list)\n",
    "\n"
   ]
  },
  {
   "cell_type": "code",
   "execution_count": 56,
   "id": "911eab0b",
   "metadata": {},
   "outputs": [
    {
     "name": "stdout",
     "output_type": "stream",
     "text": [
      "[10, 20, 30]\n",
      "[10, 20, 40]\n"
     ]
    }
   ],
   "source": [
    "#Pop, remove and clear method\n",
    "\n",
    "#pop() = removes the last element from the list if index is not mentioned. \n",
    "         #If list is empty, it return index error\n",
    "        #It return the value after removing object\n",
    "lst = [10,20,30,40]\n",
    "lst.pop()\n",
    "print(lst)    #It remove last index which is 40 by default\n",
    "\n",
    "#pop() = removes the last element from the list at specified index. \n",
    "         #If list is empty, it return index error or that index doesn't exist\n",
    "        #It return the value after removing object\n",
    "lst = [10,20,30,40]\n",
    "lst.pop(2)\n",
    "print(lst)    # It removes values at index 2,s o it removes 30"
   ]
  },
  {
   "cell_type": "code",
   "execution_count": 62,
   "id": "fa3e29ff",
   "metadata": {},
   "outputs": [
    {
     "name": "stdout",
     "output_type": "stream",
     "text": [
      "[10, 20, 30, 10.2, None]\n"
     ]
    }
   ],
   "source": [
    "#remove(val) --> remove the first occurence of the value from list\n",
    "#If value is not present then gives value error\n",
    "\n",
    "list = [10, 20, 30, 10+20j, 10.20, 'Python', True, None]\n",
    "list.remove('Python')\n",
    "list.remove(10+20j)\n",
    "list.remove(True)\n",
    "print(list)"
   ]
  },
  {
   "cell_type": "code",
   "execution_count": 63,
   "id": "7f2703cc",
   "metadata": {},
   "outputs": [
    {
     "name": "stdout",
     "output_type": "stream",
     "text": [
      "[]\n"
     ]
    }
   ],
   "source": [
    "#Clear method clears the list and delete ements of list\n",
    "#Leaves empty list behind\n",
    "list = [10, 20, 30, 10+20j, 10.20, 'Python', True, None]\n",
    "list.clear()\n",
    "print(list)"
   ]
  },
  {
   "cell_type": "code",
   "execution_count": 80,
   "id": "1b06c0b7",
   "metadata": {},
   "outputs": [
    {
     "name": "stdout",
     "output_type": "stream",
     "text": [
      "5\n",
      "0\n",
      "3\n"
     ]
    }
   ],
   "source": [
    "#Count and index\n",
    "#Count method --> Calculate the number of time a elemt is repeated\n",
    "\n",
    "lst = [10,20,10,10,30,10,20,40,50,10]\n",
    "print(lst.count(10))\n",
    "\n",
    "#Index method--> Same as string, it found the lowest index(first occurence) of value\n",
    "print(lst.index(10))\n",
    "print(lst.index(10, 3, 5))    # To look for value in specific range."
   ]
  },
  {
   "cell_type": "code",
   "execution_count": 76,
   "id": "c8e05272",
   "metadata": {},
   "outputs": [
    {
     "name": "stdout",
     "output_type": "stream",
     "text": [
      "[10.2, 10.32, 30, 20, 10]\n"
     ]
    }
   ],
   "source": [
    "#Reverse --> Reverse the list\n",
    "\n",
    "lst = [10, 20, 30, 10.32, 10.20]\n",
    "lst.reverse()\n",
    "print(lst)     \n"
   ]
  },
  {
   "cell_type": "code",
   "execution_count": 79,
   "id": "be802270",
   "metadata": {},
   "outputs": [
    {
     "name": "stdout",
     "output_type": "stream",
     "text": [
      "[10, 10.2, 10.34, 20, 30]\n",
      "[30, 20, 10.34, 10.2, 10]\n"
     ]
    }
   ],
   "source": [
    "#Sort method --> Default sorting - Ascending order\n",
    "#Sort method will not work for different type of data type as for sorting it use comparision operator \"<\" which doesn't work \n",
    "# on different data type\n",
    "\n",
    "#Default sorting -- Ascending order\n",
    "lst = [10, 20, 30, 10.34, 10.20]\n",
    "lst.sort()\n",
    "print(lst)     \n",
    "\n",
    "#For Descending order\n",
    "lst = [10, 20, 30, 10.34, 10.20]\n",
    "lst.sort(reverse = True)\n",
    "print(lst)     "
   ]
  },
  {
   "cell_type": "code",
   "execution_count": 3,
   "id": "945524ad",
   "metadata": {},
   "outputs": [
    {
     "name": "stdout",
     "output_type": "stream",
     "text": [
      "1690177539712 1690177539712\n",
      "1690177539712 100\n",
      "1690177539712 100\n",
      "lst3\n",
      "[10, 20, 30, 40]\n",
      "1690177539904\n",
      "1690177539456\n",
      "[100, 20, 30, 40]\n",
      "[10, 20, 30, 40]\n",
      "[1, [100, 2, 3, 4]] 140724688663440\n",
      "[1, [100, 2, 3, 4]] 140724688663440\n",
      "before deep copy\n",
      "[1, [100, 2, 3, 4]] 140724688663440\n",
      "[1, [1, 2, 3, 4]] 140724688660272\n"
     ]
    }
   ],
   "source": [
    "#Shallow and deep copy\n",
    "\n",
    "#Aliasing\n",
    "a = [1,2,3,4,5]\n",
    "b = a\n",
    "print(id(a), id(b))    #---> Both ids will be same this is aliasing\n",
    "\n",
    "b[0] = 100             #----> This will also change value in list a. because a and b both are referring to same address of o index\n",
    "\n",
    "print(id(b), b[0])\n",
    "print(id(a), a[0])\n",
    "\n",
    "# any changes made in 'b' will make change in 'a'. SO if i want to make any change in 'b' but not in 'a' so \n",
    "# we use shallow copy and deep copy\n",
    "\n",
    "#Shallow copy\n",
    "lst1 = [10,20,30,40]\n",
    "lst2 = lst1.copy()\n",
    "lst3 = lst1[::]     #---> Same as shallow copy  n    \n",
    "print('lst3')\n",
    "print(lst3)\n",
    "print(id(lst1))               #Now ids of both are different\n",
    "print(id(lst2))\n",
    "\n",
    "lst2[0] = 100\n",
    "print(lst2)          # Now change is only made in lst2, lst1 is as it is.\n",
    "print(lst1)\n",
    "\n",
    "#Problem of shallow copy is it doesn't work in nested list\n",
    "lst1 = [1, [1,2,3,4]]\n",
    "lst2 = lst1.copy()\n",
    "lst2[1][0] = 100     # It changes value to 100 in both list1 and list2\n",
    "print(lst2, id(lst2[1][0]))      \n",
    "print(lst1, id(lst1[1][0]))\n",
    "#So to solve this we have deep copy.\n",
    "print(\"before deep copy\")\n",
    "from copy import deepcopy\n",
    "lst1 = [1, [1,2,3,4]]\n",
    "lst2 = deepcopy(lst1)\n",
    "lst2[1][0] = 100    \n",
    "print(lst2, id(lst2[1][0]))      \n",
    "print(lst1, id(lst1[1][0]))"
   ]
  },
  {
   "cell_type": "code",
   "execution_count": null,
   "id": "0f4fd809",
   "metadata": {},
   "outputs": [],
   "source": []
  },
  {
   "cell_type": "code",
   "execution_count": 5,
   "id": "0a9707d9",
   "metadata": {},
   "outputs": [
    {
     "name": "stdout",
     "output_type": "stream",
     "text": [
      "0\n"
     ]
    }
   ],
   "source": [
    "a = 10,20,30,40,50\n",
    "for i, j in enumerate(a):\n",
    "    if j == 10:\n",
    "        print(i)\n"
   ]
  }
 ],
 "metadata": {
  "kernelspec": {
   "display_name": "Python 3",
   "language": "python",
   "name": "python3"
  },
  "language_info": {
   "codemirror_mode": {
    "name": "ipython",
    "version": 3
   },
   "file_extension": ".py",
   "mimetype": "text/x-python",
   "name": "python",
   "nbconvert_exporter": "python",
   "pygments_lexer": "ipython3",
   "version": "3.8.8"
  }
 },
 "nbformat": 4,
 "nbformat_minor": 5
}
