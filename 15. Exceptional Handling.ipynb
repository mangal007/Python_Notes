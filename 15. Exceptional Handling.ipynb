{
 "cells": [
  {
   "cell_type": "markdown",
   "id": "016315d3",
   "metadata": {},
   "source": [
    "# Exceptional Handling"
   ]
  },
  {
   "cell_type": "code",
   "execution_count": null,
   "id": "efb1556f",
   "metadata": {},
   "outputs": [],
   "source": [
    "#Types of error\n",
    "\n",
    "1- Compile time error - Syntax and indentation\n",
    "2- logical error - error by user\n",
    "3- Run time error - name error, divide by 0 error, type error.\n",
    "\n",
    "# Exceptional Handling only works for \"Run time error\""
   ]
  },
  {
   "cell_type": "code",
   "execution_count": 2,
   "id": "a152ee38",
   "metadata": {},
   "outputs": [],
   "source": [
    "# list of error\n",
    "# print(dir(__builtins__))"
   ]
  },
  {
   "cell_type": "markdown",
   "id": "b7363e35",
   "metadata": {},
   "source": [
    "keywords that we use in Exceptional Handling are:-\n",
    "    try\n",
    "    except\n",
    "    else\n",
    "    finally\n",
    "    raise"
   ]
  },
  {
   "cell_type": "code",
   "execution_count": null,
   "id": "e0ed9b0b",
   "metadata": {},
   "outputs": [],
   "source": [
    "# try and except\n",
    "\n",
    "try only the code which is going to give you error to be wrritten in this.\n",
    "except alternate code to be written here if any error is given by try code."
   ]
  },
  {
   "cell_type": "code",
   "execution_count": 11,
   "id": "587c15c9",
   "metadata": {},
   "outputs": [
    {
     "name": "stdout",
     "output_type": "stream",
     "text": [
      "enter a number1\n",
      "enter a numberd\n",
      "only numbers are allowed\n"
     ]
    }
   ],
   "source": [
    "try:\n",
    "    a = int(input('enter a number '))\n",
    "    b = int(input('enter a number '))\n",
    "    print(a/b)    \n",
    "except:\n",
    "    print(\"only numbers are allowed\")"
   ]
  },
  {
   "cell_type": "code",
   "execution_count": 15,
   "id": "61827d1d",
   "metadata": {},
   "outputs": [
    {
     "name": "stdout",
     "output_type": "stream",
     "text": [
      "enter a number 1\n",
      "enter a number 0\n",
      "division by zero\n"
     ]
    }
   ],
   "source": [
    "# Instead of printing custom message you can print error itself like this.\n",
    "try:\n",
    "    a = int(input('enter a number '))\n",
    "    b = int(input('enter a number '))\n",
    "    print(a/b)    \n",
    "except Exception as e:\n",
    "    print(e)"
   ]
  },
  {
   "cell_type": "code",
   "execution_count": null,
   "id": "dac475e0",
   "metadata": {},
   "outputs": [],
   "source": [
    "# try, exception, else\n",
    "\n",
    "- execution will go to exception when error rise in try statement\n",
    "- execution will go to else block when error is not raised in try statement"
   ]
  },
  {
   "cell_type": "code",
   "execution_count": 17,
   "id": "fbad7ba6",
   "metadata": {},
   "outputs": [
    {
     "name": "stdout",
     "output_type": "stream",
     "text": [
      "enter a number 1\n",
      "enter a number 2\n",
      "0.5\n"
     ]
    }
   ],
   "source": [
    "try:\n",
    "    a = int(input('enter a number '))\n",
    "    b = int(input('enter a number '))\n",
    "    c = a/b    \n",
    "except:\n",
    "    print(\"only numbers are allowed\")\n",
    "else:\n",
    "    print(c)"
   ]
  },
  {
   "cell_type": "code",
   "execution_count": null,
   "id": "2b71a29a",
   "metadata": {},
   "outputs": [],
   "source": [
    "# try, exception,, else, finally\n",
    "\n",
    "finally - it will be executed whether the error is raised or not.\n",
    "whatever happen it will be executed"
   ]
  },
  {
   "cell_type": "code",
   "execution_count": 19,
   "id": "43a1480e",
   "metadata": {},
   "outputs": [
    {
     "name": "stdout",
     "output_type": "stream",
     "text": [
      "enter a number 1\n",
      "enter a number a\n",
      "only numbers are allowed\n",
      "anyways it will be executed\n"
     ]
    }
   ],
   "source": [
    "try:\n",
    "    a = int(input('enter a number '))\n",
    "    b = int(input('enter a number '))\n",
    "    c = a/b    \n",
    "except:\n",
    "    print(\"only numbers are allowed\")\n",
    "else:\n",
    "    print(c)\n",
    "finally:\n",
    "    print(\"anyways it will be executed\")"
   ]
  },
  {
   "cell_type": "code",
   "execution_count": 39,
   "id": "012c0a45",
   "metadata": {},
   "outputs": [
    {
     "name": "stdout",
     "output_type": "stream",
     "text": [
      "enter a number [1,2,3]\n",
      "invalid literal for int() with base 10: '[1,2,3]'\n"
     ]
    }
   ],
   "source": [
    "# many except based on different type of errors\n",
    "# This is a useless method as you need to know type of error\n",
    "try:\n",
    "    a = int(input('enter a number '))\n",
    "    b = int(input('enter a number '))\n",
    "    c = a/b    \n",
    "except ZeroDivisionError as e :\n",
    "    print(e)\n",
    "except ValueError as e:\n",
    "    print(e)\n",
    "except Nameerror as e:\n",
    "    print(e)\n",
    "except:    \n",
    "    print('some error')"
   ]
  },
  {
   "cell_type": "code",
   "execution_count": 24,
   "id": "a0beb6e6",
   "metadata": {},
   "outputs": [
    {
     "name": "stdout",
     "output_type": "stream",
     "text": [
      "enter a number'a'\n",
      "enter a number1\n",
      "some error\n"
     ]
    }
   ],
   "source": [
    "#Nested try and except\n",
    "a = eval(input('enter a number'))\n",
    "try:\n",
    "    b = int(input('enter a number'))\n",
    "    try:\n",
    "        print(a/b)\n",
    "    except:\n",
    "        print('some error')\n",
    "except Exception as e:\n",
    "    print(e)"
   ]
  },
  {
   "cell_type": "markdown",
   "id": "a3b16eed",
   "metadata": {},
   "source": [
    "### User defined Exception - 'raise'"
   ]
  },
  {
   "cell_type": "code",
   "execution_count": 42,
   "id": "99cfaacd",
   "metadata": {},
   "outputs": [],
   "source": [
    "# This is a syntax and will be taught in OOPS class\n",
    "\n",
    "# This is to raise our own error\n",
    "class Myexception(Exception):\n",
    "    def __init__(self, msg):\n",
    "        self.msg = msg"
   ]
  },
  {
   "cell_type": "code",
   "execution_count": 43,
   "id": "027f2a36",
   "metadata": {},
   "outputs": [
    {
     "name": "stdout",
     "output_type": "stream",
     "text": [
      "enter the amount123123123\n",
      "Over limit\n"
     ]
    }
   ],
   "source": [
    "#gpay app\n",
    "amt = eval(input(\"enter the amount\"))\n",
    "try:\n",
    "    if amt>49999:\n",
    "        raise Myexception(\"Over limit\")    # This is to raise our own error with message as \"over limit\"\n",
    "    else:\n",
    "        print(\"amount enter succeddfully\")\n",
    "except Exception as e:                     # This e will show our custome message which is \"over limit\"\n",
    "    print(e)                               # This exception also has inbuilt exception along with our own exception  "
   ]
  },
  {
   "cell_type": "code",
   "execution_count": 4,
   "id": "6a148cbd",
   "metadata": {},
   "outputs": [
    {
     "name": "stdout",
     "output_type": "stream",
     "text": [
      "Enter the amount : 12343234\n",
      "amount Exceeded\n",
      "enter the PAN number: \"abshjejejr\"\n",
      "Thank you\n"
     ]
    }
   ],
   "source": [
    "class Myexception(Exception):\n",
    "    def __init__(self, msg):\n",
    "        self.msg = msg\n",
    "\n",
    "def valid():\n",
    "    try:\n",
    "        pan = eval(input(\"enter the PAN number: \"))\n",
    "        try:\n",
    "            if len(pan)<10:\n",
    "                raise Myexception(\"Invalid PAN\")\n",
    "            else:\n",
    "                print(\"Thank you\")\n",
    "        except Exception as e:\n",
    "            print(e)\n",
    "    except:\n",
    "        print(\"Enter Valid Pan Number\")\n",
    "\n",
    "def trans():\n",
    "    try:\n",
    "        amt = int(input(\"Enter the amount : \"))\n",
    "        try:\n",
    "            if amt>49999:\n",
    "                raise Myexception(\"amount Exceeded\")\n",
    "            else:\n",
    "                print(\"Transaction Successfull\")\n",
    "        except Exception as e:\n",
    "            print(e)\n",
    "            valid()\n",
    "    except:\n",
    "        print(\"Please enter correct amount\")\n",
    "            \n",
    "def gpay():\n",
    "    trans()\n",
    "\n",
    "gpay() "
   ]
  },
  {
   "cell_type": "code",
   "execution_count": null,
   "id": "16fe70a6",
   "metadata": {},
   "outputs": [],
   "source": []
  },
  {
   "cell_type": "code",
   "execution_count": null,
   "id": "aa6d8381",
   "metadata": {},
   "outputs": [],
   "source": []
  },
  {
   "cell_type": "code",
   "execution_count": null,
   "id": "05158265",
   "metadata": {},
   "outputs": [],
   "source": []
  },
  {
   "cell_type": "code",
   "execution_count": null,
   "id": "4ac51cc9",
   "metadata": {},
   "outputs": [],
   "source": []
  },
  {
   "cell_type": "code",
   "execution_count": null,
   "id": "bd181655",
   "metadata": {},
   "outputs": [],
   "source": []
  }
 ],
 "metadata": {
  "kernelspec": {
   "display_name": "Python 3",
   "language": "python",
   "name": "python3"
  },
  "language_info": {
   "codemirror_mode": {
    "name": "ipython",
    "version": 3
   },
   "file_extension": ".py",
   "mimetype": "text/x-python",
   "name": "python",
   "nbconvert_exporter": "python",
   "pygments_lexer": "ipython3",
   "version": "3.8.8"
  }
 },
 "nbformat": 4,
 "nbformat_minor": 5
}
