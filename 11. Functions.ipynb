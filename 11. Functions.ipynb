{
 "cells": [
  {
   "cell_type": "code",
   "execution_count": 8,
   "id": "cd50354f",
   "metadata": {},
   "outputs": [],
   "source": [
    "# Functions - DRY (Do not repeat yourself)\n",
    "\n",
    "# Advantage of function is you can reuse it multiple times.\n",
    "\n",
    "# Type of Function\n",
    "\n",
    "# 1. Built in Function - len, tuple, float, int\n",
    "# 2. User defined function\n",
    "\n",
    "#Syntax of user defined function\n",
    "\n",
    "# def function_name(parameter):\n",
    "#     '''documentation'''\n",
    "#     #stat 1 \n",
    "#     #tat 2 \n",
    "#     #return stat.\n",
    "\n",
    "#function_name(arguments)\n",
    "\n",
    "# Paramters are called input at the function\n",
    "# Arguments are actual values.\n",
    "# Parameters are variables which store the arguments.\n",
    "# Paramter is optional\n",
    "# At least minimum 1 line of code must be written inside a function\n",
    "# No of Paramter must be equal to no of argument\n",
    "# Default return of function is None.\n",
    "# if we do not give return statement then in print will give default None.\n"
   ]
  },
  {
   "cell_type": "code",
   "execution_count": 6,
   "id": "08a981be",
   "metadata": {},
   "outputs": [],
   "source": [
    "# To access the documentation written inside function\n",
    "\n",
    "print(function_name.__doc__)"
   ]
  },
  {
   "cell_type": "code",
   "execution_count": null,
   "id": "d3107341",
   "metadata": {},
   "outputs": [],
   "source": [
    "# Type of Paramters\n",
    "\n",
    "1. Positional Paramters\n",
    "2. Default parameters\n",
    "3. Keyworded paramters\n",
    "4. Variable length positional arguments -- *arg\n",
    "5. Variable length keyworded arguments  -- **kwargs"
   ]
  },
  {
   "cell_type": "code",
   "execution_count": 9,
   "id": "1844e991",
   "metadata": {},
   "outputs": [
    {
     "name": "stdout",
     "output_type": "stream",
     "text": [
      "10 20 30\n"
     ]
    }
   ],
   "source": [
    "# Positional Paramters\n",
    "\n",
    "# Order is important\n",
    "# No of argument and paramters should match\n",
    "\n",
    "def my_fun(a, b, c):\n",
    "    print(a, b, c)\n",
    "    \n",
    "my_fun(10, 20, 30)\n",
    "\n",
    "#It reads arguments in order\n",
    "#If you give less or more argument then it will give error."
   ]
  },
  {
   "cell_type": "code",
   "execution_count": null,
   "id": "a9727140",
   "metadata": {},
   "outputs": [],
   "source": [
    "WAP in which a take a list from user. If a number is given than it should be diplayed 3 times and if anything else then end\n",
    "end with '#'. \n",
    "lst = ['41', 'sanchit', 31, (21,32,34), 21.3]"
   ]
  },
  {
   "cell_type": "code",
   "execution_count": 18,
   "id": "147e4519",
   "metadata": {},
   "outputs": [
    {
     "name": "stdout",
     "output_type": "stream",
     "text": [
      "4141414141\n",
      "sanchit**\n",
      "3131313131\n",
      "alok**\n",
      "21.3**\n"
     ]
    }
   ],
   "source": [
    "lst = ['41', 'sanchit', '31', 'alok', '21.3']\n",
    "\n",
    "def my_fun(lst, num=3, termvalue = '#'):\n",
    "    for i in lst:\n",
    "        try:\n",
    "            if(int(i)):\n",
    "                print(i*num)\n",
    "        except:\n",
    "            print(i+termvalue)\n",
    "\n",
    "my_fun(lst, 5, '**')"
   ]
  },
  {
   "cell_type": "code",
   "execution_count": null,
   "id": "95499db8",
   "metadata": {},
   "outputs": [],
   "source": [
    "# Default parameter\n",
    "\n",
    "# when value is defined in parameter itself that is called as default paramter.\n",
    "# Default paramter comes after positional parameter. "
   ]
  },
  {
   "cell_type": "code",
   "execution_count": 1,
   "id": "a43bfe83",
   "metadata": {},
   "outputs": [
    {
     "name": "stdout",
     "output_type": "stream",
     "text": [
      "414141\n",
      "sanchit**\n",
      "313131\n",
      "alok**\n",
      "21.3**\n"
     ]
    }
   ],
   "source": [
    "# Keyworded arguments\n",
    "\n",
    "lst = ['41', 'sanchit', '31', 'alok', '21.3']\n",
    "\n",
    "def my_fun(lst, num=3, termvalue = '#'):\n",
    "    for i in lst:\n",
    "        try:\n",
    "            if(int(i)):\n",
    "                print(i*num)\n",
    "        except:\n",
    "            print(i+termvalue)\n",
    "\n",
    "my_fun(lst, termvalue = '**')\n",
    "\n",
    "# In argument num is not defined, so that will taken as default value which is 3. But if you want to change termvalue to '**'\n",
    "# then you can write it in argument which is called as keyworded arguments.\n",
    "# Keyword argument should always be after positional argument."
   ]
  },
  {
   "cell_type": "code",
   "execution_count": 32,
   "id": "6afd3b75",
   "metadata": {},
   "outputs": [
    {
     "name": "stdout",
     "output_type": "stream",
     "text": [
      "(30, 40, 50, 60, 70) <class 'tuple'>\n",
      "280\n",
      "************\n",
      "() <class 'tuple'>\n",
      "30\n",
      "************\n",
      "(30, 40, 50) <class 'tuple'>\n",
      "150\n",
      "500\n",
      "************\n",
      "(40, 50) <class 'tuple'>\n",
      "120\n",
      "30\n",
      "************\n"
     ]
    }
   ],
   "source": [
    "# Variable length positional argument - *args\n",
    "\n",
    "def my_fun1(a, b, *arg):\n",
    "    print(arg, type(arg))\n",
    "    print(a+b+sum(arg))\n",
    "    print('************')\n",
    "\n",
    "my_fun1(10,20,30,40,50,60,70)\n",
    "\n",
    "# * arg will take all input after 10 and 20 as a tuple\n",
    "\n",
    "def my_fun2(a, b, *arg):\n",
    "    print(arg, type(arg))\n",
    "    print(a+b+sum(arg))\n",
    "    print('************')\n",
    "\n",
    "my_fun2(10,20)    # a = 10, b = 20, arg = () empty tuple\n",
    "\n",
    "def my_fun3(a, b, *arg, c= 110):\n",
    "    print(arg, type(arg))\n",
    "    print(a+b+sum(arg))\n",
    "    print(c)\n",
    "    print('************')\n",
    "\n",
    "my_fun3(10,20,30,40,50, c =500)    # a = 10, b = 20, arg = (30,40,50) and c= 500\n",
    "\n",
    "def my_fun4(a, b, c=100, *args):\n",
    "    print(args, type(args))\n",
    "    print(a+b+sum(args))\n",
    "    print(c)\n",
    "    print('************')\n",
    "\n",
    "my_fun4(10,20,30,40,50)    # a = 10, b = 20, c = 30 arg = (40,50) sum = 10+20+40+50 = 120"
   ]
  },
  {
   "cell_type": "code",
   "execution_count": 3,
   "id": "1883b6b9",
   "metadata": {},
   "outputs": [
    {
     "name": "stdout",
     "output_type": "stream",
     "text": [
      "{} <class 'dict'>\n",
      "Sanchit\n",
      "101\n",
      "20000\n",
      "*********\n",
      "{'e_city': 'Delhi', 'e_bg': 'O+ve'} <class 'dict'>\n",
      "Sanchit\n",
      "101\n",
      "20000\n",
      "*********\n",
      "{'e_city': 'Delhi', 'e_bg': 'O+ve'} <class 'dict'>\n",
      "(1, 2) <class 'tuple'>\n",
      "Sanchit\n",
      "101\n",
      "20000\n",
      "*********\n"
     ]
    }
   ],
   "source": [
    "# Variable length keyworded arguments -- **kwargs\n",
    "# Values willl be stored in dictionary format\n",
    "# *arg must always come befor **kwargs\n",
    "\n",
    "def emp_det(e_name, e_id, e_sal, **kwargs):\n",
    "    print(kwargs, type(kwargs))\n",
    "    print(e_name)\n",
    "    print(e_id)\n",
    "    print(e_sal)\n",
    "    print('*********')\n",
    "\n",
    "emp_det('Sanchit', 101, 20000)   # ---> This will give empty dictionary\n",
    "\n",
    "def emp_det1(e_name, e_id, e_sal, **kwargs):\n",
    "    print(kwargs, type(kwargs))\n",
    "    print(e_name)\n",
    "    print(e_id)\n",
    "    print(e_sal)\n",
    "    print('*********')\n",
    "\n",
    "emp_det1('Sanchit', 101, 20000, e_city = 'Delhi', e_bg = 'O+ve')   # ---> This will give dictionary {'e_city': 'Delhi', 'e_bg': 'O+ve'}\n",
    "\n",
    "def emp_det2(e_name, e_id, e_sal, *args, **kwargs):                               # Empty tuple\n",
    "    print(kwargs, type(kwargs))\n",
    "    print(args, type(args)) \n",
    "    print(e_name)\n",
    "    print(e_id)\n",
    "    print(e_sal)\n",
    "    print('*********')\n",
    "\n",
    "emp_det2('Sanchit', 101, 20000, 1, 2, e_city = 'Delhi', e_bg = 'O+ve')"
   ]
  },
  {
   "cell_type": "code",
   "execution_count": 7,
   "id": "d829d874",
   "metadata": {},
   "outputs": [
    {
     "name": "stdout",
     "output_type": "stream",
     "text": [
      "9\n",
      "15\n"
     ]
    }
   ],
   "source": [
    "# Anonymous function - A  function without name\n",
    "# Using lambda keyword\n",
    "# Syntax -->   lambda para : expr\n",
    "# expr result is the return value\n",
    "# we don't have to write return statement explicitly\n",
    "\n",
    "#Syntax 1\n",
    "x = lambda num1, num2 : num1 if num1>num2 else num2\n",
    "print(x(8, 9))\n",
    "\n",
    "print((lambda num1, num2 : num1 if num1>num2 else num2)(15, 9))"
   ]
  },
  {
   "cell_type": "code",
   "execution_count": null,
   "id": "b0fd3550",
   "metadata": {},
   "outputs": [],
   "source": [
    "# In python everything is an object\n",
    "# Function is also an object and is treated as first class citizen in python.\n",
    "# We pass function as an argument in  other function to solve lots of problems.Like filter, map, reduce.\n"
   ]
  },
  {
   "cell_type": "code",
   "execution_count": 4,
   "id": "2db7676b",
   "metadata": {},
   "outputs": [
    {
     "ename": "SyntaxError",
     "evalue": "invalid syntax (<ipython-input-4-e867f054cba0>, line 2)",
     "output_type": "error",
     "traceback": [
      "\u001b[1;36m  File \u001b[1;32m\"<ipython-input-4-e867f054cba0>\"\u001b[1;36m, line \u001b[1;32m2\u001b[0m\n\u001b[1;33m    1. Built in names\u001b[0m\n\u001b[1;37m       ^\u001b[0m\n\u001b[1;31mSyntaxError\u001b[0m\u001b[1;31m:\u001b[0m invalid syntax\n"
     ]
    }
   ],
   "source": [
    "#Namespace -container\n",
    "1. Built in names\n",
    "2. Global names\n",
    "3. Local names"
   ]
  },
  {
   "cell_type": "code",
   "execution_count": 4,
   "id": "133a2125",
   "metadata": {},
   "outputs": [
    {
     "name": "stdout",
     "output_type": "stream",
     "text": [
      "11 22\n",
      "10 20\n"
     ]
    }
   ],
   "source": [
    "def my_fun():            # my_fun will be saved in global names\n",
    "    a = 10               # a = 10, b = 20 will be saved in extended local\n",
    "    b = 20\n",
    "    def inner_fun():\n",
    "        a = 11           # a = 11, b = 22 will be saved in local space\n",
    "        b = 22\n",
    "        print(a,b)       # This inner function will not update outer a and b\n",
    "    inner_fun()\n",
    "    print(a,b)\n",
    "my_fun()"
   ]
  },
  {
   "cell_type": "code",
   "execution_count": 2,
   "id": "94b9ad48",
   "metadata": {},
   "outputs": [
    {
     "name": "stdout",
     "output_type": "stream",
     "text": [
      "11 22\n",
      "11 20\n"
     ]
    }
   ],
   "source": [
    "#nonlocal keyword\n",
    "def my_fun():            # my_fun will be saved in global names\n",
    "    a = 10               # a = 10, b = 20 will be saved in extended local\n",
    "    b = 20\n",
    "    def inner_fun():\n",
    "        nonlocal a     # if we want to update a of outer function than we can write this nonlocal\n",
    "        a = 11           # a = 11, b = 22 will be saved in local space\n",
    "        b = 22\n",
    "        print(a,b)       # This inner function will update outer a and  not b. because we have used nonlocal a command.\n",
    "    inner_fun()\n",
    "    print(a,b)\n",
    "my_fun()"
   ]
  },
  {
   "cell_type": "code",
   "execution_count": 8,
   "id": "72d0a032",
   "metadata": {},
   "outputs": [
    {
     "name": "stdout",
     "output_type": "stream",
     "text": [
      "11 22\n",
      "10 20\n"
     ]
    }
   ],
   "source": [
    "#global keyword\n",
    "a = 10                # a and b are saved in global namespace\n",
    "b = 20\n",
    "def fun1():           # fun1 also saved in global namespace\n",
    "    a = 11            # a and b are saved in local namespace\n",
    "    b = 22            # This a and b will not update global value of a and b\n",
    "    print(a,b)          \n",
    "fun1()\n",
    "print(a,b)"
   ]
  },
  {
   "cell_type": "code",
   "execution_count": 10,
   "id": "6ded46b1",
   "metadata": {},
   "outputs": [
    {
     "name": "stdout",
     "output_type": "stream",
     "text": [
      "11 22\n",
      "11 20\n"
     ]
    }
   ],
   "source": [
    "#global keyword\n",
    "a = 10                # a and b are saved in global namespace\n",
    "b = 20\n",
    "def fun1():           # fun1 also saved in global namespace\n",
    "    global a          # by using global keyword we update gobal value of a\n",
    "    a = 11            # only b is saved in local namespace\n",
    "    b = 22            # This b will not update global value of b\n",
    "    print(a,b)          \n",
    "fun1()\n",
    "print(a,b)"
   ]
  },
  {
   "cell_type": "code",
   "execution_count": 16,
   "id": "031f2121",
   "metadata": {},
   "outputs": [
    {
     "name": "stdout",
     "output_type": "stream",
     "text": [
      "10 20\n"
     ]
    }
   ],
   "source": [
    "#Function reference\n",
    "def f1():\n",
    "    a = 10\n",
    "    b = 20\n",
    "    print(a,b)\n",
    "#f1          # This function name and it will get you info about that function. <function __main__.f1()>\n",
    "            # If you want to call the function than you have to add paranthesis also\n",
    "\n",
    "f2 = f1\n",
    "# Now f2 is also equal to f1. so now if you call f2 as function it will bring the same return as f1\n",
    "\n",
    "f2()\n"
   ]
  },
  {
   "cell_type": "code",
   "execution_count": 23,
   "id": "7d91fe46",
   "metadata": {},
   "outputs": [
    {
     "name": "stdout",
     "output_type": "stream",
     "text": [
      "111\n",
      "(11, 22)\n",
      "<function fu1 at 0x000001F6F3590DC0>\n",
      "<function fu1 at 0x000001F6F3590DC0>\n"
     ]
    },
    {
     "data": {
      "text/plain": [
       "(11, 22)"
      ]
     },
     "execution_count": 23,
     "metadata": {},
     "output_type": "execute_result"
    }
   ],
   "source": [
    "def f1():\n",
    "    a = 111\n",
    "    b = 20\n",
    "    return a\n",
    "a1 = f1()         # Whatever the return value of f1 is it will get stored in a1 and when we print a1 we will get return of f1 as output\n",
    "print(a1)   \n",
    "\n",
    "def fu1():\n",
    "    a = 11\n",
    "    b = 22\n",
    "    return(a,b)\n",
    "\n",
    "fu2 = fu1()\n",
    "print(fu2)     #---> Tuple with (11,22)\n",
    "\n",
    "fu3 = fu1\n",
    "print(fu3)           # Both will be pointing to same function fu1   <function fu1 at 0x000001F6F3620C10>\n",
    "print(fu1)\n",
    "\n",
    "#if we call fu3, we get same result as fu1 \n",
    "fu3()"
   ]
  },
  {
   "cell_type": "code",
   "execution_count": 25,
   "id": "b24aea94",
   "metadata": {},
   "outputs": [],
   "source": [
    "# Closure - return another function or inner function\n",
    "\n",
    "def f1():\n",
    "    def inner():\n",
    "        a = 111\n",
    "        b = 222\n",
    "        print(\"inner function is return\")\n",
    "        \n",
    "f1()    # No output will come as nothing is returning to f1()"
   ]
  },
  {
   "cell_type": "code",
   "execution_count": 2,
   "id": "03ae5008",
   "metadata": {},
   "outputs": [
    {
     "name": "stdout",
     "output_type": "stream",
     "text": [
      "inner function is return\n",
      "None\n"
     ]
    }
   ],
   "source": [
    "def f1():\n",
    "    def inner():\n",
    "        a = 111\n",
    "        b = 222\n",
    "        print(\"inner function is return\")\n",
    "    inner()\n",
    "f1()  # \"inner function is return\"    \n"
   ]
  },
  {
   "cell_type": "code",
   "execution_count": 5,
   "id": "660f76d9",
   "metadata": {},
   "outputs": [
    {
     "data": {
      "text/plain": [
       "<function __main__.f1.<locals>.inner()>"
      ]
     },
     "execution_count": 5,
     "metadata": {},
     "output_type": "execute_result"
    }
   ],
   "source": [
    "#Doubt question\n",
    "def f1():\n",
    "    def inner():\n",
    "        a = 111\n",
    "        b = 222\n",
    "        #return a\n",
    "        print(\"bjwjbwcl\")\n",
    "    return inner\n",
    "\n",
    "f1()\n",
    "#f1()()\n",
    "# To call the inner function in global\n",
    "#x = f1()\n",
    "#print(x())\n",
    "        \n"
   ]
  },
  {
   "cell_type": "code",
   "execution_count": 39,
   "id": "52aed116",
   "metadata": {},
   "outputs": [
    {
     "data": {
      "text/plain": [
       "[12, 14, 16, 18]"
      ]
     },
     "execution_count": 39,
     "metadata": {},
     "output_type": "execute_result"
    }
   ],
   "source": [
    "def even_odd(num):\n",
    "    return True if num%2 == 0 else False\n",
    "\n",
    "def my_filter(fun, lst):\n",
    "    lst2 = []\n",
    "    for i in lst:\n",
    "        if fun(i):\n",
    "            lst2.append(i)\n",
    "    return lst2\n",
    "    \n",
    "    \n",
    "lst = list(range(11, 20))\n",
    "\n",
    "my_filter(even_odd, lst)    "
   ]
  },
  {
   "cell_type": "code",
   "execution_count": null,
   "id": "01df6350",
   "metadata": {},
   "outputs": [],
   "source": [
    "#map  #filter    #Reduce\n",
    "\n",
    "#map --> this function is used to take action on each item\n",
    "\n",
    "#Filter ---> filter out values based on condition. if true comes by putting value in condition then it return that value.\n",
    "\n",
    "#Reduce --> This will return only one value and aggragte all values."
   ]
  },
  {
   "cell_type": "code",
   "execution_count": 6,
   "id": "2cd787fd",
   "metadata": {},
   "outputs": [
    {
     "data": {
      "text/plain": [
       "[22, 24, 26, 28]"
      ]
     },
     "execution_count": 6,
     "metadata": {},
     "output_type": "execute_result"
    }
   ],
   "source": [
    "#filter --> used to filter a seq based on some condition\n",
    "# returns a filter object - which is a iterator object\n",
    "# filter(func, seq/iterable)\n",
    "\n",
    "lst = list(range(21, 30))\n",
    "list(filter((lambda num : num%2 == 0), lst))"
   ]
  },
  {
   "cell_type": "code",
   "execution_count": 21,
   "id": "3ab36a66",
   "metadata": {},
   "outputs": [
    {
     "data": {
      "text/plain": [
       "[1, 4, 9, 16, 25, 36, 49, 64, 81]"
      ]
     },
     "execution_count": 21,
     "metadata": {},
     "output_type": "execute_result"
    }
   ],
   "source": [
    "#map --> function is used to map object from one seq to another seq\n",
    "# Basically if want to do a particular action on each item of list\n",
    "# map(function, iterable)\n",
    "\n",
    "lst = list(range(1, 10))\n",
    "list(map((lambda num : num**2), lst))\n"
   ]
  },
  {
   "cell_type": "code",
   "execution_count": 43,
   "id": "fc741f7b",
   "metadata": {},
   "outputs": [
    {
     "data": {
      "text/plain": [
       "45"
      ]
     },
     "execution_count": 43,
     "metadata": {},
     "output_type": "execute_result"
    }
   ],
   "source": [
    "#reduce - used to find aggregarte value - sum, max, min, product\n",
    "# import reuce from functunable\n",
    "# return one single aggregate value\n",
    "from functools import reduce\n",
    "lst3 = list(range(1, 10))\n",
    "reduce((lambda a, b : a+b), lst3)"
   ]
  },
  {
   "cell_type": "code",
   "execution_count": 9,
   "id": "9352b416",
   "metadata": {},
   "outputs": [
    {
     "data": {
      "text/plain": [
       "12343"
      ]
     },
     "execution_count": 9,
     "metadata": {},
     "output_type": "execute_result"
    }
   ],
   "source": [
    "# to find the largest number\n",
    "from functools import reduce\n",
    "lst = [1,45,23,54,12343,432,2]\n",
    "reduce((lambda a, b : a if (a>b) else b), lst)"
   ]
  },
  {
   "cell_type": "code",
   "execution_count": 39,
   "id": "c18c60ca",
   "metadata": {},
   "outputs": [
    {
     "name": "stdout",
     "output_type": "stream",
     "text": [
      "[2, 3, 10, 25, 32, 43, 56, 444]\n",
      "[444, 56, 43, 32, 25, 10, 3, 2]\n",
      "[(45, 76), (1, 324), (10, 1234)]\n"
     ]
    }
   ],
   "source": [
    "#Sort function\n",
    "\n",
    "lst = [10,2,3,56,43,25,444,32]\n",
    "lst.sort()               #Small to large\n",
    "print(lst)\n",
    "\n",
    "lst2 = [10,2,3,56,43,25,444,32]\n",
    "lst2.sort(reverse = True)               #large to small\n",
    "print(lst2)\n",
    "\n",
    "lst3 = [(1,324), (10,1234), (45, 76)]\n",
    "lst3.sort(key = lambda tpl: tpl[::-1])\n",
    "print(lst3)\n"
   ]
  },
  {
   "cell_type": "code",
   "execution_count": null,
   "id": "6812575b",
   "metadata": {},
   "outputs": [],
   "source": []
  },
  {
   "cell_type": "code",
   "execution_count": null,
   "id": "6e468dc9",
   "metadata": {},
   "outputs": [],
   "source": []
  },
  {
   "cell_type": "code",
   "execution_count": null,
   "id": "2b935be7",
   "metadata": {},
   "outputs": [],
   "source": []
  },
  {
   "cell_type": "code",
   "execution_count": null,
   "id": "3c9f2d0f",
   "metadata": {},
   "outputs": [],
   "source": []
  },
  {
   "cell_type": "code",
   "execution_count": null,
   "id": "8f285124",
   "metadata": {},
   "outputs": [],
   "source": []
  },
  {
   "cell_type": "code",
   "execution_count": null,
   "id": "f1427e7e",
   "metadata": {},
   "outputs": [],
   "source": []
  },
  {
   "cell_type": "code",
   "execution_count": null,
   "id": "d440baaa",
   "metadata": {},
   "outputs": [],
   "source": []
  }
 ],
 "metadata": {
  "kernelspec": {
   "display_name": "Python 3",
   "language": "python",
   "name": "python3"
  },
  "language_info": {
   "codemirror_mode": {
    "name": "ipython",
    "version": 3
   },
   "file_extension": ".py",
   "mimetype": "text/x-python",
   "name": "python",
   "nbconvert_exporter": "python",
   "pygments_lexer": "ipython3",
   "version": "3.8.8"
  }
 },
 "nbformat": 4,
 "nbformat_minor": 5
}
