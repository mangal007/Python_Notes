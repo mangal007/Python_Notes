{
 "cells": [
  {
   "cell_type": "code",
   "execution_count": null,
   "id": "8f7a4d33",
   "metadata": {},
   "outputs": [],
   "source": [
    "#Float - Any number with decimal point - FLoat\n",
    "# 10.0, -10.20, 0.00001\n",
    "# Float cannot be represented in binary, octal, hexadecimal\n",
    "#0.0 is always false\n",
    "\n",
    "# Bitwise opertion is not valid on float numbers as they cann0t be converted into binary."
   ]
  },
  {
   "cell_type": "code",
   "execution_count": null,
   "id": "833684cc",
   "metadata": {},
   "outputs": [],
   "source": [
    "#Operation possible with floats\n",
    "- Arithematic op\n",
    "- Comparision op\n",
    "- Equality op\n",
    "- Logical op\n",
    "- identity op\n",
    "- assignment op\n",
    "\n",
    "# Operations not possible with floats\n",
    "- bitwise op\n",
    "- assignment with bitwise op\n",
    "\n",
    "Object resusability concept is not applicable"
   ]
  },
  {
   "cell_type": "code",
   "execution_count": null,
   "id": "bd77cda8",
   "metadata": {},
   "outputs": [],
   "source": [
    "#Complex data types\n",
    "\n",
    "# a+bj a is real and b is imaginary\n",
    "\n",
    "#Operation possible with complex\n",
    "- Arithematic op except modulo\n",
    "- Equality op\n",
    "- Logical op\n",
    "- identity op\n",
    "- assignment op\n",
    "\n",
    "# Operations not possible with complex\n",
    "- Comparision op\n",
    "- bitwise op\n",
    "- assignment with bitwise op\n",
    "- Modulo\n",
    "\n",
    "Object resusability concept is not applicable"
   ]
  },
  {
   "cell_type": "code",
   "execution_count": 1,
   "id": "ee04be87",
   "metadata": {},
   "outputs": [
    {
     "name": "stdout",
     "output_type": "stream",
     "text": [
      "10.0\n",
      "7.0\n"
     ]
    }
   ],
   "source": [
    "a = 10 +7j\n",
    "print(a.real)\n",
    "print(a.imag)"
   ]
  },
  {
   "cell_type": "code",
   "execution_count": null,
   "id": "6357b9bc",
   "metadata": {},
   "outputs": [],
   "source": [
    "#None Data Type\n",
    "\n",
    "#None - denotes the missing value\n"
   ]
  },
  {
   "cell_type": "code",
   "execution_count": 5,
   "id": "cf6c72fa",
   "metadata": {},
   "outputs": [
    {
     "name": "stdout",
     "output_type": "stream",
     "text": [
      "2\n",
      "1\n"
     ]
    },
    {
     "data": {
      "text/plain": [
       "1"
      ]
     },
     "execution_count": 5,
     "metadata": {},
     "output_type": "execute_result"
    }
   ],
   "source": [
    "#Boolean Data type - True/1 or False/0\n",
    "\n",
    "#proof of why True is always 1 and false is always 0\n",
    "\n",
    "print(True + True)   # 1+1 = 2\n",
    "print(True + False)  #1+0 = 1\n",
    "int(True)            # 1"
   ]
  }
 ],
 "metadata": {
  "kernelspec": {
   "display_name": "Python 3",
   "language": "python",
   "name": "python3"
  },
  "language_info": {
   "codemirror_mode": {
    "name": "ipython",
    "version": 3
   },
   "file_extension": ".py",
   "mimetype": "text/x-python",
   "name": "python",
   "nbconvert_exporter": "python",
   "pygments_lexer": "ipython3",
   "version": "3.8.8"
  }
 },
 "nbformat": 4,
 "nbformat_minor": 5
}
