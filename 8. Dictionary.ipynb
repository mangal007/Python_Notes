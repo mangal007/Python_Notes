{
 "cells": [
  {
   "cell_type": "code",
   "execution_count": 1,
   "id": "c2264340",
   "metadata": {},
   "outputs": [
    {
     "name": "stdout",
     "output_type": "stream",
     "text": [
      "{'emp_name': 'Sanchit', 'emp_id': 441, 'emp_sal': 50000}\n"
     ]
    }
   ],
   "source": [
    "#Dictionary   --  {}\n",
    "\n",
    "#Dictionary - Collection of key:Value pair, elements are seprated by comma\n",
    "#Dictionary is not a seq, so indexing, slicing, concatenation, repetition, is not allowed\n",
    "#You can access values from keys.\n",
    "#you can not access key from value\n",
    "#Dictionary is mutable object\n",
    "#Key are immutable, values are mutuable\n",
    "#Key should be a immutable object like string, tuple, integer\n",
    "#Key can not be duplicated, value can be duplicated\n",
    "emp_dict = {'emp_name':'Sanchit', 'emp_id':441, 'emp_sal':50000}\n",
    "print(emp_dict)\n",
    "print(emp_dict[emp_sal])   #--> Access value using key. Instead of index write key name to access value\n"
   ]
  },
  {
   "cell_type": "code",
   "execution_count": 5,
   "id": "b3d29ecd",
   "metadata": {},
   "outputs": [
    {
     "name": "stdout",
     "output_type": "stream",
     "text": [
      "{1: None, 20.3: 'Learnbay', (20+30j): 900, 'P': 'Pythonn', (1, 2, 3): [10, 20, 30]}\n",
      "20\n"
     ]
    }
   ],
   "source": [
    "my_dict = {1:100, 20.3:200, 20+30j:900, True:None, 'P':'Pythonn', (1,2,3):[10,20,30], 20.3:'Learnbay'}\n",
    "print(my_dict)\n",
    "\n",
    "#Observe value of 1 is updated to None as internally True is 1 so latest value of 1 is None so it updated value of key 1 as None\n",
    "#Similary Value of 20.30 is updated to Learnbay\n",
    "\n",
    "#Access to value 20 in list\n",
    "print(my_dict[(1,2,3)][1])"
   ]
  },
  {
   "cell_type": "code",
   "execution_count": null,
   "id": "7a1c7e38",
   "metadata": {},
   "outputs": [],
   "source": [
    "#Methods to create dictionary\n",
    "1. if you know the key value pair\n",
    "2. Taking dictionary as input"
   ]
  },
  {
   "cell_type": "code",
   "execution_count": 5,
   "id": "3784c1c4",
   "metadata": {},
   "outputs": [
    {
     "name": "stdout",
     "output_type": "stream",
     "text": [
      "{1: 100, 2: 200, 3: 200} <class 'dict'>\n",
      "{0: 'p', 1: 'y', 2: 't', 3: 'h', 4: 'o', 5: 'n'} <class 'dict'>\n",
      "{'e_name': 'sanchit', 'e_id': 'bd101', 'e_sal': 10000} <class 'dict'>\n"
     ]
    }
   ],
   "source": [
    "#Taking dictionary as input\n",
    "# d = eval(input('Enter a dictionary'))\n",
    "# print(d, type(d))\n",
    "\n",
    "#using dict function\n",
    "d = dict([(1,100), (2,200), (3,200)])\n",
    "print(d, type(d))\n",
    "# {1: 100, 2: 200, 3: 200} \n",
    "\n",
    "#using enumerate function\n",
    "d = dict(enumerate('python'))\n",
    "print(d, type(d))\n",
    "# {0: 'p', 1: 'y', 2: 't', 3: 'h', 4: 'o', 5: 'n'}\n",
    "\n",
    "#\n",
    "emp_value = 'sanchit', 'bd101', 10000\n",
    "emp_key = ['e_name', 'e_id', 'e_sal']\n",
    "d = dict(zip(emp_key, emp_value))\n",
    "print(d, type(d))  \n"
   ]
  },
  {
   "cell_type": "code",
   "execution_count": 14,
   "id": "28675e76",
   "metadata": {},
   "outputs": [
    {
     "name": "stdout",
     "output_type": "stream",
     "text": [
      "{'e_name': 'sanchit', 'e_id': 'bd101', 'e_sal': 10000} <class 'dict'>\n",
      "{'e_name': 'Mangal', 'e_id': 'bd101', 'e_sal': 10000}\n",
      "{'e_name': 'Mangal', 'e_id': 'bd101', 'e_sal': 10000, 'e_city': 'bhiwani'}\n"
     ]
    }
   ],
   "source": [
    "#Updating a dictionary\n",
    "\n",
    "emp_value = 'sanchit', 'bd101', 10000\n",
    "emp_key = ['e_name', 'e_id', 'e_sal']\n",
    "d = dict(zip(emp_key, emp_value))\n",
    "print(d, type(d))\n",
    "d['e_name'] = 'Mangal'\n",
    "print(d)  \n",
    "\n",
    "#if key is not present then it will add the new key and given value\n",
    "d['e_city'] = 'bhiwani'\n",
    "print(d)"
   ]
  },
  {
   "cell_type": "code",
   "execution_count": 6,
   "id": "3dc3c468",
   "metadata": {},
   "outputs": [
    {
     "name": "stdout",
     "output_type": "stream",
     "text": [
      "sanchit\n",
      "bd101\n",
      "10000\n"
     ]
    }
   ],
   "source": [
    "#Accessing elemts from dictionary\n",
    "print(d['e_name'])\n",
    "print(d['e_id'])\n",
    "print(d['e_sal'])"
   ]
  },
  {
   "cell_type": "code",
   "execution_count": 11,
   "id": "a4ae8509",
   "metadata": {},
   "outputs": [
    {
     "name": "stdout",
     "output_type": "stream",
     "text": [
      "['__class__', '__contains__', '__delattr__', '__delitem__', '__dir__', '__doc__', '__eq__', '__format__', '__ge__', '__getattribute__', '__getitem__', '__gt__', '__hash__', '__init__', '__init_subclass__', '__iter__', '__le__', '__len__', '__lt__', '__ne__', '__new__', '__reduce__', '__reduce_ex__', '__repr__', '__reversed__', '__setattr__', '__setitem__', '__sizeof__', '__str__', '__subclasshook__', 'clear', 'copy', 'fromkeys', 'get', 'items', 'keys', 'pop', 'popitem', 'setdefault', 'update', 'values']\n"
     ]
    }
   ],
   "source": [
    "print(dir(dict))\n",
    "# 'clear', 'copy', 'fromkeys', 'get', 'items', 'keys', 'pop', 'popitem', 'setdefault', 'update', 'values'"
   ]
  },
  {
   "cell_type": "code",
   "execution_count": 18,
   "id": "32b8c187",
   "metadata": {},
   "outputs": [
    {
     "name": "stdout",
     "output_type": "stream",
     "text": [
      "bhiwani\n",
      "None\n",
      "2\n",
      "{'e_name': 'Mangal', 'e_id': 'bd101', 'e_sal': 10000, 'e_city': 'bhiwani'}\n"
     ]
    }
   ],
   "source": [
    "#get method\n",
    "\n",
    "#get(key) --> It return associated value with the key if key is present else return None if key is not present\n",
    "#get(key, value) --> It return associated value with the key if key is present else return Value if key is not present\n",
    "#get method doesn't make any changes to dictionary\n",
    "emp_det = {'e_name': 'Mangal', 'e_id': 'bd101', 'e_sal': 10000, 'e_city': 'bhiwani'}\n",
    "print(emp_det.get('e_city'))   #--> bhiwani\n",
    "print(emp_det.get('e_adr'))    #---> None\n",
    "print(emp_det.get('e_adr', 'key is not present'))    #--> key is not present\n",
    "print(emp_det)   #--> no changes made to this dict"
   ]
  },
  {
   "cell_type": "code",
   "execution_count": 16,
   "id": "a5a57b30",
   "metadata": {},
   "outputs": [
    {
     "data": {
      "text/plain": [
       "{'s': [0], 'a': [1, 4], 'n': [2], 'c': [3], 'i': [5], 't': [6]}"
      ]
     },
     "execution_count": 16,
     "metadata": {},
     "output_type": "execute_result"
    }
   ],
   "source": [
    "det = {'a':1, 'b':2, 'c':3}\n",
    "det['d'] = det.get('d', [])+[1]\n",
    "det.setdefault('e', [1])\n",
    "det\n",
    "d = {}\n",
    "for i, j in enumerate('sancait'):\n",
    "    d[j] = d.setdefault(j, []) + [i]\n",
    "d\n"
   ]
  },
  {
   "cell_type": "code",
   "execution_count": 8,
   "id": "21a1bfb0",
   "metadata": {},
   "outputs": [
    {
     "data": {
      "text/plain": [
       "{'e_name': 'Mangal',\n",
       " 'e_id': 'bd101',\n",
       " 'e_sal': 10000,\n",
       " 'e_city': 'bhiwani',\n",
       " 'a': [1, 2]}"
      ]
     },
     "execution_count": 8,
     "metadata": {},
     "output_type": "execute_result"
    }
   ],
   "source": [
    "emp_det = {'e_name': 'Mangal', 'e_id': 'bd101', 'e_sal': 10000, 'e_city': 'bhiwani'}\n",
    "emp_det['a'] = emp_det.get('a', []) + [1]\n",
    "emp_det\n",
    "emp_det['a'] = emp_det.get('a', []) + [2]\n",
    "emp_det"
   ]
  },
  {
   "cell_type": "code",
   "execution_count": 23,
   "id": "c2803771",
   "metadata": {},
   "outputs": [
    {
     "name": "stdout",
     "output_type": "stream",
     "text": [
      "bhiwani\n",
      "None\n",
      "None\n",
      "o\n",
      "{'e_name': 'Mangal', 'e_id': 'bd101', 'e_sal': 10000, 'e_city': 'bhiwani', 'e_adr': None, 'e_bg': 'o'}\n"
     ]
    }
   ],
   "source": [
    "#set default method\n",
    "\n",
    "#setdefault(key) --> It return associated value with the key if key is present else return None if key is not present\n",
    "                    #and update dictionary with key:none value\n",
    "#setdefault(key, value) --> It return associated value with the key if key is present else return Value if key is not present\n",
    "                    #and update dictionary with key:value\n",
    "#setdeafult method does make changes to dictionary\n",
    "emp_det = {'e_name': 'Mangal', 'e_id': 'bd101', 'e_sal': 10000, 'e_city': 'bhiwani'}\n",
    "print(emp_det.setdefault('e_city'))   #--> bhiwani\n",
    "print(emp_det.setdefault('e_adr'))    #---> dictionary updated with 'e_adr':None\n",
    "print(emp_det.setdefault('e_adr', 'key is not present'))    #-->None as e_adr is now none\n",
    "print(emp_det.setdefault('e_bg', 'o'))    #-->e_bg:0 is added into dictionary\n",
    "print(emp_det)   #--> no changes made to this dict"
   ]
  },
  {
   "cell_type": "code",
   "execution_count": 3,
   "id": "4d60d8d8",
   "metadata": {},
   "outputs": [
    {
     "name": "stdout",
     "output_type": "stream",
     "text": [
      "{'e_name': 'Mangal', 'e_id': 'bd101', 'e_sal': 10000, 'e_city': 'bhiwani'}\n",
      "{'e_name': 'Mangal', 'e_id': 'bd101', 'e_sal': 10000, 'e_city': 'bhiwani', 'emp_city': 'Delhi', 'emp_status': 'single'}\n",
      "{'e_name': 'Mangal', 'e_id': 'bd101', 'e_sal': 10000, 'e_city': 'bhiwani', 'emp_city': 'Delhi', 'emp_status': 'single', 'emp_bank': 'hdfc'}\n"
     ]
    }
   ],
   "source": [
    "#update --> similar to extend method in list\n",
    "emp_det = {'e_name': 'Mangal', 'e_id': 'bd101', 'e_sal': 10000, 'e_city': 'bhiwani'}\n",
    "print(emp_det)\n",
    "\n",
    "emp_info = {'emp_city':'Delhi', 'emp_status':'single'}\n",
    "emp_det.update(emp_info)\n",
    "print(emp_det)\n",
    "\n",
    "emp_det.update({'emp_bank':'hdfc'})\n",
    "print(emp_det)"
   ]
  },
  {
   "cell_type": "code",
   "execution_count": 29,
   "id": "a7a00d1d",
   "metadata": {},
   "outputs": [
    {
     "name": "stdout",
     "output_type": "stream",
     "text": [
      "{'P': None, 'y': None, 't': None, 'h': None, 'o': None, 'n': None}\n",
      "{1: None, 2: None, 3: None, 4: None}\n",
      "{'P': 10, 'y': 10, 't': 10, 'h': 10, 'o': 10, 'n': 10}\n"
     ]
    }
   ],
   "source": [
    "#fromkeys(iterable, default = None)\n",
    "#creates a dictionary where the elements of iterable will be a key and value is set as none by default\n",
    "\n",
    "d = {}\n",
    "d = d.fromkeys('Python')\n",
    "print(d)\n",
    "# {'P': None, 'y': None, 't': None, 'h': None, 'o': None, 'n': None}\n",
    "\n",
    "d = d.fromkeys((1,2,3,4))\n",
    "print(d)\n",
    "#{1: None, 2: None, 3: None, 4: None}\n",
    "\n",
    "#You can not assign a different value to all keys but you can assign one value to all keys\n",
    "\n",
    "d = {}\n",
    "d = d.fromkeys('Python', 10)\n",
    "print(d)\n",
    "#{'P': 10, 'y': 10, 't': 10, 'h': 10, 'o': 10, 'n': 10}"
   ]
  },
  {
   "cell_type": "code",
   "execution_count": 32,
   "id": "4dc2ade5",
   "metadata": {},
   "outputs": [
    {
     "name": "stdout",
     "output_type": "stream",
     "text": [
      "Mangal\n",
      "{'e_id': 'bd101', 'e_sal': 10000, 'e_city': 'bhiwani'}\n",
      "adr dia nhi hai\n",
      "{'e_id': 'bd101', 'e_sal': 10000, 'e_city': 'bhiwani'}\n"
     ]
    }
   ],
   "source": [
    "#pop, popitem\n",
    "\n",
    "#pop(key) --> if key is available remove key value pair from dictionary and if key is not available the gives key error\n",
    "#pop(key, value) --> if key is available remove key value pair from dictionary and if key is not available the gives value as output\n",
    "\n",
    "emp_det = {'e_name': 'Mangal', 'e_id': 'bd101', 'e_sal': 10000, 'e_city': 'bhiwani'}\n",
    "x = emp_det.pop('e_name')    #-->mangal\n",
    "print(x)\n",
    "print(emp_det)\n",
    "\n",
    "y = emp_det.pop('e_adr', 'adr dia nhi hai')\n",
    "print(y)\n",
    "print(emp_det)"
   ]
  },
  {
   "cell_type": "code",
   "execution_count": 34,
   "id": "946cb69f",
   "metadata": {},
   "outputs": [
    {
     "name": "stdout",
     "output_type": "stream",
     "text": [
      "('e_city', 'bhiwani')\n",
      "{'e_name': 'Mangal', 'e_id': 'bd101', 'e_sal': 10000}\n"
     ]
    }
   ],
   "source": [
    "#popitem\n",
    "\n",
    "#popitem() --> by default remove last key:value pair\n",
    "\n",
    "emp_det = {'e_name': 'Mangal', 'e_id': 'bd101', 'e_sal': 10000, 'e_city': 'bhiwani'}\n",
    "x = emp_det.popitem()    #-->('e_city', 'bhiwani')\n",
    "print(x)\n",
    "print(emp_det)"
   ]
  },
  {
   "cell_type": "code",
   "execution_count": 40,
   "id": "1ce4fc1a",
   "metadata": {},
   "outputs": [
    {
     "name": "stdout",
     "output_type": "stream",
     "text": [
      "dict_keys(['e_name', 'e_id', 'e_sal', 'e_city'])\n",
      "['e_name', 'e_id', 'e_sal', 'e_city']\n",
      "['Mangal', 'bd101', 10000, 'bhiwani']\n",
      "[('e_name', 'Mangal'), ('e_id', 'bd101'), ('e_sal', 10000), ('e_city', 'bhiwani')]\n"
     ]
    }
   ],
   "source": [
    "#items,   keys,   values\n",
    "emp_det = {'e_name': 'Mangal', 'e_id': 'bd101', 'e_sal': 10000, 'e_city': 'bhiwani'}\n",
    "\n",
    "#to access keys of dictionary\n",
    "print(emp_det.keys())\n",
    "#dict_keys(['e_name', 'e_id', 'e_sal', 'e_city'])\n",
    "\n",
    "\n",
    "#to access keys of dictionary in list format\n",
    "print(list(emp_det.keys()))\n",
    "#['e_name', 'e_id', 'e_sal', 'e_city']\n",
    "\n",
    "#to access values of dictionary in list format\n",
    "print(list(emp_det.values()))\n",
    "#['Mangal', 'bd101', 10000, 'bhiwani']\n",
    "\n",
    "#to access both key values of dictionary in list format\n",
    "print(list(emp_det.items()))\n",
    "#[('e_name', 'Mangal'), ('e_id', 'bd101'), ('e_sal', 10000), ('e_city', 'bhiwani')]\n",
    "\n",
    "#Then loops can be applied on them"
   ]
  },
  {
   "cell_type": "code",
   "execution_count": 8,
   "id": "1cbc9baa",
   "metadata": {},
   "outputs": [
    {
     "name": "stdout",
     "output_type": "stream",
     "text": [
      "e_name\n",
      "e_id\n",
      "e_sal\n",
      "e_city\n"
     ]
    }
   ],
   "source": [
    "emp_det = {'e_name': 'Mangal', 'e_id': 'bd101', 'e_sal': 10000, 'e_city': 'bhiwani'}\n",
    "\n",
    "for i in emp_det.keys():\n",
    "    print(i)"
   ]
  },
  {
   "cell_type": "code",
   "execution_count": 13,
   "id": "6654deab",
   "metadata": {},
   "outputs": [
    {
     "name": "stdout",
     "output_type": "stream",
     "text": [
      "190 24 sanchit 150 25 mangal "
     ]
    }
   ],
   "source": [
    "data = {'emp1':{'name':'sanchit', 'age':24, 'id':190}, 'emp2':{'name':'mangal', 'age':25, 'id':150}}\n",
    "for i in data.values():\n",
    "    print(i['id'], end = ' ')\n",
    "    print(i['age'], end = ' ')\n",
    "    print(i['name'], end = ' ')    "
   ]
  },
  {
   "cell_type": "code",
   "execution_count": 14,
   "id": "c6762b87",
   "metadata": {},
   "outputs": [
    {
     "name": "stdout",
     "output_type": "stream",
     "text": [
      "emp1\n",
      "{'name': 'sanchit', 'age': 24, 'id': 190}\n",
      "emp2\n",
      "{'name': 'mangal', 'age': 25, 'id': 150}\n"
     ]
    }
   ],
   "source": [
    "data = {'emp1':{'name':'sanchit', 'age':24, 'id':190}, 'emp2':{'name':'mangal', 'age':25, 'id':150}}\n",
    "for i, j in data.items():\n",
    "    print(i)             #---> Unpacking concept of tuple....so this will give key\n",
    "    print(j)             #---> This will give values\n",
    "\n",
    "#Unpacking    \n",
    "#i, j = 'emp1':{'name':'sanchit', 'age':24, 'id':190}, \n",
    "    "
   ]
  },
  {
   "cell_type": "code",
   "execution_count": 41,
   "id": "596e77e9",
   "metadata": {},
   "outputs": [
    {
     "name": "stdout",
     "output_type": "stream",
     "text": [
      "{}\n"
     ]
    }
   ],
   "source": [
    "#Clear - Clear the list\n",
    "emp_det = {'e_name': 'Mangal', 'e_id': 'bd101', 'e_sal': 10000, 'e_city': 'bhiwani'}\n",
    "emp_det.clear()\n",
    "print(emp_det)\n"
   ]
  },
  {
   "cell_type": "code",
   "execution_count": 42,
   "id": "87c7ef3b",
   "metadata": {},
   "outputs": [
    {
     "data": {
      "text/plain": [
       "{'abc': 'gmail', 'xyz': 'gmail', 'efgh': 'yahoo'}"
      ]
     },
     "execution_count": 42,
     "metadata": {},
     "output_type": "execute_result"
    }
   ],
   "source": [
    "#Dictionary comprehension we use {} brackets\n",
    "\n",
    "#key:value for ele in iterable\n",
    "\n",
    "mail_lst = ['abc@gmail.com', 'xyz@gmail.com', 'efgh@yahoo.com']\n",
    "\n",
    "print({mail_lst[i][:mail_lst[i].index('@')] : mail_lst[i][mail_lst[i].index('@')+1:mail_lst[i].index('.')] for i in range(3)})"
   ]
  },
  {
   "cell_type": "code",
   "execution_count": 17,
   "id": "38de0983",
   "metadata": {},
   "outputs": [
    {
     "name": "stdout",
     "output_type": "stream",
     "text": [
      "{1: 1, 2: 4, 3: 9, 4: 16} <class 'dict'>\n",
      "4\n"
     ]
    }
   ],
   "source": [
    "a = [1,2,3,4]\n",
    "\n",
    "d = {i:i**2 for i in a}\n",
    "print(d, type(d))\n",
    "#Length function can be used on dictionary.\n",
    "print(len(d))    "
   ]
  },
  {
   "cell_type": "code",
   "execution_count": 10,
   "id": "bddd4a0b",
   "metadata": {},
   "outputs": [
    {
     "name": "stdout",
     "output_type": "stream",
     "text": [
      "Enter a key(1,2,3,4)\n",
      "Enter a value(100,200,300,400)\n",
      "{1: 100, 2: 200, 3: 300, 4: 400}\n"
     ]
    }
   ],
   "source": [
    "key = eval(input(\"Enter a key\"))\n",
    "value = eval(input(\"Enter a value\"))\n",
    "\n",
    "dicti = dict(zip(key, value))\n",
    "print(dicti)"
   ]
  },
  {
   "cell_type": "code",
   "execution_count": null,
   "id": "f6c3c7b9",
   "metadata": {},
   "outputs": [],
   "source": []
  },
  {
   "cell_type": "code",
   "execution_count": null,
   "id": "97938d56",
   "metadata": {},
   "outputs": [],
   "source": []
  },
  {
   "cell_type": "code",
   "execution_count": null,
   "id": "227c6996",
   "metadata": {},
   "outputs": [],
   "source": []
  },
  {
   "cell_type": "code",
   "execution_count": null,
   "id": "4633e98d",
   "metadata": {},
   "outputs": [],
   "source": []
  },
  {
   "cell_type": "code",
   "execution_count": null,
   "id": "71fe3f63",
   "metadata": {},
   "outputs": [],
   "source": []
  },
  {
   "cell_type": "code",
   "execution_count": null,
   "id": "e035dc2a",
   "metadata": {},
   "outputs": [],
   "source": []
  },
  {
   "cell_type": "code",
   "execution_count": null,
   "id": "b3910b9d",
   "metadata": {},
   "outputs": [],
   "source": []
  },
  {
   "cell_type": "code",
   "execution_count": null,
   "id": "0f9a77dc",
   "metadata": {},
   "outputs": [],
   "source": []
  },
  {
   "cell_type": "code",
   "execution_count": 2,
   "id": "3b722d02",
   "metadata": {},
   "outputs": [
    {
     "data": {
      "text/plain": [
       "{'a': 1, 'b': 2, 'c': 3, 'd': 4, 'e': 5, 'f': 6}"
      ]
     },
     "execution_count": 2,
     "metadata": {},
     "output_type": "execute_result"
    }
   ],
   "source": [
    "list_1 = ['a', 'b', 'c', 'd', 'e', 'f']\n",
    "list_2 =[1,2,3,4,5,6]\n",
    "dict(zip(list_1, list_2))"
   ]
  },
  {
   "cell_type": "code",
   "execution_count": 26,
   "id": "63651e6f",
   "metadata": {},
   "outputs": [
    {
     "name": "stdout",
     "output_type": "stream",
     "text": [
      "1726839577088\n",
      "140731100769456\n",
      "{'a': 3, 'b': 43, 'c': 3, 'd': 4, 'e': 5, 'f': 6}\n",
      "1726839577088\n",
      "140731100769392\n"
     ]
    },
    {
     "data": {
      "text/plain": [
       "-1"
      ]
     },
     "execution_count": 26,
     "metadata": {},
     "output_type": "execute_result"
    }
   ],
   "source": [
    "dic = {'a': 1, 'b': {'dcd' : 45, 'de' : 467}, 'c': 3, 'd': 4, 'e': 5, 'f': 6}\n",
    "print(id(dic))\n",
    "print(id(dic['b']['dcd']))\n",
    "dic['a'] = 3\n",
    "dic['b'] = 43\n",
    "print(dic)\n",
    "print(id(dic))\n",
    "print(id(dic['b']))\n",
    "dic.get('g', -1)"
   ]
  },
  {
   "cell_type": "code",
   "execution_count": null,
   "id": "7f75f7d0",
   "metadata": {},
   "outputs": [],
   "source": [
    "print((12*i for i in range(10))"
   ]
  },
  {
   "cell_type": "code",
   "execution_count": null,
   "id": "1ebcd277",
   "metadata": {},
   "outputs": [],
   "source": [
    "a = [10,20,30,40,50]"
   ]
  },
  {
   "cell_type": "code",
   "execution_count": 32,
   "id": "9c1ea76b",
   "metadata": {},
   "outputs": [
    {
     "name": "stdout",
     "output_type": "stream",
     "text": [
      "10 - 0\n",
      "20 - 1\n",
      "30 - 2\n",
      "40 - 3\n",
      "50 - 4\n"
     ]
    }
   ],
   "source": [
    "a = [10,20,30,40,50]\n",
    "for i in range(len(a)):\n",
    "    print(f'{a[i]} - {i}')\n"
   ]
  },
  {
   "cell_type": "code",
   "execution_count": 73,
   "id": "2777145b",
   "metadata": {},
   "outputs": [
    {
     "name": "stdout",
     "output_type": "stream",
     "text": [
      "10 - 0\n",
      "20 - 1\n",
      "30 - 2\n",
      "40 - 3\n",
      "50 - 4\n"
     ]
    }
   ],
   "source": [
    "a = [10,20,30,40,50]\n",
    "x = 0\n",
    "for i in a:\n",
    "    print(i,'-', x)\n",
    "    x = x+1\n"
   ]
  },
  {
   "cell_type": "code",
   "execution_count": null,
   "id": "7e901efc",
   "metadata": {},
   "outputs": [],
   "source": [
    "data = 'python'\n",
    "i*data[i]"
   ]
  },
  {
   "cell_type": "code",
   "execution_count": 48,
   "id": "2c8419e3",
   "metadata": {},
   "outputs": [
    {
     "name": "stdout",
     "output_type": "stream",
     "text": [
      "p\n",
      "yy\n",
      "ttt\n",
      "hhhh\n",
      "ooooo\n",
      "nnnnnn\n"
     ]
    }
   ],
   "source": [
    "data = 'python'\n",
    "i=0\n",
    "while i<len(data):\n",
    "    print((i+1)*data[i])\n",
    "    i = i+1"
   ]
  },
  {
   "cell_type": "code",
   "execution_count": 63,
   "id": "471cb05c",
   "metadata": {},
   "outputs": [
    {
     "name": "stdout",
     "output_type": "stream",
     "text": [
      "nnnnnn\n",
      "ooooo\n",
      "hhhh\n",
      "ttt\n",
      "yy\n",
      "p\n",
      "\n"
     ]
    }
   ],
   "source": [
    "data = 'python'\n",
    "i=len(data)\n",
    "while i>=0:\n",
    "    print((i)*data[i-1])\n",
    "    i = i-1"
   ]
  },
  {
   "cell_type": "code",
   "execution_count": 68,
   "id": "7ed2d5a9",
   "metadata": {},
   "outputs": [
    {
     "name": "stdout",
     "output_type": "stream",
     "text": [
      "nnnnnn\n",
      "ooooo\n",
      "hhhh\n",
      "ttt\n",
      "yy\n",
      "p\n"
     ]
    }
   ],
   "source": [
    "data = 'python'\n",
    "x = len(data)\n",
    "for i in data:\n",
    "    print(data[x-1]*(x))\n",
    "    x = x-1"
   ]
  }
 ],
 "metadata": {
  "kernelspec": {
   "display_name": "Python 3",
   "language": "python",
   "name": "python3"
  },
  "language_info": {
   "codemirror_mode": {
    "name": "ipython",
    "version": 3
   },
   "file_extension": ".py",
   "mimetype": "text/x-python",
   "name": "python",
   "nbconvert_exporter": "python",
   "pygments_lexer": "ipython3",
   "version": "3.8.8"
  }
 },
 "nbformat": 4,
 "nbformat_minor": 5
}
