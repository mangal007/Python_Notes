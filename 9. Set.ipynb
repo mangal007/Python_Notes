{
 "cells": [
  {
   "cell_type": "code",
   "execution_count": null,
   "id": "6448b9b1",
   "metadata": {},
   "outputs": [],
   "source": [
    "#Set Data types\n",
    "\n",
    "# Collection of values but it is not a seq\n",
    "# Indexing and slicing is not possible\n",
    "# Collection of unique elements\n",
    "# immutable\n",
    "# It is unordered. output can be in any order."
   ]
  },
  {
   "cell_type": "code",
   "execution_count": 1,
   "id": "019b566d",
   "metadata": {},
   "outputs": [
    {
     "data": {
      "text/plain": [
       "set"
      ]
     },
     "execution_count": 1,
     "metadata": {},
     "output_type": "execute_result"
    }
   ],
   "source": [
    "type({1,2,3,4,5})"
   ]
  },
  {
   "cell_type": "code",
   "execution_count": 5,
   "id": "b113b9ae",
   "metadata": {},
   "outputs": [
    {
     "name": "stdout",
     "output_type": "stream",
     "text": [
      "{1, 2, 3, 100, 4, 91}\n"
     ]
    }
   ],
   "source": [
    "a = {1,3,4,2,100,91}\n",
    "print(a)"
   ]
  },
  {
   "cell_type": "code",
   "execution_count": 6,
   "id": "34444fef",
   "metadata": {},
   "outputs": [
    {
     "name": "stdout",
     "output_type": "stream",
     "text": [
      "{1, 2, 3, '1'}\n"
     ]
    }
   ],
   "source": [
    "a = {'1', 1, 1, 2,2,2,3}\n",
    "print(a)"
   ]
  },
  {
   "cell_type": "code",
   "execution_count": 7,
   "id": "dfbe86ad",
   "metadata": {},
   "outputs": [
    {
     "name": "stdout",
     "output_type": "stream",
     "text": [
      "{0, 1, 'False', 'true'}\n"
     ]
    }
   ],
   "source": [
    "a = {0,0,1,1,'true', True, False, 'False'}\n",
    "#How many data types and how many values will come in output\n",
    "\n",
    "# True and False are 0 and 1 behind the scene. \n",
    "\n",
    "# so output will be 0,1,'true', 'false'\n",
    "\n",
    "print(a)"
   ]
  },
  {
   "cell_type": "code",
   "execution_count": null,
   "id": "f2f26009",
   "metadata": {},
   "outputs": [],
   "source": []
  },
  {
   "cell_type": "code",
   "execution_count": null,
   "id": "4639575c",
   "metadata": {},
   "outputs": [],
   "source": []
  },
  {
   "cell_type": "code",
   "execution_count": null,
   "id": "eb3c33bd",
   "metadata": {},
   "outputs": [],
   "source": []
  }
 ],
 "metadata": {
  "kernelspec": {
   "display_name": "Python 3",
   "language": "python",
   "name": "python3"
  },
  "language_info": {
   "codemirror_mode": {
    "name": "ipython",
    "version": 3
   },
   "file_extension": ".py",
   "mimetype": "text/x-python",
   "name": "python",
   "nbconvert_exporter": "python",
   "pygments_lexer": "ipython3",
   "version": "3.8.8"
  }
 },
 "nbformat": 4,
 "nbformat_minor": 5
}
