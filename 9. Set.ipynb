{
 "cells": [
  {
   "cell_type": "code",
   "execution_count": null,
   "id": "6448b9b1",
   "metadata": {},
   "outputs": [],
   "source": [
    "#Set Data types\n",
    "\n",
    "# Collection of values but it is not a seq\n",
    "# Indexing and slicing is not possible\n",
    "# Collection of unique elements\n",
    "# immutable\n",
    "# It is unordered. output can be in any order."
   ]
  },
  {
   "cell_type": "code",
   "execution_count": 1,
   "id": "019b566d",
   "metadata": {},
   "outputs": [
    {
     "data": {
      "text/plain": [
       "set"
      ]
     },
     "execution_count": 1,
     "metadata": {},
     "output_type": "execute_result"
    }
   ],
   "source": [
    "type({1,2,3,4,5})"
   ]
  },
  {
   "cell_type": "code",
   "execution_count": 5,
   "id": "b113b9ae",
   "metadata": {},
   "outputs": [
    {
     "name": "stdout",
     "output_type": "stream",
     "text": [
      "{1, 2, 3, 100, 4, 91}\n"
     ]
    }
   ],
   "source": [
    "a = {1,3,4,2,100,91}\n",
    "print(a)"
   ]
  },
  {
   "cell_type": "code",
   "execution_count": 6,
   "id": "34444fef",
   "metadata": {},
   "outputs": [
    {
     "name": "stdout",
     "output_type": "stream",
     "text": [
      "{1, 2, 3, '1'}\n"
     ]
    }
   ],
   "source": [
    "a = {'1', 1, 1, 2,2,2,3}\n",
    "print(a)"
   ]
  },
  {
   "cell_type": "code",
   "execution_count": 7,
   "id": "dfbe86ad",
   "metadata": {},
   "outputs": [
    {
     "name": "stdout",
     "output_type": "stream",
     "text": [
      "{0, 1, 'False', 'true'}\n"
     ]
    }
   ],
   "source": [
    "a = {0,0,1,1,'true', True, False, 'False'}\n",
    "#How many data types and how many values will come in output\n",
    "\n",
    "# True and False are 0 and 1 behind the scene. \n",
    "\n",
    "# so output will be 0,1,'true', 'false'\n",
    "\n",
    "print(a)"
   ]
  },
  {
   "cell_type": "code",
   "execution_count": 2,
   "id": "f2f26009",
   "metadata": {},
   "outputs": [
    {
     "ename": "SyntaxError",
     "evalue": "invalid syntax (<ipython-input-2-5bdb834db97e>, line 3)",
     "output_type": "error",
     "traceback": [
      "\u001b[1;36m  File \u001b[1;32m\"<ipython-input-2-5bdb834db97e>\"\u001b[1;36m, line \u001b[1;32m3\u001b[0m\n\u001b[1;33m    a)\u001b[0m\n\u001b[1;37m    ^\u001b[0m\n\u001b[1;31mSyntaxError\u001b[0m\u001b[1;31m:\u001b[0m invalid syntax\n"
     ]
    }
   ],
   "source": [
    "python_students = [['Harry', 37.21], ['Berry', 37.21], ['Tina', 37.2], ['Akriti', 41], ['Harsh', 39]]\n",
    "a = list(set(python_students)\n",
    "a)"
   ]
  },
  {
   "cell_type": "code",
   "execution_count": null,
   "id": "4639575c",
   "metadata": {},
   "outputs": [],
   "source": []
  },
  {
   "cell_type": "code",
   "execution_count": null,
   "id": "eb3c33bd",
   "metadata": {},
   "outputs": [],
   "source": []
  }
 ],
 "metadata": {
  "kernelspec": {
   "display_name": "Python 3",
   "language": "python",
   "name": "python3"
  },
  "language_info": {
   "codemirror_mode": {
    "name": "ipython",
    "version": 3
   },
   "file_extension": ".py",
   "mimetype": "text/x-python",
   "name": "python",
   "nbconvert_exporter": "python",
   "pygments_lexer": "ipython3",
   "version": "3.8.8"
  }
 },
 "nbformat": 4,
 "nbformat_minor": 5
}
